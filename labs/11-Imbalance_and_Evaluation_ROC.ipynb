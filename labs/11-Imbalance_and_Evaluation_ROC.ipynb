{
 "cells": [
  {
   "cell_type": "markdown",
   "metadata": {},
   "source": [
    "## First!  Let's make sure we can undersample!\n",
    "\n",
    "https://github.com/glemaitre/UnbalancedDataset\n",
    "\n",
    "** Let's install UnbalancedDataset: **\n",
    "\n",
    "```\n",
    "git clone https://github.com/fmfn/UnbalancedDataset.git\n",
    "cd UnbalancedDataset\n",
    "python setup.py install\n",
    "```\n",
    "\n",
    "####Then restart kernel\n"
   ]
  },
  {
   "cell_type": "markdown",
   "metadata": {},
   "source": [
    "Data is from: https://archive.ics.uci.edu/ml/datasets/Energy+efficiency\n",
    "\n",
    "From UCI:\n",
    "\n",
    "###Data Set Information:\n",
    "\n",
    "\n",
    "We perform energy analysis using 12 different building shapes simulated in Ecotect. The buildings differ with respect to the glazing area, the glazing area distribution, and the orientation, amongst other parameters. We simulate various settings as functions of the afore-mentioned characteristics to obtain 768 building shapes. The dataset comprises 768 samples and 8 features, aiming to predict two real valued responses. It can also be used as a multi-class classification problem if the response is rounded to the nearest integer.\n",
    "\n",
    "\n",
    "###Attribute Information:\n",
    "\n",
    "The dataset contains eight attributes (or features, denoted by X1...X8) and two responses (or outcomes, denoted by y1 and y2). The aim is to use the eight features to predict each of the two responses. \n",
    "\n",
    "\n",
    "Specifically: \n",
    "- X1\tRelative Compactness \n",
    "- X2\tSurface Area \n",
    "- X3\tWall Area \n",
    "- X4\tRoof Area \n",
    "- X5\tOverall Height \n",
    "- X6\tOrientation \n",
    "- X7\tGlazing Area \n",
    "- X8\tGlazing Area Distribution \n",
    "- y1\tHeating Load \n",
    "- y2\tCooling Load\n",
    "\n",
    "\n",
    "Heating load is heat energy to be put into a heating system via heating apparatus.\n",
    "\n",
    "\n",
    "Cooling load is the amount of heat energy to be removed from a building by the HVAC equipment to maintain the house at indoor design temperature when worst case outdoor design temperature is being experienced.\n",
    "\n",
    "\n",
    "\n",
    "NOTE: For this lab - we will mostly be looking at this as a classification problem - identifying building features that lead to \"high\" heating loads."
   ]
  },
  {
   "cell_type": "code",
   "execution_count": 1,
   "metadata": {
    "collapsed": false
   },
   "outputs": [
    {
     "ename": "ImportError",
     "evalue": "cannot import name UnderSampler",
     "output_type": "error",
     "traceback": [
      "\u001b[0;31m---------------------------------------------------------------------------\u001b[0m",
      "\u001b[0;31mImportError\u001b[0m                               Traceback (most recent call last)",
      "\u001b[0;32m<ipython-input-1-a8d166af3a89>\u001b[0m in \u001b[0;36m<module>\u001b[0;34m()\u001b[0m\n\u001b[1;32m     11\u001b[0m \u001b[0;32mfrom\u001b[0m \u001b[0msklearn\u001b[0m\u001b[0;34m.\u001b[0m\u001b[0mneighbors\u001b[0m \u001b[0;32mimport\u001b[0m \u001b[0mKNeighborsClassifier\u001b[0m\u001b[0;34m\u001b[0m\u001b[0m\n\u001b[1;32m     12\u001b[0m \u001b[0;34m\u001b[0m\u001b[0m\n\u001b[0;32m---> 13\u001b[0;31m \u001b[0;32mfrom\u001b[0m \u001b[0munbalanced_dataset\u001b[0m \u001b[0;32mimport\u001b[0m \u001b[0mUnderSampler\u001b[0m\u001b[0;34m,\u001b[0m \u001b[0mOverSampler\u001b[0m\u001b[0;34m,\u001b[0m \u001b[0mSMOTE\u001b[0m\u001b[0;34m\u001b[0m\u001b[0m\n\u001b[0m\u001b[1;32m     14\u001b[0m \u001b[0;31m# import unblanaced_dataset\u001b[0m\u001b[0;34m\u001b[0m\u001b[0;34m\u001b[0m\u001b[0m\n\u001b[1;32m     15\u001b[0m \u001b[0;34m\u001b[0m\u001b[0m\n",
      "\u001b[0;31mImportError\u001b[0m: cannot import name UnderSampler"
     ]
    }
   ],
   "source": [
    "import pandas as pd, numpy as np\n",
    "\n",
    "from sklearn.metrics import roc_curve\n",
    "from sklearn.metrics import auc\n",
    "\n",
    "from sklearn.linear_model import LogisticRegression\n",
    "from sklearn.metrics import classification_report,confusion_matrix\n",
    "from sklearn.cross_validation import ShuffleSplit\n",
    "from sklearn.cross_validation import cross_val_score\n",
    "from sklearn.cross_validation import train_test_split \n",
    "from sklearn.neighbors import KNeighborsClassifier\n",
    "\n",
    "from unbalanced_dataset import UnderSampler, OverSampler, SMOTE\n",
    "# import unblanaced_dataset\n",
    "\n",
    "from bokeh.plotting import figure,show,output_notebook\n",
    "from bokeh.models import Range1d\n",
    "output_notebook()\n",
    "\n",
    "import seaborn as sns\n",
    "\n",
    "%matplotlib inline"
   ]
  },
  {
   "cell_type": "code",
   "execution_count": 73,
   "metadata": {
    "collapsed": true
   },
   "outputs": [],
   "source": [
    "sns.set_style(\"darkgrid\")"
   ]
  },
  {
   "cell_type": "code",
   "execution_count": 74,
   "metadata": {
    "collapsed": false
   },
   "outputs": [
    {
     "name": "stdout",
     "output_type": "stream",
     "text": [
      "<class 'pandas.core.frame.DataFrame'>\n",
      "Int64Index: 768 entries, 0 to 767\n",
      "Data columns (total 10 columns):\n",
      "rel_compact          768 non-null float64\n",
      "surface              768 non-null float64\n",
      "wall                 768 non-null float64\n",
      "roof                 768 non-null float64\n",
      "height               768 non-null float64\n",
      "orientation          768 non-null int64\n",
      "glazing_area         768 non-null float64\n",
      "glazing_area_dist    768 non-null int64\n",
      "heating_load         768 non-null float64\n",
      "cooling_load         768 non-null float64\n",
      "dtypes: float64(8), int64(2)\n",
      "memory usage: 66.0 KB\n"
     ]
    }
   ],
   "source": [
    "en = pd.read_csv('../data/ENB2012_data.csv',header=0)\n",
    "en.info()"
   ]
  },
  {
   "cell_type": "code",
   "execution_count": 75,
   "metadata": {
    "collapsed": false
   },
   "outputs": [
    {
     "data": {
      "text/html": [
       "<div>\n",
       "<table border=\"1\" class=\"dataframe\">\n",
       "  <thead>\n",
       "    <tr style=\"text-align: right;\">\n",
       "      <th></th>\n",
       "      <th>count</th>\n",
       "      <th>mean</th>\n",
       "      <th>std</th>\n",
       "      <th>min</th>\n",
       "      <th>25%</th>\n",
       "      <th>50%</th>\n",
       "      <th>75%</th>\n",
       "      <th>max</th>\n",
       "    </tr>\n",
       "  </thead>\n",
       "  <tbody>\n",
       "    <tr>\n",
       "      <th>heating_load</th>\n",
       "      <td>768</td>\n",
       "      <td>22.290365</td>\n",
       "      <td>10.113325</td>\n",
       "      <td>6</td>\n",
       "      <td>13</td>\n",
       "      <td>19</td>\n",
       "      <td>32</td>\n",
       "      <td>43</td>\n",
       "    </tr>\n",
       "    <tr>\n",
       "      <th>cooling_load</th>\n",
       "      <td>768</td>\n",
       "      <td>24.579427</td>\n",
       "      <td>9.520797</td>\n",
       "      <td>11</td>\n",
       "      <td>16</td>\n",
       "      <td>22</td>\n",
       "      <td>33</td>\n",
       "      <td>48</td>\n",
       "    </tr>\n",
       "  </tbody>\n",
       "</table>\n",
       "</div>"
      ],
      "text/plain": [
       "              count       mean        std  min  25%  50%  75%  max\n",
       "heating_load    768  22.290365  10.113325    6   13   19   32   43\n",
       "cooling_load    768  24.579427   9.520797   11   16   22   33   48"
      ]
     },
     "execution_count": 75,
     "metadata": {},
     "output_type": "execute_result"
    }
   ],
   "source": [
    "en[['heating_load','cooling_load']].describe().T"
   ]
  },
  {
   "cell_type": "code",
   "execution_count": 76,
   "metadata": {
    "collapsed": false
   },
   "outputs": [
    {
     "data": {
      "text/plain": [
       "<matplotlib.axes._subplots.AxesSubplot at 0x110f50d10>"
      ]
     },
     "execution_count": 76,
     "metadata": {},
     "output_type": "execute_result"
    },
    {
     "data": {
      "image/png": "[encoded data removed]",
      "text/plain": [
       "<matplotlib.figure.Figure at 0x110ea5690>"
      ]
     },
     "metadata": {},
     "output_type": "display_data"
    }
   ],
   "source": [
    "en.heating_load.plot(kind='box', figsize=(10,5))"
   ]
  },
  {
   "cell_type": "markdown",
   "metadata": {},
   "source": [
    "## Exercize !\n",
    "\n",
    "Say we wanted to predict whether or not a building has a high heating load (>= 40). We would then create a new feature where heating_load is greater than or equal to 40:\n",
    "\n",
    "*_You can create new feautres by referencing a new key in your dataframe for this exercize._\n"
   ]
  },
  {
   "cell_type": "code",
   "execution_count": 45,
   "metadata": {
    "collapsed": false
   },
   "outputs": [],
   "source": [
    "## This is important to reference later so we can use it as a threshold\n",
    "# Solution here:\n",
    "\n",
    "en['high_heat'] = ???????\n",
    "\n"
   ]
  },
  {
   "cell_type": "markdown",
   "metadata": {},
   "source": []
  },
  {
   "cell_type": "markdown",
   "metadata": {},
   "source": [
    "How does our data set look now in terms of this target label:"
   ]
  },
  {
   "cell_type": "code",
   "execution_count": 46,
   "metadata": {
    "collapsed": false
   },
   "outputs": [
    {
     "name": "stdout",
     "output_type": "stream",
     "text": [
      "Mean value: 0.060\n",
      "\n",
      "Value Counts: \n"
     ]
    },
    {
     "data": {
      "text/plain": [
       "False    722\n",
       "True      46\n",
       "Name: high_heat, dtype: int64"
      ]
     },
     "execution_count": 46,
     "metadata": {},
     "output_type": "execute_result"
    }
   ],
   "source": [
    "print \"Mean value: {:.03f}\".format(en['high_heat'].mean())\n",
    "print \"\\nValue Counts: \"\n",
    "\n",
    "en.high_heat.value_counts()"
   ]
  },
  {
   "cell_type": "markdown",
   "metadata": {},
   "source": [
    "Let's classify! We'll use K nearest neighbors to see how well we do :D"
   ]
  },
  {
   "cell_type": "markdown",
   "metadata": {},
   "source": [
    "## Exercize !\n",
    "\n",
    "Build a KNN model with 5 neighbors, then check out the cross validation score."
   ]
  },
  {
   "cell_type": "code",
   "execution_count": null,
   "metadata": {
    "collapsed": false
   },
   "outputs": [],
   "source": [
    "# Use this data\n",
    "data = en.iloc[:,:-2]\n",
    "labels = en['high_heat']\n",
    "\n"
   ]
  },
  {
   "cell_type": "markdown",
   "metadata": {},
   "source": [
    "Hooray! ??% is great right? Well, the leading question might be giving the game away here: ??% is a good overall score but if our goal is to properly predict a High Heating Load building, then we'll need a bit more info. In classification, a confusion matrix is a way of showing finer detail of our classifier performance.\n",
    "\n",
    "To get a confusion matrix, we need to look at only a single train/test split. So lets do that: "
   ]
  },
  {
   "cell_type": "code",
   "execution_count": 50,
   "metadata": {
    "collapsed": false
   },
   "outputs": [],
   "source": [
    "data = en.iloc[:,:-2]\n",
    "labels = en['high_heat']\n",
    "\n",
    "X_train, X_test, Y_train, Y_test = train_test_split(data, labels, test_size=0.2, random_state=1)  \n",
    "\n",
    "# Build the classifier and get the predictions\n",
    "model_knn = KNeighborsClassifier(5)\n",
    "\n",
    "model_knn.fit(X_train, Y_train)  \n",
    "predictions = model_knn.predict(X_test)"
   ]
  },
  {
   "cell_type": "markdown",
   "metadata": {},
   "source": [
    "### Confusion Matrix\n",
    "The confusion matrix shows the predicted values along the columns and the actual values along the rows. \n",
    "\n",
    "\n",
    "Sklearn defaults to alphabetical order so the Columns would read `False, True` as would our rows. These yield our **False Positives** (here we have 1 data point where we said the data point was `True` and it was `False`) and our **False Negatives** (6 predicted `False` but actually `True`). Our **True Positives** = 9.\n",
    "Illustrated more cleanly:"
   ]
  },
  {
   "cell_type": "code",
   "execution_count": 51,
   "metadata": {
    "collapsed": false
   },
   "outputs": [
    {
     "name": "stdout",
     "output_type": "stream",
     "text": [
      "[[141   4]\n",
      " [  0   9]]\n"
     ]
    }
   ],
   "source": [
    "cm = confusion_matrix(Y_test,predictions)\n",
    "print cm"
   ]
  },
  {
   "cell_type": "code",
   "execution_count": 53,
   "metadata": {
    "collapsed": false
   },
   "outputs": [
    {
     "data": {
      "text/html": [
       "<div>\n",
       "<table border=\"1\" class=\"dataframe\">\n",
       "  <thead>\n",
       "    <tr style=\"text-align: right;\">\n",
       "      <th></th>\n",
       "      <th>Actual Class 0</th>\n",
       "      <th>Actual Class 1</th>\n",
       "    </tr>\n",
       "  </thead>\n",
       "  <tbody>\n",
       "    <tr>\n",
       "      <th>Predicted Class 0</th>\n",
       "      <td>141</td>\n",
       "      <td>4</td>\n",
       "    </tr>\n",
       "    <tr>\n",
       "      <th>Predicted Class 1</th>\n",
       "      <td>0</td>\n",
       "      <td>9</td>\n",
       "    </tr>\n",
       "  </tbody>\n",
       "</table>\n",
       "</div>"
      ],
      "text/plain": [
       "                   Actual Class 0  Actual Class 1\n",
       "Predicted Class 0             141               4\n",
       "Predicted Class 1               0               9"
      ]
     },
     "execution_count": 53,
     "metadata": {},
     "output_type": "execute_result"
    }
   ],
   "source": [
    "#lets make that easier to read\n",
    "cm_df = pd.DataFrame(cm, index=['Predicted Class 0', 'Predicted Class 1'], \n",
    "                     columns=['Actual Class 0', 'Actual Class 1'])\n",
    "\n",
    "cm_df"
   ]
  },
  {
   "cell_type": "markdown",
   "metadata": {},
   "source": []
  },
  {
   "cell_type": "markdown",
   "metadata": {},
   "source": [
    "## Exercize !\n",
    "\n",
    "To get a sense about how different settings and models perform."
   ]
  },
  {
   "cell_type": "code",
   "execution_count": null,
   "metadata": {
    "collapsed": true
   },
   "outputs": [],
   "source": [
    "# How does our matrix change if we change the headload threashold to .6?\n",
    "\n",
    "\n"
   ]
  },
  {
   "cell_type": "code",
   "execution_count": null,
   "metadata": {
    "collapsed": true
   },
   "outputs": [],
   "source": [
    "# How does our matrix change if we change the number of neighbors?\n",
    "\n"
   ]
  },
  {
   "cell_type": "code",
   "execution_count": 70,
   "metadata": {
    "collapsed": true
   },
   "outputs": [],
   "source": [
    "# How does our matrix score change if we use a different classifier like logistic regression?\n",
    "\n",
    "# Build the classifier and get the predictions\n",
    "\n",
    "# Fit\n",
    "\n",
    "# Predict\n",
    "\n",
    "# Confusion matrix\n",
    "\n",
    "# Optional:  Make our Matrix easier to read\n"
   ]
  },
  {
   "cell_type": "markdown",
   "metadata": {},
   "source": [
    "How are these results? Are they good?  What could be the problem?  Let's make our evaluation easier to look at."
   ]
  },
  {
   "cell_type": "markdown",
   "metadata": {},
   "source": [
    "#ROC (Receiver Operator Characteristic) Plots\n",
    "The ROC curve illustrates the performance of a binary classifier system as its discrimination threshold is varied. We use ROC to compare models using the Area Under Curve (AUC) statistic. Generally, 1 is a perfect model and < 0.5 is worse than guessing. Remember for logistic regression, our probability function looks like:"
   ]
  },
  {
   "cell_type": "code",
   "execution_count": 57,
   "metadata": {
    "collapsed": false
   },
   "outputs": [],
   "source": [
    "def plot_roc_curve(target_test, target_predicted_proba):\n",
    "    fpr, tpr, thresholds = roc_curve(target_test, target_predicted_proba[:, 1])\n",
    "    \n",
    "    roc_auc = auc(fpr, tpr)\n",
    "    \n",
    "    p = figure(title='Receiver Operating Characteristic')\n",
    "    # Plot ROC curve\n",
    "    p.line(x=fpr,y=tpr,legend='ROC curve (area = %0.3f)' % roc_auc)\n",
    "    p.x_range=Range1d(0,1)\n",
    "    p.y_range=Range1d(0,1)\n",
    "    p.xaxis.axis_label='False Positive Rate or (1 - Specifity)'\n",
    "    p.yaxis.axis_label='True Positive Rate or (Sensitivity)'\n",
    "    p.legend.orientation = \"bottom_right\"\n",
    "    show(p)\n",
    "    \n",
    "%matplotlib inline"
   ]
  },
  {
   "cell_type": "code",
   "execution_count": 58,
   "metadata": {
    "collapsed": false
   },
   "outputs": [],
   "source": [
    "# Let's reset our data\n",
    "en = pd.read_csv('../data/ENB2012_data.csv',header=0)\n",
    "\n",
    "# Set a target\n",
    "en['high_heat'] = en.heating_load >= 40\n",
    "\n",
    "# Set are labels for training\n",
    "label = en['high_heat']\n",
    "\n",
    "# remove extranious features\n",
    "data = en.drop(['heating_load','cooling_load','high_heat'], axis=1)\n",
    "\n",
    "# Split our data into train and test splits\n",
    "train_feat, test_feat, train_target, test_target = train_test_split(data, label, train_size=0.3)"
   ]
  },
  {
   "cell_type": "code",
   "execution_count": 59,
   "metadata": {
    "collapsed": false
   },
   "outputs": [],
   "source": [
    "model_lr = LogisticRegression(C=1).fit(train_feat, train_target)\n",
    "target_predicted_proba = model_lr.predict_proba(test_feat)"
   ]
  },
  {
   "cell_type": "code",
   "execution_count": 60,
   "metadata": {
    "collapsed": false
   },
   "outputs": [
    {
     "data": {
      "text/html": [
       "<script type=\"text/javascript\">\n",
       "        Bokeh.$(function() {\n",
       "        var all_models = [{\"attributes\": {\"plot\": {\"subtype\": \"Figure\", \"type\": \"Plot\", \"id\": \"777bc32a-a621-47ea-8473-63af55d92dde\"}, \"dimensions\": [\"width\", \"height\"], \"tags\": [], \"doc\": null, \"id\": \"ce7dc8fc-d4f3-4b64-9e1b-f24ab4c696cf\"}, \"type\": \"WheelZoomTool\", \"id\": \"ce7dc8fc-d4f3-4b64-9e1b-f24ab4c696cf\"}, {\"attributes\": {\"plot\": {\"subtype\": \"Figure\", \"type\": \"Plot\", \"id\": \"777bc32a-a621-47ea-8473-63af55d92dde\"}, \"tags\": [], \"doc\": null, \"axis_label\": \"True Positive Rate or (Sensitivity)\", \"formatter\": {\"type\": \"BasicTickFormatter\", \"id\": \"989f2553-cdda-4c89-8b74-124635208e24\"}, \"ticker\": {\"type\": \"BasicTicker\", \"id\": \"bf91be34-b62c-4be4-868d-3c21db471bc9\"}, \"id\": \"3aaadf17-8ddf-4d33-907e-5204ad72e7a0\"}, \"type\": \"LinearAxis\", \"id\": \"3aaadf17-8ddf-4d33-907e-5204ad72e7a0\"}, {\"attributes\": {\"geometries\": [], \"tags\": [], \"doc\": null, \"id\": \"51181d91-fc49-4549-bca2-e8bf9c133a0c\"}, \"type\": \"ToolEvents\", \"id\": \"51181d91-fc49-4549-bca2-e8bf9c133a0c\"}, {\"attributes\": {\"tags\": [], \"doc\": null, \"mantissas\": [2, 5, 10], \"id\": \"9153bfd0-39a9-4ae8-acb7-f7430037215c\", \"num_minor_ticks\": 5}, \"type\": \"BasicTicker\", \"id\": \"9153bfd0-39a9-4ae8-acb7-f7430037215c\"}, {\"attributes\": {\"plot\": {\"subtype\": \"Figure\", \"type\": \"Plot\", \"id\": \"777bc32a-a621-47ea-8473-63af55d92dde\"}, \"dimensions\": [\"width\", \"height\"], \"tags\": [], \"doc\": null, \"id\": \"c903e048-7fe7-47d7-a647-157b0763ea89\"}, \"type\": \"BoxZoomTool\", \"id\": \"c903e048-7fe7-47d7-a647-157b0763ea89\"}, {\"attributes\": {\"line_color\": {\"value\": \"#1f77b4\"}, \"line_alpha\": {\"value\": 0.1}, \"tags\": [], \"doc\": null, \"y\": {\"field\": \"y\"}, \"x\": {\"field\": \"x\"}, \"id\": \"9a7436b8-be57-47a7-af1b-35ec231a8ba8\"}, \"type\": \"Line\", \"id\": \"9a7436b8-be57-47a7-af1b-35ec231a8ba8\"}, {\"attributes\": {\"plot\": {\"subtype\": \"Figure\", \"type\": \"Plot\", \"id\": \"777bc32a-a621-47ea-8473-63af55d92dde\"}, \"tags\": [], \"doc\": null, \"dimension\": 1, \"ticker\": {\"type\": \"BasicTicker\", \"id\": \"bf91be34-b62c-4be4-868d-3c21db471bc9\"}, \"id\": \"7f68953f-aa18-4cd5-89a5-4cb70b870c74\"}, \"type\": \"Grid\", \"id\": \"7f68953f-aa18-4cd5-89a5-4cb70b870c74\"}, {\"subtype\": \"Figure\", \"type\": \"Plot\", \"id\": \"777bc32a-a621-47ea-8473-63af55d92dde\", \"attributes\": {\"x_range\": {\"type\": \"Range1d\", \"id\": \"b6a13200-23b8-4013-8906-742514e1c1a0\"}, \"right\": [], \"tags\": [], \"tools\": [{\"type\": \"PanTool\", \"id\": \"5d9bb4bc-06a2-49c0-909b-47a46031f025\"}, {\"type\": \"WheelZoomTool\", \"id\": \"ce7dc8fc-d4f3-4b64-9e1b-f24ab4c696cf\"}, {\"type\": \"BoxZoomTool\", \"id\": \"c903e048-7fe7-47d7-a647-157b0763ea89\"}, {\"type\": \"PreviewSaveTool\", \"id\": \"46de1009-8224-4752-a097-2b337080375a\"}, {\"type\": \"ResizeTool\", \"id\": \"1df1944f-1aec-4e87-8f80-e7da6496ade3\"}, {\"type\": \"ResetTool\", \"id\": \"4a315eaa-bb17-4df9-8cab-92a355b82e22\"}, {\"type\": \"HelpTool\", \"id\": \"cb2d2897-fd9b-44c8-8af8-fabb5de0394b\"}], \"title\": \"Receiver Operating Characteristic\", \"extra_y_ranges\": {}, \"renderers\": [{\"type\": \"LinearAxis\", \"id\": \"af88bdc7-066a-433d-9da0-17128d6e6e20\"}, {\"type\": \"Grid\", \"id\": \"04d4c9e2-7633-4f0a-b428-896d4bd36715\"}, {\"type\": \"LinearAxis\", \"id\": \"3aaadf17-8ddf-4d33-907e-5204ad72e7a0\"}, {\"type\": \"Grid\", \"id\": \"7f68953f-aa18-4cd5-89a5-4cb70b870c74\"}, {\"type\": \"Legend\", \"id\": \"0740090f-49cb-4ccc-8cab-f81c816bf77e\"}, {\"type\": \"GlyphRenderer\", \"id\": \"7ff6c074-bd80-4e9d-ac0a-b25c631e71d2\"}], \"extra_x_ranges\": {}, \"below\": [{\"type\": \"LinearAxis\", \"id\": \"af88bdc7-066a-433d-9da0-17128d6e6e20\"}], \"tool_events\": {\"type\": \"ToolEvents\", \"id\": \"51181d91-fc49-4549-bca2-e8bf9c133a0c\"}, \"above\": [], \"doc\": null, \"y_range\": {\"type\": \"Range1d\", \"id\": \"b4a759c7-e65a-41da-a583-28d735a75f3d\"}, \"id\": \"777bc32a-a621-47ea-8473-63af55d92dde\", \"left\": [{\"type\": \"LinearAxis\", \"id\": \"3aaadf17-8ddf-4d33-907e-5204ad72e7a0\"}]}}, {\"attributes\": {\"end\": 1, \"callback\": null, \"doc\": null, \"tags\": [], \"start\": 0, \"id\": \"b4a759c7-e65a-41da-a583-28d735a75f3d\"}, \"type\": \"Range1d\", \"id\": \"b4a759c7-e65a-41da-a583-28d735a75f3d\"}, {\"attributes\": {\"doc\": null, \"id\": \"989f2553-cdda-4c89-8b74-124635208e24\", \"tags\": []}, \"type\": \"BasicTickFormatter\", \"id\": \"989f2553-cdda-4c89-8b74-124635208e24\"}, {\"attributes\": {\"plot\": {\"subtype\": \"Figure\", \"type\": \"Plot\", \"id\": \"777bc32a-a621-47ea-8473-63af55d92dde\"}, \"tags\": [], \"doc\": null, \"id\": \"46de1009-8224-4752-a097-2b337080375a\"}, \"type\": \"PreviewSaveTool\", \"id\": \"46de1009-8224-4752-a097-2b337080375a\"}, {\"attributes\": {\"column_names\": [\"y\", \"x\"], \"tags\": [], \"doc\": null, \"selected\": {\"2d\": {\"indices\": []}, \"1d\": {\"indices\": []}, \"0d\": {\"indices\": [], \"flag\": false}}, \"callback\": null, \"data\": {\"y\": [0.03125, 0.03125, 0.03125, 0.03125, 0.03125, 0.0625, 0.0625, 0.0625, 0.0625, 0.0625, 0.0625, 0.0625, 0.09375, 0.125, 0.125, 0.125, 0.15625, 0.15625, 0.15625, 0.15625, 0.1875, 0.1875, 0.1875, 0.21875, 0.21875, 0.21875, 0.21875, 0.25, 0.28125, 0.28125, 0.28125, 0.28125, 0.28125, 0.28125, 0.28125, 0.28125, 0.28125, 0.28125, 0.3125, 0.3125, 0.3125, 0.3125, 0.3125, 0.3125, 0.3125, 0.34375, 0.34375, 0.34375, 0.34375, 0.34375, 0.34375, 0.34375, 0.34375, 0.34375, 0.34375, 0.34375, 0.34375, 0.34375, 0.34375, 0.34375, 0.34375, 0.34375, 0.34375, 0.34375, 0.34375, 0.34375, 0.34375, 0.34375, 0.34375, 0.375, 0.375, 0.375, 0.375, 0.375, 0.375, 0.375, 0.375, 0.375, 0.375, 0.375, 0.375, 0.40625, 0.40625, 0.40625, 0.4375, 0.4375, 0.4375, 0.4375, 0.4375, 0.4375, 0.4375, 0.4375, 0.46875, 0.46875, 0.46875, 0.46875, 0.46875, 0.46875, 0.46875, 0.46875, 0.46875, 0.5, 0.5, 0.5, 0.5, 0.5, 0.5, 0.5, 0.5, 0.5, 0.5, 0.5, 0.5, 0.53125, 0.53125, 0.53125, 0.53125, 0.53125, 0.53125, 0.53125, 0.53125, 0.53125, 0.5625, 0.5625, 0.5625, 0.5625, 0.5625, 0.59375, 0.59375, 0.625, 0.625, 0.625, 0.625, 0.625, 0.625, 0.625, 0.625, 0.65625, 0.6875, 0.6875, 0.6875, 0.6875, 0.6875, 0.71875, 0.71875, 0.71875, 0.71875, 0.71875, 0.71875, 0.75, 0.75, 0.75, 0.75, 0.75, 0.75, 0.75, 0.75, 0.75, 0.75, 0.75, 0.75, 0.75, 0.75, 0.75, 0.75, 0.75, 0.75, 0.75, 0.78125, 0.8125, 0.8125, 0.8125, 0.8125, 0.8125, 0.8125, 0.8125, 0.8125, 0.8125, 0.84375, 0.875, 0.875, 0.875, 0.90625, 0.90625, 0.90625, 0.90625, 0.90625, 0.90625, 0.90625, 0.90625, 0.9375, 0.9375, 0.9375, 0.9375, 0.9375, 0.96875, 0.96875, 0.96875, 0.96875, 0.96875, 0.96875, 0.96875, 0.96875, 0.96875, 0.96875, 0.96875, 0.96875, 0.96875, 0.96875, 1.0, 1.0, 1.0, 1.0, 1.0, 1.0, 1.0, 1.0, 1.0, 1.0, 1.0, 1.0, 1.0, 1.0, 1.0, 1.0, 1.0, 1.0, 1.0, 1.0, 1.0, 1.0, 1.0, 1.0, 1.0, 1.0, 1.0, 1.0, 1.0, 1.0, 1.0, 1.0, 1.0, 1.0, 1.0, 1.0, 1.0, 1.0, 1.0, 1.0, 1.0, 1.0, 1.0, 1.0, 1.0, 1.0, 1.0, 1.0, 1.0, 1.0, 1.0, 1.0, 1.0, 1.0, 1.0, 1.0, 1.0, 1.0, 1.0, 1.0, 1.0, 1.0, 1.0, 1.0, 1.0, 1.0, 1.0, 1.0, 1.0, 1.0, 1.0, 1.0, 1.0, 1.0, 1.0, 1.0, 1.0, 1.0, 1.0, 1.0, 1.0, 1.0, 1.0, 1.0, 1.0, 1.0, 1.0, 1.0, 1.0, 1.0, 1.0, 1.0, 1.0, 1.0, 1.0, 1.0, 1.0, 1.0, 1.0, 1.0, 1.0, 1.0, 1.0, 1.0, 1.0, 1.0, 1.0, 1.0, 1.0, 1.0, 1.0, 1.0, 1.0, 1.0, 1.0, 1.0, 1.0, 1.0, 1.0, 1.0, 1.0, 1.0, 1.0, 1.0, 1.0, 1.0, 1.0, 1.0, 1.0, 1.0, 1.0, 1.0, 1.0, 1.0, 1.0, 1.0, 1.0, 1.0, 1.0, 1.0, 1.0, 1.0, 1.0, 1.0, 1.0, 1.0, 1.0, 1.0, 1.0, 1.0, 1.0, 1.0, 1.0, 1.0, 1.0, 1.0, 1.0, 1.0, 1.0, 1.0, 1.0, 1.0, 1.0, 1.0, 1.0, 1.0, 1.0, 1.0, 1.0, 1.0, 1.0, 1.0, 1.0, 1.0, 1.0, 1.0, 1.0, 1.0, 1.0, 1.0, 1.0, 1.0, 1.0, 1.0, 1.0, 1.0, 1.0, 1.0, 1.0, 1.0, 1.0, 1.0, 1.0, 1.0, 1.0, 1.0, 1.0, 1.0, 1.0, 1.0, 1.0, 1.0, 1.0, 1.0, 1.0, 1.0, 1.0, 1.0, 1.0, 1.0, 1.0, 1.0, 1.0, 1.0, 1.0, 1.0, 1.0, 1.0, 1.0, 1.0, 1.0, 1.0, 1.0, 1.0, 1.0, 1.0, 1.0, 1.0, 1.0, 1.0, 1.0, 1.0, 1.0, 1.0, 1.0, 1.0, 1.0, 1.0, 1.0, 1.0, 1.0, 1.0, 1.0, 1.0, 1.0, 1.0, 1.0, 1.0, 1.0, 1.0, 1.0, 1.0, 1.0, 1.0, 1.0, 1.0, 1.0, 1.0, 1.0, 1.0, 1.0, 1.0, 1.0, 1.0, 1.0, 1.0, 1.0, 1.0, 1.0, 1.0, 1.0, 1.0, 1.0, 1.0, 1.0, 1.0, 1.0, 1.0, 1.0, 1.0, 1.0, 1.0, 1.0, 1.0, 1.0, 1.0, 1.0, 1.0, 1.0, 1.0, 1.0, 1.0, 1.0, 1.0, 1.0, 1.0, 1.0, 1.0, 1.0, 1.0, 1.0, 1.0, 1.0, 1.0, 1.0, 1.0, 1.0, 1.0, 1.0, 1.0, 1.0, 1.0, 1.0, 1.0, 1.0, 1.0, 1.0, 1.0, 1.0, 1.0, 1.0, 1.0, 1.0, 1.0, 1.0, 1.0, 1.0, 1.0, 1.0], \"x\": [0.0, 0.001976284584980237, 0.003952569169960474, 0.005928853754940711, 0.007905138339920948, 0.007905138339920948, 0.009881422924901186, 0.011857707509881422, 0.01383399209486166, 0.015810276679841896, 0.017786561264822136, 0.019762845849802372, 0.019762845849802372, 0.019762845849802372, 0.021739130434782608, 0.023715415019762844, 0.023715415019762844, 0.025691699604743084, 0.02766798418972332, 0.029644268774703556, 0.029644268774703556, 0.03162055335968379, 0.03359683794466403, 0.03359683794466403, 0.03557312252964427, 0.037549407114624504, 0.039525691699604744, 0.039525691699604744, 0.039525691699604744, 0.041501976284584984, 0.043478260869565216, 0.045454545454545456, 0.04743083003952569, 0.04940711462450593, 0.05138339920948617, 0.0533596837944664, 0.05533596837944664, 0.05731225296442688, 0.05731225296442688, 0.05928853754940711, 0.06126482213438735, 0.06324110671936758, 0.06521739130434782, 0.06719367588932806, 0.0691699604743083, 0.0691699604743083, 0.07114624505928854, 0.07312252964426877, 0.07509881422924901, 0.07707509881422925, 0.07905138339920949, 0.08102766798418973, 0.08300395256916997, 0.08498023715415019, 0.08695652173913043, 0.08893280632411067, 0.09090909090909091, 0.09288537549407115, 0.09486166007905138, 0.09683794466403162, 0.09881422924901186, 0.1007905138339921, 0.10276679841897234, 0.10474308300395258, 0.1067193675889328, 0.10869565217391304, 0.11067193675889328, 0.11264822134387352, 0.11462450592885376, 0.11462450592885376, 0.116600790513834, 0.11857707509881422, 0.12055335968379446, 0.1225296442687747, 0.12450592885375494, 0.12648221343873517, 0.12845849802371542, 0.13043478260869565, 0.1324110671936759, 0.13438735177865613, 0.13636363636363635, 0.13636363636363635, 0.1383399209486166, 0.14031620553359683, 0.14031620553359683, 0.1422924901185771, 0.1442687747035573, 0.14624505928853754, 0.1482213438735178, 0.15019762845849802, 0.15217391304347827, 0.1541501976284585, 0.1541501976284585, 0.15612648221343872, 0.15810276679841898, 0.1600790513833992, 0.16205533596837945, 0.16403162055335968, 0.16600790513833993, 0.16798418972332016, 0.16996047430830039, 0.16996047430830039, 0.17193675889328064, 0.17391304347826086, 0.17588932806324112, 0.17786561264822134, 0.17984189723320157, 0.18181818181818182, 0.18379446640316205, 0.1857707509881423, 0.18774703557312253, 0.18972332015810275, 0.191699604743083, 0.191699604743083, 0.19367588932806323, 0.1956521739130435, 0.1976284584980237, 0.19960474308300397, 0.2015810276679842, 0.20355731225296442, 0.20553359683794467, 0.2075098814229249, 0.2075098814229249, 0.20948616600790515, 0.21146245059288538, 0.2134387351778656, 0.21541501976284586, 0.21541501976284586, 0.21739130434782608, 0.21739130434782608, 0.21936758893280633, 0.22134387351778656, 0.22332015810276679, 0.22529644268774704, 0.22727272727272727, 0.22924901185770752, 0.23122529644268774, 0.23122529644268774, 0.23122529644268774, 0.233201581027668, 0.23517786561264822, 0.23715415019762845, 0.2391304347826087, 0.2391304347826087, 0.24110671936758893, 0.24308300395256918, 0.2450592885375494, 0.24703557312252963, 0.2490118577075099, 0.2490118577075099, 0.2509881422924901, 0.25296442687747034, 0.2549407114624506, 0.25691699604743085, 0.25889328063241107, 0.2608695652173913, 0.2628458498023715, 0.2648221343873518, 0.26679841897233203, 0.26877470355731226, 0.2707509881422925, 0.2727272727272727, 0.274703557312253, 0.2766798418972332, 0.27865612648221344, 0.28063241106719367, 0.2826086956521739, 0.2845849802371542, 0.2845849802371542, 0.2845849802371542, 0.2865612648221344, 0.2885375494071146, 0.29051383399209485, 0.2924901185770751, 0.29446640316205536, 0.2964426877470356, 0.2984189723320158, 0.30039525691699603, 0.30039525691699603, 0.30039525691699603, 0.30237154150197626, 0.30434782608695654, 0.30434782608695654, 0.30632411067193677, 0.308300395256917, 0.3102766798418972, 0.31225296442687744, 0.3142292490118577, 0.31620553359683795, 0.3181818181818182, 0.3181818181818182, 0.3201581027667984, 0.3221343873517787, 0.3241106719367589, 0.32608695652173914, 0.32608695652173914, 0.32806324110671936, 0.3300395256916996, 0.33201581027667987, 0.3339920948616601, 0.3359683794466403, 0.33794466403162055, 0.33992094861660077, 0.34189723320158105, 0.3438735177865613, 0.3458498023715415, 0.34782608695652173, 0.34980237154150196, 0.35177865612648224, 0.35177865612648224, 0.35375494071146246, 0.3557312252964427, 0.3577075098814229, 0.35968379446640314, 0.3616600790513834, 0.36363636363636365, 0.36561264822134387, 0.3675889328063241, 0.3695652173913043, 0.3715415019762846, 0.37351778656126483, 0.37549407114624506, 0.3774703557312253, 0.3794466403162055, 0.3814229249011858, 0.383399209486166, 0.38537549407114624, 0.38735177865612647, 0.3893280632411067, 0.391304347826087, 0.3932806324110672, 0.3952569169960474, 0.39723320158102765, 0.39920948616600793, 0.40118577075098816, 0.4031620553359684, 0.4051383399209486, 0.40711462450592883, 0.4090909090909091, 0.41106719367588934, 0.41304347826086957, 0.4150197628458498, 0.41699604743083, 0.4189723320158103, 0.4209486166007905, 0.42292490118577075, 0.424901185770751, 0.4268774703557312, 0.4288537549407115, 0.4308300395256917, 0.43280632411067194, 0.43478260869565216, 0.4367588932806324, 0.43873517786561267, 0.4407114624505929, 0.4426877470355731, 0.44466403162055335, 0.44664031620553357, 0.44861660079051385, 0.4505928853754941, 0.4525691699604743, 0.45454545454545453, 0.45652173913043476, 0.45849802371541504, 0.46047430830039526, 0.4624505928853755, 0.4644268774703557, 0.466403162055336, 0.4683794466403162, 0.47035573122529645, 0.4723320158102767, 0.4743083003952569, 0.4762845849802372, 0.4782608695652174, 0.48023715415019763, 0.48221343873517786, 0.4841897233201581, 0.48616600790513836, 0.4881422924901186, 0.4901185770750988, 0.49209486166007904, 0.49407114624505927, 0.49604743083003955, 0.4980237154150198, 0.5, 0.5019762845849802, 0.5039525691699605, 0.5059288537549407, 0.5079051383399209, 0.5098814229249012, 0.5118577075098815, 0.5138339920948617, 0.5158102766798419, 0.5177865612648221, 0.5197628458498024, 0.5217391304347826, 0.5237154150197628, 0.525691699604743, 0.5276679841897233, 0.5296442687747036, 0.5316205533596838, 0.5335968379446641, 0.5355731225296443, 0.5375494071146245, 0.5395256916996047, 0.541501976284585, 0.5434782608695652, 0.5454545454545454, 0.5474308300395256, 0.549407114624506, 0.5513833992094862, 0.5533596837944664, 0.5553359683794467, 0.5573122529644269, 0.5592885375494071, 0.5612648221343873, 0.5632411067193676, 0.5652173913043478, 0.567193675889328, 0.5691699604743083, 0.5711462450592886, 0.5731225296442688, 0.575098814229249, 0.5770750988142292, 0.5790513833992095, 0.5810276679841897, 0.5830039525691699, 0.5849802371541502, 0.5869565217391305, 0.5889328063241107, 0.5909090909090909, 0.5928853754940712, 0.5948616600790514, 0.5968379446640316, 0.5988142292490118, 0.6007905138339921, 0.6027667984189723, 0.6047430830039525, 0.6067193675889329, 0.6086956521739131, 0.6106719367588933, 0.6126482213438735, 0.6146245059288538, 0.616600790513834, 0.6185770750988142, 0.6205533596837944, 0.6225296442687747, 0.6245059288537549, 0.6264822134387352, 0.6284584980237155, 0.6304347826086957, 0.6324110671936759, 0.6343873517786561, 0.6363636363636364, 0.6383399209486166, 0.6403162055335968, 0.642292490118577, 0.6442687747035574, 0.6462450592885376, 0.6482213438735178, 0.650197628458498, 0.6521739130434783, 0.6541501976284585, 0.6561264822134387, 0.658102766798419, 0.6600790513833992, 0.6620553359683794, 0.6640316205533597, 0.66600790513834, 0.6679841897233202, 0.6699604743083004, 0.6719367588932806, 0.6739130434782609, 0.6758893280632411, 0.6778656126482213, 0.6798418972332015, 0.6818181818181818, 0.6837944664031621, 0.6857707509881423, 0.6877470355731226, 0.6897233201581028, 0.691699604743083, 0.6936758893280632, 0.6956521739130435, 0.6976284584980237, 0.6996047430830039, 0.7015810276679841, 0.7035573122529645, 0.7055335968379447, 0.7075098814229249, 0.7094861660079052, 0.7114624505928854, 0.7134387351778656, 0.7154150197628458, 0.717391304347826, 0.7193675889328063, 0.7213438735177866, 0.7233201581027668, 0.7252964426877471, 0.7272727272727273, 0.7292490118577075, 0.7312252964426877, 0.733201581027668, 0.7351778656126482, 0.7371541501976284, 0.7391304347826086, 0.741106719367589, 0.7430830039525692, 0.7450592885375494, 0.7470355731225297, 0.7490118577075099, 0.7509881422924901, 0.7529644268774703, 0.7549407114624506, 0.7569169960474308, 0.758893280632411, 0.7608695652173914, 0.7628458498023716, 0.7648221343873518, 0.766798418972332, 0.7687747035573123, 0.7707509881422925, 0.7727272727272727, 0.7747035573122529, 0.7766798418972332, 0.7786561264822134, 0.7806324110671937, 0.782608695652174, 0.7845849802371542, 0.7865612648221344, 0.7885375494071146, 0.7905138339920948, 0.7924901185770751, 0.7944664031620553, 0.7964426877470355, 0.7984189723320159, 0.8003952569169961, 0.8023715415019763, 0.8043478260869565, 0.8063241106719368, 0.808300395256917, 0.8102766798418972, 0.8122529644268774, 0.8142292490118577, 0.8162055335968379, 0.8181818181818182, 0.8201581027667985, 0.8221343873517787, 0.8241106719367589, 0.8260869565217391, 0.8280632411067194, 0.8300395256916996, 0.8320158102766798, 0.83399209486166, 0.8359683794466403, 0.8379446640316206, 0.8399209486166008, 0.841897233201581, 0.8438735177865613, 0.8458498023715415, 0.8478260869565217, 0.849802371541502, 0.8517786561264822, 0.8537549407114624, 0.8557312252964426, 0.857707509881423, 0.8596837944664032, 0.8616600790513834, 0.8636363636363636, 0.8656126482213439, 0.8675889328063241, 0.8695652173913043, 0.8715415019762845, 0.8735177865612648, 0.8754940711462451, 0.8774703557312253, 0.8794466403162056, 0.8814229249011858, 0.883399209486166, 0.8853754940711462, 0.8873517786561265, 0.8893280632411067, 0.8913043478260869, 0.8932806324110671, 0.8952569169960475, 0.8972332015810277, 0.8992094861660079, 0.9011857707509882, 0.9031620553359684, 0.9051383399209486, 0.9071146245059288, 0.9090909090909091, 0.9110671936758893, 0.9130434782608695, 0.9150197628458498, 0.9169960474308301, 0.9189723320158103, 0.9209486166007905, 0.9229249011857708, 0.924901185770751, 0.9268774703557312, 0.9288537549407114, 0.9308300395256917, 0.932806324110672, 0.9347826086956522, 0.9367588932806324, 0.9387351778656127, 0.9407114624505929, 0.9426877470355731, 0.9446640316205533, 0.9466403162055336, 0.9486166007905138, 0.950592885375494, 0.9525691699604744, 0.9545454545454546, 0.9565217391304348, 0.958498023715415, 0.9604743083003953, 0.9624505928853755, 0.9644268774703557, 0.9664031620553359, 0.9683794466403162, 0.9703557312252964, 0.9723320158102767, 0.974308300395257, 0.9762845849802372, 0.9782608695652174, 0.9802371541501976, 0.9822134387351779, 0.9841897233201581, 0.9861660079051383, 0.9881422924901185, 0.9901185770750988, 0.9920948616600791, 0.9940711462450593, 0.9960474308300395, 0.9980237154150198, 1.0]}, \"id\": \"c11132bb-cae6-415f-95f7-9db3320c2dfe\"}, \"type\": \"ColumnDataSource\", \"id\": \"c11132bb-cae6-415f-95f7-9db3320c2dfe\"}, {\"attributes\": {\"nonselection_glyph\": {\"type\": \"Line\", \"id\": \"9a7436b8-be57-47a7-af1b-35ec231a8ba8\"}, \"data_source\": {\"type\": \"ColumnDataSource\", \"id\": \"c11132bb-cae6-415f-95f7-9db3320c2dfe\"}, \"tags\": [], \"doc\": null, \"selection_glyph\": null, \"id\": \"7ff6c074-bd80-4e9d-ac0a-b25c631e71d2\", \"glyph\": {\"type\": \"Line\", \"id\": \"b6aed51b-d70d-43cd-80bc-8abe3ee666d6\"}}, \"type\": \"GlyphRenderer\", \"id\": \"7ff6c074-bd80-4e9d-ac0a-b25c631e71d2\"}, {\"attributes\": {\"plot\": {\"subtype\": \"Figure\", \"type\": \"Plot\", \"id\": \"777bc32a-a621-47ea-8473-63af55d92dde\"}, \"orientation\": \"bottom_right\", \"tags\": [], \"doc\": null, \"id\": \"0740090f-49cb-4ccc-8cab-f81c816bf77e\", \"legends\": [[\"ROC curve (area = 0.834)\", [{\"type\": \"GlyphRenderer\", \"id\": \"7ff6c074-bd80-4e9d-ac0a-b25c631e71d2\"}]]]}, \"type\": \"Legend\", \"id\": \"0740090f-49cb-4ccc-8cab-f81c816bf77e\"}, {\"attributes\": {\"line_color\": {\"value\": \"#1f77b4\"}, \"line_alpha\": {\"value\": 1.0}, \"tags\": [], \"doc\": null, \"y\": {\"field\": \"y\"}, \"x\": {\"field\": \"x\"}, \"id\": \"b6aed51b-d70d-43cd-80bc-8abe3ee666d6\"}, \"type\": \"Line\", \"id\": \"b6aed51b-d70d-43cd-80bc-8abe3ee666d6\"}, {\"attributes\": {\"plot\": {\"subtype\": \"Figure\", \"type\": \"Plot\", \"id\": \"777bc32a-a621-47ea-8473-63af55d92dde\"}, \"tags\": [], \"doc\": null, \"id\": \"4a315eaa-bb17-4df9-8cab-92a355b82e22\"}, \"type\": \"ResetTool\", \"id\": \"4a315eaa-bb17-4df9-8cab-92a355b82e22\"}, {\"attributes\": {\"end\": 1, \"callback\": null, \"doc\": null, \"tags\": [], \"start\": 0, \"id\": \"b6a13200-23b8-4013-8906-742514e1c1a0\"}, \"type\": \"Range1d\", \"id\": \"b6a13200-23b8-4013-8906-742514e1c1a0\"}, {\"attributes\": {\"plot\": {\"subtype\": \"Figure\", \"type\": \"Plot\", \"id\": \"777bc32a-a621-47ea-8473-63af55d92dde\"}, \"tags\": [], \"doc\": null, \"dimension\": 0, \"ticker\": {\"type\": \"BasicTicker\", \"id\": \"9153bfd0-39a9-4ae8-acb7-f7430037215c\"}, \"id\": \"04d4c9e2-7633-4f0a-b428-896d4bd36715\"}, \"type\": \"Grid\", \"id\": \"04d4c9e2-7633-4f0a-b428-896d4bd36715\"}, {\"attributes\": {\"doc\": null, \"id\": \"8910f8bb-28bb-46c4-9d05-5770a66a5fcb\", \"tags\": []}, \"type\": \"BasicTickFormatter\", \"id\": \"8910f8bb-28bb-46c4-9d05-5770a66a5fcb\"}, {\"attributes\": {\"plot\": {\"subtype\": \"Figure\", \"type\": \"Plot\", \"id\": \"777bc32a-a621-47ea-8473-63af55d92dde\"}, \"tags\": [], \"doc\": null, \"id\": \"cb2d2897-fd9b-44c8-8af8-fabb5de0394b\"}, \"type\": \"HelpTool\", \"id\": \"cb2d2897-fd9b-44c8-8af8-fabb5de0394b\"}, {\"attributes\": {\"plot\": {\"subtype\": \"Figure\", \"type\": \"Plot\", \"id\": \"777bc32a-a621-47ea-8473-63af55d92dde\"}, \"tags\": [], \"doc\": null, \"id\": \"1df1944f-1aec-4e87-8f80-e7da6496ade3\"}, \"type\": \"ResizeTool\", \"id\": \"1df1944f-1aec-4e87-8f80-e7da6496ade3\"}, {\"attributes\": {\"tags\": [], \"doc\": null, \"mantissas\": [2, 5, 10], \"id\": \"bf91be34-b62c-4be4-868d-3c21db471bc9\", \"num_minor_ticks\": 5}, \"type\": \"BasicTicker\", \"id\": \"bf91be34-b62c-4be4-868d-3c21db471bc9\"}, {\"attributes\": {\"plot\": {\"subtype\": \"Figure\", \"type\": \"Plot\", \"id\": \"777bc32a-a621-47ea-8473-63af55d92dde\"}, \"tags\": [], \"doc\": null, \"axis_label\": \"False Positive Rate or (1 - Specifity)\", \"formatter\": {\"type\": \"BasicTickFormatter\", \"id\": \"8910f8bb-28bb-46c4-9d05-5770a66a5fcb\"}, \"ticker\": {\"type\": \"BasicTicker\", \"id\": \"9153bfd0-39a9-4ae8-acb7-f7430037215c\"}, \"id\": \"af88bdc7-066a-433d-9da0-17128d6e6e20\"}, \"type\": \"LinearAxis\", \"id\": \"af88bdc7-066a-433d-9da0-17128d6e6e20\"}, {\"attributes\": {\"plot\": {\"subtype\": \"Figure\", \"type\": \"Plot\", \"id\": \"777bc32a-a621-47ea-8473-63af55d92dde\"}, \"dimensions\": [\"width\", \"height\"], \"tags\": [], \"doc\": null, \"id\": \"5d9bb4bc-06a2-49c0-909b-47a46031f025\"}, \"type\": \"PanTool\", \"id\": \"5d9bb4bc-06a2-49c0-909b-47a46031f025\"}];\n",
       "        Bokeh.load_models(all_models);\n",
       "        var plots = [{'modeltype': 'Plot', 'elementid': 'ac2abf89-22a0-485d-9a03-5fbeede233a4', 'modelid': '777bc32a-a621-47ea-8473-63af55d92dde'}];\n",
       "        for (idx in plots) {\n",
       "        \tvar plot = plots[idx];\n",
       "        \tvar model = Bokeh.Collections(plot.modeltype).get(plot.modelid);\n",
       "        \tBokeh.logger.info('Realizing plot:')\n",
       "        \tBokeh.logger.info(' - modeltype: ' + plot.modeltype);\n",
       "        \tBokeh.logger.info(' - modelid: ' + plot.modelid);\n",
       "        \tBokeh.logger.info(' - elementid: ' + plot.elementid);\n",
       "        \tvar view = new model.default_view({\n",
       "        \t\tmodel: model,\n",
       "        \t\tel: '#' + plot.elementid\n",
       "        \t});\n",
       "        \tBokeh.index[plot.modelid] = view;\n",
       "        }\n",
       "    });\n",
       "    </script>\n",
       "<div class=\"plotdiv\" id=\"ac2abf89-22a0-485d-9a03-5fbeede233a4\"></div>\n",
       "\n"
      ]
     },
     "metadata": {},
     "output_type": "display_data"
    }
   ],
   "source": [
    "\n",
    "plot_roc_curve(test_target, target_predicted_proba)"
   ]
  },
  {
   "cell_type": "code",
   "execution_count": 102,
   "metadata": {
    "collapsed": true
   },
   "outputs": [],
   "source": [
    "neg = en[en['high_heat'] == False]\n",
    "pos = en[en['high_heat'] == True]\n",
    "\n",
    "oversample_en = pd.concat([neg, pos.sample(700, replace = True)])\n",
    "label = oversample_en['high_heat']\n",
    "data = oversample_en.drop(['heating_load','cooling_load','high_heat'],axis=1)\n",
    "train_feat, test_feat, train_target, test_target = train_test_split(data,label, train_size=0.3)"
   ]
  },
  {
   "cell_type": "code",
   "execution_count": 103,
   "metadata": {
    "collapsed": false
   },
   "outputs": [
    {
     "data": {
      "text/html": [
       "<script type=\"text/javascript\">\n",
       "        Bokeh.$(function() {\n",
       "        var all_models = [{\"attributes\": {\"doc\": null, \"id\": \"8fa3256e-6c2f-4bbe-aa31-b87892445f8f\", \"tags\": []}, \"type\": \"BasicTickFormatter\", \"id\": \"8fa3256e-6c2f-4bbe-aa31-b87892445f8f\"}, {\"attributes\": {\"end\": 1, \"callback\": null, \"doc\": null, \"tags\": [], \"start\": 0, \"id\": \"988b0b14-4e17-44b1-ae7c-7243e90f4dfb\"}, \"type\": \"Range1d\", \"id\": \"988b0b14-4e17-44b1-ae7c-7243e90f4dfb\"}, {\"attributes\": {\"plot\": {\"subtype\": \"Figure\", \"type\": \"Plot\", \"id\": \"175f55d6-3f80-4918-8268-8fd6f54d68f4\"}, \"tags\": [], \"doc\": null, \"axis_label\": \"True Positive Rate or (Sensitivity)\", \"formatter\": {\"type\": \"BasicTickFormatter\", \"id\": \"48f93314-e09d-47ce-94f4-77f86fec95d4\"}, \"ticker\": {\"type\": \"BasicTicker\", \"id\": \"df39466f-6211-4c6d-b32a-e13ed7eb5787\"}, \"id\": \"e0daf9cd-5884-4759-ab90-95bc03bd4642\"}, \"type\": \"LinearAxis\", \"id\": \"e0daf9cd-5884-4759-ab90-95bc03bd4642\"}, {\"attributes\": {\"doc\": null, \"id\": \"48f93314-e09d-47ce-94f4-77f86fec95d4\", \"tags\": []}, \"type\": \"BasicTickFormatter\", \"id\": \"48f93314-e09d-47ce-94f4-77f86fec95d4\"}, {\"attributes\": {\"plot\": {\"subtype\": \"Figure\", \"type\": \"Plot\", \"id\": \"175f55d6-3f80-4918-8268-8fd6f54d68f4\"}, \"tags\": [], \"doc\": null, \"id\": \"18d8c5a0-0335-449c-b4ab-982c1da4263f\"}, \"type\": \"PreviewSaveTool\", \"id\": \"18d8c5a0-0335-449c-b4ab-982c1da4263f\"}, {\"attributes\": {\"plot\": {\"subtype\": \"Figure\", \"type\": \"Plot\", \"id\": \"175f55d6-3f80-4918-8268-8fd6f54d68f4\"}, \"tags\": [], \"doc\": null, \"axis_label\": \"False Positive Rate or (1 - Specifity)\", \"formatter\": {\"type\": \"BasicTickFormatter\", \"id\": \"8fa3256e-6c2f-4bbe-aa31-b87892445f8f\"}, \"ticker\": {\"type\": \"BasicTicker\", \"id\": \"25a33b4c-d936-4257-8e62-0808a0d315c6\"}, \"id\": \"b4d8f34e-7d01-442b-891d-85335b7c4947\"}, \"type\": \"LinearAxis\", \"id\": \"b4d8f34e-7d01-442b-891d-85335b7c4947\"}, {\"attributes\": {\"tags\": [], \"doc\": null, \"mantissas\": [2, 5, 10], \"id\": \"25a33b4c-d936-4257-8e62-0808a0d315c6\", \"num_minor_ticks\": 5}, \"type\": \"BasicTicker\", \"id\": \"25a33b4c-d936-4257-8e62-0808a0d315c6\"}, {\"attributes\": {\"column_names\": [\"y\", \"x\"], \"tags\": [], \"doc\": null, \"selected\": {\"2d\": {\"indices\": []}, \"1d\": {\"indices\": []}, \"0d\": {\"indices\": [], \"flag\": false}}, \"callback\": null, \"data\": {\"y\": [0.032719836400818, 0.04703476482617587, 0.04703476482617587, 0.04703476482617587, 0.06134969325153374, 0.06134969325153374, 0.07157464212678936, 0.07157464212678936, 0.07157464212678936, 0.07157464212678936, 0.08997955010224949, 0.08997955010224949, 0.10633946830265849, 0.10633946830265849, 0.12678936605316973, 0.12678936605316973, 0.12678936605316973, 0.1492842535787321, 0.16768916155419222, 0.16768916155419222, 0.16768916155419222, 0.16768916155419222, 0.16768916155419222, 0.1901840490797546, 0.1901840490797546, 0.1901840490797546, 0.1901840490797546, 0.1901840490797546, 0.1901840490797546, 0.20449897750511248, 0.20449897750511248, 0.20449897750511248, 0.2331288343558282, 0.2331288343558282, 0.2331288343558282, 0.2331288343558282, 0.2331288343558282, 0.2331288343558282, 0.24335378323108384, 0.24335378323108384, 0.26380368098159507, 0.26380368098159507, 0.26380368098159507, 0.2822085889570552, 0.2822085889570552, 0.2822085889570552, 0.2985685071574642, 0.2985685071574642, 0.2985685071574642, 0.2985685071574642, 0.2985685071574642, 0.2985685071574642, 0.2985685071574642, 0.2985685071574642, 0.2985685071574642, 0.2985685071574642, 0.2985685071574642, 0.2985685071574642, 0.2985685071574642, 0.2985685071574642, 0.2985685071574642, 0.2985685071574642, 0.2985685071574642, 0.2985685071574642, 0.2985685071574642, 0.2985685071574642, 0.2985685071574642, 0.2985685071574642, 0.2985685071574642, 0.2985685071574642, 0.2985685071574642, 0.2985685071574642, 0.2985685071574642, 0.2985685071574642, 0.2985685071574642, 0.2985685071574642, 0.2985685071574642, 0.2985685071574642, 0.2985685071574642, 0.2985685071574642, 0.2985685071574642, 0.2985685071574642, 0.2985685071574642, 0.2985685071574642, 0.2985685071574642, 0.2985685071574642, 0.34151329243353784, 0.34151329243353784, 0.34151329243353784, 0.34151329243353784, 0.34151329243353784, 0.34151329243353784, 0.37423312883435583, 0.37423312883435583, 0.37423312883435583, 0.37423312883435583, 0.37423312883435583, 0.3946830265848671, 0.3946830265848671, 0.3946830265848671, 0.3946830265848671, 0.3946830265848671, 0.3946830265848671, 0.3946830265848671, 0.4110429447852761, 0.4110429447852761, 0.4110429447852761, 0.4110429447852761, 0.4110429447852761, 0.4110429447852761, 0.4110429447852761, 0.4110429447852761, 0.4110429447852761, 0.43149284253578735, 0.4539877300613497, 0.4539877300613497, 0.4539877300613497, 0.4539877300613497, 0.4539877300613497, 0.4539877300613497, 0.4539877300613497, 0.4539877300613497, 0.4539877300613497, 0.46830265848670755, 0.4948875255623722, 0.4948875255623722, 0.4948875255623722, 0.4948875255623722, 0.4948875255623722, 0.4948875255623722, 0.4948875255623722, 0.5132924335378323, 0.5337423312883436, 0.5419222903885481, 0.5419222903885481, 0.5419222903885481, 0.5419222903885481, 0.5419222903885481, 0.5419222903885481, 0.5419222903885481, 0.5419222903885481, 0.5419222903885481, 0.5603271983640081, 0.5746421267893661, 0.5746421267893661, 0.5746421267893661, 0.5746421267893661, 0.5746421267893661, 0.5950920245398773, 0.623721881390593, 0.623721881390593, 0.623721881390593, 0.623721881390593, 0.623721881390593, 0.623721881390593, 0.623721881390593, 0.623721881390593, 0.6421267893660532, 0.6421267893660532, 0.6421267893660532, 0.6421267893660532, 0.6421267893660532, 0.6421267893660532, 0.6421267893660532, 0.6646216768916156, 0.6952965235173824, 0.7239263803680982, 0.7239263803680982, 0.7239263803680982, 0.7239263803680982, 0.7423312883435583, 0.7709611451942741, 0.7709611451942741, 0.7709611451942741, 0.7709611451942741, 0.7934560327198364, 0.8241308793456033, 0.8507157464212679, 0.8507157464212679, 0.8507157464212679, 0.8507157464212679, 0.885480572597137, 0.885480572597137, 0.885480572597137, 0.8977505112474438, 0.8977505112474438, 0.8977505112474438, 0.8977505112474438, 0.9243353783231084, 0.9243353783231084, 0.9366053169734151, 0.967280163599182, 0.967280163599182, 0.967280163599182, 0.967280163599182, 0.967280163599182, 1.0, 1.0, 1.0, 1.0, 1.0, 1.0, 1.0, 1.0, 1.0, 1.0, 1.0, 1.0, 1.0, 1.0, 1.0, 1.0, 1.0, 1.0, 1.0, 1.0, 1.0, 1.0, 1.0, 1.0, 1.0, 1.0, 1.0, 1.0, 1.0, 1.0, 1.0, 1.0, 1.0, 1.0, 1.0, 1.0, 1.0, 1.0, 1.0, 1.0, 1.0, 1.0, 1.0, 1.0, 1.0, 1.0, 1.0, 1.0, 1.0, 1.0, 1.0, 1.0, 1.0, 1.0, 1.0, 1.0, 1.0, 1.0, 1.0, 1.0, 1.0, 1.0, 1.0, 1.0, 1.0, 1.0, 1.0, 1.0, 1.0, 1.0, 1.0, 1.0, 1.0, 1.0, 1.0, 1.0, 1.0, 1.0, 1.0, 1.0, 1.0, 1.0, 1.0, 1.0, 1.0, 1.0, 1.0, 1.0, 1.0, 1.0, 1.0, 1.0, 1.0, 1.0, 1.0, 1.0, 1.0, 1.0, 1.0, 1.0, 1.0, 1.0, 1.0, 1.0, 1.0, 1.0, 1.0, 1.0, 1.0, 1.0, 1.0, 1.0, 1.0, 1.0, 1.0, 1.0, 1.0, 1.0, 1.0, 1.0, 1.0, 1.0, 1.0, 1.0, 1.0, 1.0, 1.0, 1.0, 1.0, 1.0, 1.0, 1.0, 1.0, 1.0, 1.0, 1.0, 1.0, 1.0, 1.0, 1.0, 1.0, 1.0, 1.0, 1.0, 1.0, 1.0, 1.0, 1.0, 1.0, 1.0, 1.0, 1.0, 1.0, 1.0, 1.0, 1.0, 1.0, 1.0, 1.0, 1.0, 1.0, 1.0, 1.0, 1.0, 1.0, 1.0, 1.0, 1.0, 1.0, 1.0, 1.0, 1.0, 1.0, 1.0, 1.0, 1.0, 1.0, 1.0, 1.0, 1.0, 1.0, 1.0, 1.0, 1.0, 1.0, 1.0, 1.0, 1.0, 1.0, 1.0, 1.0, 1.0, 1.0, 1.0, 1.0, 1.0, 1.0, 1.0, 1.0, 1.0, 1.0, 1.0, 1.0, 1.0, 1.0, 1.0, 1.0, 1.0, 1.0, 1.0, 1.0, 1.0, 1.0, 1.0, 1.0, 1.0, 1.0, 1.0, 1.0, 1.0, 1.0, 1.0, 1.0, 1.0, 1.0, 1.0, 1.0, 1.0, 1.0, 1.0, 1.0, 1.0, 1.0, 1.0, 1.0, 1.0, 1.0, 1.0, 1.0, 1.0, 1.0, 1.0, 1.0, 1.0, 1.0, 1.0, 1.0, 1.0, 1.0, 1.0, 1.0, 1.0, 1.0, 1.0, 1.0, 1.0, 1.0, 1.0, 1.0, 1.0, 1.0, 1.0, 1.0, 1.0, 1.0, 1.0, 1.0, 1.0, 1.0, 1.0, 1.0, 1.0, 1.0, 1.0, 1.0, 1.0, 1.0, 1.0, 1.0, 1.0, 1.0, 1.0, 1.0, 1.0, 1.0, 1.0, 1.0, 1.0, 1.0, 1.0, 1.0, 1.0, 1.0, 1.0, 1.0, 1.0, 1.0, 1.0, 1.0, 1.0, 1.0, 1.0, 1.0, 1.0, 1.0, 1.0, 1.0, 1.0, 1.0, 1.0, 1.0, 1.0, 1.0, 1.0, 1.0, 1.0, 1.0, 1.0, 1.0, 1.0, 1.0, 1.0, 1.0, 1.0, 1.0, 1.0, 1.0, 1.0, 1.0, 1.0, 1.0, 1.0, 1.0, 1.0, 1.0, 1.0, 1.0, 1.0, 1.0, 1.0, 1.0, 1.0, 1.0, 1.0, 1.0, 1.0, 1.0, 1.0, 1.0, 1.0, 1.0, 1.0, 1.0, 1.0, 1.0, 1.0, 1.0], \"x\": [0.0, 0.0, 0.0019723865877712033, 0.0039447731755424065, 0.0039447731755424065, 0.005917159763313609, 0.005917159763313609, 0.007889546351084813, 0.009861932938856016, 0.011834319526627219, 0.011834319526627219, 0.013806706114398421, 0.013806706114398421, 0.015779092702169626, 0.015779092702169626, 0.01775147928994083, 0.01972386587771203, 0.01972386587771203, 0.01972386587771203, 0.021696252465483234, 0.023668639053254437, 0.02564102564102564, 0.027613412228796843, 0.027613412228796843, 0.029585798816568046, 0.03155818540433925, 0.03353057199211045, 0.03550295857988166, 0.03747534516765286, 0.03747534516765286, 0.03944773175542406, 0.04142011834319527, 0.04142011834319527, 0.04339250493096647, 0.045364891518737675, 0.047337278106508875, 0.04930966469428008, 0.05128205128205128, 0.05128205128205128, 0.05325443786982249, 0.05325443786982249, 0.055226824457593686, 0.05719921104536489, 0.05719921104536489, 0.05917159763313609, 0.0611439842209073, 0.0611439842209073, 0.0631163708086785, 0.0650887573964497, 0.0670611439842209, 0.06903353057199212, 0.07100591715976332, 0.07297830374753451, 0.07495069033530571, 0.07692307692307693, 0.07889546351084813, 0.08086785009861933, 0.08284023668639054, 0.08481262327416174, 0.08678500986193294, 0.08875739644970414, 0.09072978303747535, 0.09270216962524655, 0.09467455621301775, 0.09664694280078895, 0.09861932938856016, 0.10059171597633136, 0.10256410256410256, 0.10453648915187377, 0.10650887573964497, 0.10848126232741617, 0.11045364891518737, 0.11242603550295859, 0.11439842209072978, 0.11637080867850098, 0.11834319526627218, 0.1203155818540434, 0.1222879684418146, 0.1242603550295858, 0.126232741617357, 0.1282051282051282, 0.1301775147928994, 0.13214990138067062, 0.1341222879684418, 0.13609467455621302, 0.13806706114398423, 0.13806706114398423, 0.14003944773175542, 0.14201183431952663, 0.14398422090729784, 0.14595660749506903, 0.14792899408284024, 0.14792899408284024, 0.14990138067061143, 0.15187376725838264, 0.15384615384615385, 0.15581854043392504, 0.15581854043392504, 0.15779092702169625, 0.15976331360946747, 0.16173570019723865, 0.16370808678500987, 0.16568047337278108, 0.16765285996055226, 0.16765285996055226, 0.16962524654832348, 0.17159763313609466, 0.17357001972386588, 0.1755424063116371, 0.17751479289940827, 0.1794871794871795, 0.1814595660749507, 0.1834319526627219, 0.1834319526627219, 0.1834319526627219, 0.1854043392504931, 0.1873767258382643, 0.1893491124260355, 0.1913214990138067, 0.1932938856015779, 0.1952662721893491, 0.19723865877712032, 0.1992110453648915, 0.1992110453648915, 0.1992110453648915, 0.20118343195266272, 0.20315581854043394, 0.20512820512820512, 0.20710059171597633, 0.20907297830374755, 0.21104536489151873, 0.21104536489151873, 0.21104536489151873, 0.21104536489151873, 0.21301775147928995, 0.21499013806706113, 0.21696252465483234, 0.21893491124260356, 0.22090729783037474, 0.22287968441814596, 0.22485207100591717, 0.22682445759368836, 0.22682445759368836, 0.22682445759368836, 0.22879684418145957, 0.23076923076923078, 0.23274161735700197, 0.23471400394477318, 0.23471400394477318, 0.23471400394477318, 0.23668639053254437, 0.23865877712031558, 0.2406311637080868, 0.24260355029585798, 0.2445759368836292, 0.2465483234714004, 0.2485207100591716, 0.2485207100591716, 0.2504930966469428, 0.252465483234714, 0.25443786982248523, 0.2564102564102564, 0.2583826429980276, 0.2603550295857988, 0.2603550295857988, 0.2603550295857988, 0.2603550295857988, 0.26232741617357, 0.26429980276134124, 0.26627218934911245, 0.26627218934911245, 0.26627218934911245, 0.2682445759368836, 0.2702169625246548, 0.27218934911242604, 0.27218934911242604, 0.27218934911242604, 0.27218934911242604, 0.27416173570019725, 0.27613412228796846, 0.2781065088757396, 0.2781065088757396, 0.28007889546351084, 0.28205128205128205, 0.28205128205128205, 0.28402366863905326, 0.2859960552268245, 0.2879684418145957, 0.2879684418145957, 0.28994082840236685, 0.28994082840236685, 0.28994082840236685, 0.29191321499013806, 0.2938856015779093, 0.2958579881656805, 0.2978303747534517, 0.2978303747534517, 0.29980276134122286, 0.30177514792899407, 0.3037475345167653, 0.3057199211045365, 0.3076923076923077, 0.3096646942800789, 0.3116370808678501, 0.3136094674556213, 0.3155818540433925, 0.3175542406311637, 0.31952662721893493, 0.3214990138067061, 0.3234714003944773, 0.3254437869822485, 0.32741617357001973, 0.32938856015779094, 0.33136094674556216, 0.3333333333333333, 0.33530571992110453, 0.33727810650887574, 0.33925049309664695, 0.34122287968441817, 0.3431952662721893, 0.34516765285996054, 0.34714003944773175, 0.34911242603550297, 0.3510848126232742, 0.3530571992110454, 0.35502958579881655, 0.35700197238658776, 0.358974358974359, 0.3609467455621302, 0.3629191321499014, 0.36489151873767256, 0.3668639053254438, 0.368836291913215, 0.3708086785009862, 0.3727810650887574, 0.3747534516765286, 0.3767258382642998, 0.378698224852071, 0.3806706114398422, 0.3826429980276134, 0.38461538461538464, 0.3865877712031558, 0.388560157790927, 0.3905325443786982, 0.39250493096646943, 0.39447731755424065, 0.39644970414201186, 0.398422090729783, 0.40039447731755423, 0.40236686390532544, 0.40433925049309666, 0.40631163708086787, 0.40828402366863903, 0.41025641025641024, 0.41222879684418146, 0.41420118343195267, 0.4161735700197239, 0.4181459566074951, 0.42011834319526625, 0.42209072978303747, 0.4240631163708087, 0.4260355029585799, 0.4280078895463511, 0.42998027613412226, 0.4319526627218935, 0.4339250493096647, 0.4358974358974359, 0.4378698224852071, 0.43984220907297833, 0.4418145956607495, 0.4437869822485207, 0.4457593688362919, 0.4477317554240631, 0.44970414201183434, 0.4516765285996055, 0.4536489151873767, 0.4556213017751479, 0.45759368836291914, 0.45956607495069035, 0.46153846153846156, 0.4635108481262327, 0.46548323471400394, 0.46745562130177515, 0.46942800788954636, 0.4714003944773176, 0.47337278106508873, 0.47534516765285995, 0.47731755424063116, 0.47928994082840237, 0.4812623274161736, 0.4832347140039448, 0.48520710059171596, 0.48717948717948717, 0.4891518737672584, 0.4911242603550296, 0.4930966469428008, 0.49506903353057197, 0.4970414201183432, 0.4990138067061144, 0.5009861932938856, 0.5029585798816568, 0.504930966469428, 0.5069033530571992, 0.5088757396449705, 0.5108481262327417, 0.5128205128205128, 0.514792899408284, 0.5167652859960552, 0.5187376725838264, 0.5207100591715976, 0.5226824457593688, 0.52465483234714, 0.5266272189349113, 0.5285996055226825, 0.5305719921104537, 0.5325443786982249, 0.534516765285996, 0.5364891518737672, 0.5384615384615384, 0.5404339250493096, 0.5424063116370809, 0.5443786982248521, 0.5463510848126233, 0.5483234714003945, 0.5502958579881657, 0.5522682445759369, 0.5542406311637081, 0.5562130177514792, 0.5581854043392505, 0.5601577909270217, 0.5621301775147929, 0.5641025641025641, 0.5660749506903353, 0.5680473372781065, 0.5700197238658777, 0.571992110453649, 0.5739644970414202, 0.5759368836291914, 0.5779092702169625, 0.5798816568047337, 0.5818540433925049, 0.5838264299802761, 0.5857988165680473, 0.5877712031558185, 0.5897435897435898, 0.591715976331361, 0.5936883629191322, 0.5956607495069034, 0.5976331360946746, 0.5996055226824457, 0.6015779092702169, 0.6035502958579881, 0.6055226824457594, 0.6074950690335306, 0.6094674556213018, 0.611439842209073, 0.6134122287968442, 0.6153846153846154, 0.6173570019723866, 0.6193293885601578, 0.621301775147929, 0.6232741617357002, 0.6252465483234714, 0.6272189349112426, 0.6291913214990138, 0.631163708086785, 0.6331360946745562, 0.6351084812623274, 0.6370808678500987, 0.6390532544378699, 0.6410256410256411, 0.6429980276134122, 0.6449704142011834, 0.6469428007889546, 0.6489151873767258, 0.650887573964497, 0.6528599605522682, 0.6548323471400395, 0.6568047337278107, 0.6587771203155819, 0.6607495069033531, 0.6627218934911243, 0.6646942800788954, 0.6666666666666666, 0.6686390532544378, 0.6706114398422091, 0.6725838264299803, 0.6745562130177515, 0.6765285996055227, 0.6785009861932939, 0.6804733727810651, 0.6824457593688363, 0.6844181459566075, 0.6863905325443787, 0.6883629191321499, 0.6903353057199211, 0.6923076923076923, 0.6942800788954635, 0.6962524654832347, 0.6982248520710059, 0.7001972386587771, 0.7021696252465484, 0.7041420118343196, 0.7061143984220908, 0.7080867850098619, 0.7100591715976331, 0.7120315581854043, 0.7140039447731755, 0.7159763313609467, 0.717948717948718, 0.7199211045364892, 0.7218934911242604, 0.7238658777120316, 0.7258382642998028, 0.727810650887574, 0.7297830374753451, 0.7317554240631163, 0.7337278106508875, 0.7357001972386588, 0.73767258382643, 0.7396449704142012, 0.7416173570019724, 0.7435897435897436, 0.7455621301775148, 0.747534516765286, 0.7495069033530573, 0.7514792899408284, 0.7534516765285996, 0.7554240631163708, 0.757396449704142, 0.7593688362919132, 0.7613412228796844, 0.7633136094674556, 0.7652859960552268, 0.7672583826429981, 0.7692307692307693, 0.7712031558185405, 0.7731755424063116, 0.7751479289940828, 0.777120315581854, 0.7790927021696252, 0.7810650887573964, 0.7830374753451677, 0.7850098619329389, 0.7869822485207101, 0.7889546351084813, 0.7909270216962525, 0.7928994082840237, 0.7948717948717948, 0.796844181459566, 0.7988165680473372, 0.8007889546351085, 0.8027613412228797, 0.8047337278106509, 0.8067061143984221, 0.8086785009861933, 0.8106508875739645, 0.8126232741617357, 0.814595660749507, 0.8165680473372781, 0.8185404339250493, 0.8205128205128205, 0.8224852071005917, 0.8244575936883629, 0.8264299802761341, 0.8284023668639053, 0.8303747534516766, 0.8323471400394478, 0.834319526627219, 0.8362919132149902, 0.8382642998027613, 0.8402366863905325, 0.8422090729783037, 0.8441814595660749, 0.8461538461538461, 0.8481262327416174, 0.8500986193293886, 0.8520710059171598, 0.854043392504931, 0.8560157790927022, 0.8579881656804734, 0.8599605522682445, 0.8619329388560157, 0.863905325443787, 0.8658777120315582, 0.8678500986193294, 0.8698224852071006, 0.8717948717948718, 0.873767258382643, 0.8757396449704142, 0.8777120315581854, 0.8796844181459567, 0.8816568047337278, 0.883629191321499, 0.8856015779092702, 0.8875739644970414, 0.8895463510848126, 0.8915187376725838, 0.893491124260355, 0.8954635108481263, 0.8974358974358975, 0.8994082840236687, 0.9013806706114399, 0.903353057199211, 0.9053254437869822, 0.9072978303747534, 0.9092702169625246, 0.9112426035502958, 0.9132149901380671, 0.9151873767258383, 0.9171597633136095, 0.9191321499013807, 0.9211045364891519, 0.9230769230769231, 0.9250493096646942, 0.9270216962524654, 0.9289940828402367, 0.9309664694280079, 0.9329388560157791, 0.9349112426035503, 0.9368836291913215, 0.9388560157790927, 0.9408284023668639, 0.9428007889546351, 0.9447731755424064, 0.9467455621301775, 0.9487179487179487, 0.9506903353057199, 0.9526627218934911, 0.9546351084812623, 0.9566074950690335, 0.9585798816568047, 0.960552268244576, 0.9625246548323472, 0.9644970414201184, 0.9664694280078896, 0.9684418145956607, 0.9704142011834319, 0.9723865877712031, 0.9743589743589743, 0.9763313609467456, 0.9783037475345168, 0.980276134122288, 0.9822485207100592, 0.9842209072978304, 0.9861932938856016, 0.9881656804733728, 0.9901380670611439, 0.9921104536489151, 0.9940828402366864, 0.9960552268244576, 0.9980276134122288, 1.0]}, \"id\": \"de8334e2-ac49-48ae-9384-b4bd6f23d827\"}, \"type\": \"ColumnDataSource\", \"id\": \"de8334e2-ac49-48ae-9384-b4bd6f23d827\"}, {\"attributes\": {\"plot\": {\"subtype\": \"Figure\", \"type\": \"Plot\", \"id\": \"175f55d6-3f80-4918-8268-8fd6f54d68f4\"}, \"tags\": [], \"doc\": null, \"dimension\": 0, \"ticker\": {\"type\": \"BasicTicker\", \"id\": \"25a33b4c-d936-4257-8e62-0808a0d315c6\"}, \"id\": \"f8443219-ad0c-41e1-8eb5-4b9fc4b42229\"}, \"type\": \"Grid\", \"id\": \"f8443219-ad0c-41e1-8eb5-4b9fc4b42229\"}, {\"attributes\": {\"tags\": [], \"doc\": null, \"mantissas\": [2, 5, 10], \"id\": \"df39466f-6211-4c6d-b32a-e13ed7eb5787\", \"num_minor_ticks\": 5}, \"type\": \"BasicTicker\", \"id\": \"df39466f-6211-4c6d-b32a-e13ed7eb5787\"}, {\"attributes\": {\"plot\": {\"subtype\": \"Figure\", \"type\": \"Plot\", \"id\": \"175f55d6-3f80-4918-8268-8fd6f54d68f4\"}, \"dimensions\": [\"width\", \"height\"], \"tags\": [], \"doc\": null, \"id\": \"4a0ec0a0-eb52-4d55-95ad-77257d34b4a5\"}, \"type\": \"PanTool\", \"id\": \"4a0ec0a0-eb52-4d55-95ad-77257d34b4a5\"}, {\"attributes\": {\"plot\": {\"subtype\": \"Figure\", \"type\": \"Plot\", \"id\": \"175f55d6-3f80-4918-8268-8fd6f54d68f4\"}, \"dimensions\": [\"width\", \"height\"], \"tags\": [], \"doc\": null, \"id\": \"614d0c53-0525-416e-81a1-b22fa36c11d7\"}, \"type\": \"WheelZoomTool\", \"id\": \"614d0c53-0525-416e-81a1-b22fa36c11d7\"}, {\"attributes\": {\"plot\": {\"subtype\": \"Figure\", \"type\": \"Plot\", \"id\": \"175f55d6-3f80-4918-8268-8fd6f54d68f4\"}, \"dimensions\": [\"width\", \"height\"], \"tags\": [], \"doc\": null, \"id\": \"dd8427e6-ddfc-4bee-8119-42f57153a0f3\"}, \"type\": \"BoxZoomTool\", \"id\": \"dd8427e6-ddfc-4bee-8119-42f57153a0f3\"}, {\"attributes\": {\"plot\": {\"subtype\": \"Figure\", \"type\": \"Plot\", \"id\": \"175f55d6-3f80-4918-8268-8fd6f54d68f4\"}, \"tags\": [], \"doc\": null, \"dimension\": 1, \"ticker\": {\"type\": \"BasicTicker\", \"id\": \"df39466f-6211-4c6d-b32a-e13ed7eb5787\"}, \"id\": \"4911df0b-ba18-4728-a052-1d81b6d95837\"}, \"type\": \"Grid\", \"id\": \"4911df0b-ba18-4728-a052-1d81b6d95837\"}, {\"attributes\": {\"line_color\": {\"value\": \"#1f77b4\"}, \"line_alpha\": {\"value\": 1.0}, \"tags\": [], \"doc\": null, \"y\": {\"field\": \"y\"}, \"x\": {\"field\": \"x\"}, \"id\": \"d9947132-ed1a-419d-b34d-fba2ed05ae9f\"}, \"type\": \"Line\", \"id\": \"d9947132-ed1a-419d-b34d-fba2ed05ae9f\"}, {\"attributes\": {\"plot\": {\"subtype\": \"Figure\", \"type\": \"Plot\", \"id\": \"175f55d6-3f80-4918-8268-8fd6f54d68f4\"}, \"tags\": [], \"doc\": null, \"id\": \"152ae527-a325-4603-8231-ece40b9444e0\"}, \"type\": \"ResizeTool\", \"id\": \"152ae527-a325-4603-8231-ece40b9444e0\"}, {\"attributes\": {\"plot\": {\"subtype\": \"Figure\", \"type\": \"Plot\", \"id\": \"175f55d6-3f80-4918-8268-8fd6f54d68f4\"}, \"tags\": [], \"doc\": null, \"id\": \"1ef882d6-32ae-457d-a1a5-79f4ded0a170\"}, \"type\": \"ResetTool\", \"id\": \"1ef882d6-32ae-457d-a1a5-79f4ded0a170\"}, {\"attributes\": {\"nonselection_glyph\": {\"type\": \"Line\", \"id\": \"351cdbd6-0dfc-4b7b-9f6d-54b716cab802\"}, \"data_source\": {\"type\": \"ColumnDataSource\", \"id\": \"de8334e2-ac49-48ae-9384-b4bd6f23d827\"}, \"tags\": [], \"doc\": null, \"selection_glyph\": null, \"id\": \"f0516d99-2d24-4fe7-863f-0ab4b9fef8da\", \"glyph\": {\"type\": \"Line\", \"id\": \"d9947132-ed1a-419d-b34d-fba2ed05ae9f\"}}, \"type\": \"GlyphRenderer\", \"id\": \"f0516d99-2d24-4fe7-863f-0ab4b9fef8da\"}, {\"attributes\": {\"geometries\": [], \"tags\": [], \"doc\": null, \"id\": \"672d2a0c-ffa2-47b6-bc71-74cbb8a87d1b\"}, \"type\": \"ToolEvents\", \"id\": \"672d2a0c-ffa2-47b6-bc71-74cbb8a87d1b\"}, {\"attributes\": {\"plot\": {\"subtype\": \"Figure\", \"type\": \"Plot\", \"id\": \"175f55d6-3f80-4918-8268-8fd6f54d68f4\"}, \"tags\": [], \"doc\": null, \"id\": \"a906bfdf-d71c-4ea0-b157-1ea101534f7e\"}, \"type\": \"HelpTool\", \"id\": \"a906bfdf-d71c-4ea0-b157-1ea101534f7e\"}, {\"attributes\": {\"line_color\": {\"value\": \"#1f77b4\"}, \"line_alpha\": {\"value\": 0.1}, \"tags\": [], \"doc\": null, \"y\": {\"field\": \"y\"}, \"x\": {\"field\": \"x\"}, \"id\": \"351cdbd6-0dfc-4b7b-9f6d-54b716cab802\"}, \"type\": \"Line\", \"id\": \"351cdbd6-0dfc-4b7b-9f6d-54b716cab802\"}, {\"attributes\": {\"plot\": {\"subtype\": \"Figure\", \"type\": \"Plot\", \"id\": \"175f55d6-3f80-4918-8268-8fd6f54d68f4\"}, \"orientation\": \"bottom_right\", \"tags\": [], \"doc\": null, \"id\": \"4acfe32c-f0d2-4a9c-ad5c-d36b45da3ef9\", \"legends\": [[\"ROC curve (area = 0.828)\", [{\"type\": \"GlyphRenderer\", \"id\": \"f0516d99-2d24-4fe7-863f-0ab4b9fef8da\"}]]]}, \"type\": \"Legend\", \"id\": \"4acfe32c-f0d2-4a9c-ad5c-d36b45da3ef9\"}, {\"attributes\": {\"end\": 1, \"callback\": null, \"doc\": null, \"tags\": [], \"start\": 0, \"id\": \"1aad05b9-1432-44ed-8910-db5846f6b47b\"}, \"type\": \"Range1d\", \"id\": \"1aad05b9-1432-44ed-8910-db5846f6b47b\"}, {\"subtype\": \"Figure\", \"type\": \"Plot\", \"id\": \"175f55d6-3f80-4918-8268-8fd6f54d68f4\", \"attributes\": {\"x_range\": {\"type\": \"Range1d\", \"id\": \"1aad05b9-1432-44ed-8910-db5846f6b47b\"}, \"right\": [], \"tags\": [], \"tools\": [{\"type\": \"PanTool\", \"id\": \"4a0ec0a0-eb52-4d55-95ad-77257d34b4a5\"}, {\"type\": \"WheelZoomTool\", \"id\": \"614d0c53-0525-416e-81a1-b22fa36c11d7\"}, {\"type\": \"BoxZoomTool\", \"id\": \"dd8427e6-ddfc-4bee-8119-42f57153a0f3\"}, {\"type\": \"PreviewSaveTool\", \"id\": \"18d8c5a0-0335-449c-b4ab-982c1da4263f\"}, {\"type\": \"ResizeTool\", \"id\": \"152ae527-a325-4603-8231-ece40b9444e0\"}, {\"type\": \"ResetTool\", \"id\": \"1ef882d6-32ae-457d-a1a5-79f4ded0a170\"}, {\"type\": \"HelpTool\", \"id\": \"a906bfdf-d71c-4ea0-b157-1ea101534f7e\"}], \"title\": \"Receiver Operating Characteristic\", \"extra_y_ranges\": {}, \"renderers\": [{\"type\": \"LinearAxis\", \"id\": \"b4d8f34e-7d01-442b-891d-85335b7c4947\"}, {\"type\": \"Grid\", \"id\": \"f8443219-ad0c-41e1-8eb5-4b9fc4b42229\"}, {\"type\": \"LinearAxis\", \"id\": \"e0daf9cd-5884-4759-ab90-95bc03bd4642\"}, {\"type\": \"Grid\", \"id\": \"4911df0b-ba18-4728-a052-1d81b6d95837\"}, {\"type\": \"Legend\", \"id\": \"4acfe32c-f0d2-4a9c-ad5c-d36b45da3ef9\"}, {\"type\": \"GlyphRenderer\", \"id\": \"f0516d99-2d24-4fe7-863f-0ab4b9fef8da\"}], \"extra_x_ranges\": {}, \"below\": [{\"type\": \"LinearAxis\", \"id\": \"b4d8f34e-7d01-442b-891d-85335b7c4947\"}], \"tool_events\": {\"type\": \"ToolEvents\", \"id\": \"672d2a0c-ffa2-47b6-bc71-74cbb8a87d1b\"}, \"above\": [], \"doc\": null, \"y_range\": {\"type\": \"Range1d\", \"id\": \"988b0b14-4e17-44b1-ae7c-7243e90f4dfb\"}, \"id\": \"175f55d6-3f80-4918-8268-8fd6f54d68f4\", \"left\": [{\"type\": \"LinearAxis\", \"id\": \"e0daf9cd-5884-4759-ab90-95bc03bd4642\"}]}}];\n",
       "        Bokeh.load_models(all_models);\n",
       "        var plots = [{'modeltype': 'Plot', 'elementid': 'b2ac58c5-d34b-47f1-b63c-3bf4220a5637', 'modelid': '175f55d6-3f80-4918-8268-8fd6f54d68f4'}];\n",
       "        for (idx in plots) {\n",
       "        \tvar plot = plots[idx];\n",
       "        \tvar model = Bokeh.Collections(plot.modeltype).get(plot.modelid);\n",
       "        \tBokeh.logger.info('Realizing plot:')\n",
       "        \tBokeh.logger.info(' - modeltype: ' + plot.modeltype);\n",
       "        \tBokeh.logger.info(' - modelid: ' + plot.modelid);\n",
       "        \tBokeh.logger.info(' - elementid: ' + plot.elementid);\n",
       "        \tvar view = new model.default_view({\n",
       "        \t\tmodel: model,\n",
       "        \t\tel: '#' + plot.elementid\n",
       "        \t});\n",
       "        \tBokeh.index[plot.modelid] = view;\n",
       "        }\n",
       "    });\n",
       "    </script>\n",
       "<div class=\"plotdiv\" id=\"b2ac58c5-d34b-47f1-b63c-3bf4220a5637\"></div>\n",
       "\n"
      ]
     },
     "metadata": {},
     "output_type": "display_data"
    }
   ],
   "source": [
    "model_lr = LogisticRegression(C=.1).fit(train_feat, train_target)\n",
    "target_predicted_proba = model_lr.predict_proba(test_feat)\n",
    "\n",
    "plot_roc_curve(test_target, target_predicted_proba)"
   ]
  },
  {
   "cell_type": "markdown",
   "metadata": {
    "collapsed": true
   },
   "source": [
    "## Unbalanced Classes Setup"
   ]
  },
  {
   "cell_type": "markdown",
   "metadata": {},
   "source": [
    "See above for external package setup.."
   ]
  },
  {
   "cell_type": "markdown",
   "metadata": {},
   "source": [
    "Back to our confusion matrix.  Let's refresh our data first."
   ]
  },
  {
   "cell_type": "code",
   "execution_count": null,
   "metadata": {
    "collapsed": true
   },
   "outputs": [],
   "source": [
    "en = pd.read_csv('../data/ENB2012_data.csv',header=0)\n",
    "en.info()"
   ]
  },
  {
   "cell_type": "markdown",
   "metadata": {},
   "source": [
    "Remember our results?  Could be better right?"
   ]
  },
  {
   "cell_type": "markdown",
   "metadata": {},
   "source": [
    "###Strategy 1: Sample from the overloaded class\n",
    "If we put the two classes on the same order of magnitude we can hope that our Model de-emphasizes its accuracy on the Falses with hopes of improving our scores on predicting the underrepresented class. One approach is to use less data from our overloaded class."
   ]
  },
  {
   "cell_type": "code",
   "execution_count": 78,
   "metadata": {
    "collapsed": true
   },
   "outputs": [],
   "source": [
    "# 'Random under-sampling'\n",
    "\n",
    "x = data.values\n",
    "y = labels.values\n",
    "\n",
    "X_train, X_test, Y_train, Y_test = train_test_split(x, y, test_size=0.2, random_state=1)  "
   ]
  },
  {
   "cell_type": "code",
   "execution_count": null,
   "metadata": {
    "collapsed": false
   },
   "outputs": [],
   "source": [
    "#Note we are keeping our test set out of this undersampling routing\n",
    "US = UnderSampler(verbose=True)\n",
    "usx, usy = US.fit_transform(X_train,Y_train)"
   ]
  },
  {
   "cell_type": "code",
   "execution_count": null,
   "metadata": {
    "collapsed": true
   },
   "outputs": [],
   "source": [
    "### Lets plug this undersampled data back into a dataframe to see how it looks now. \n",
    "us_df = pd.DataFrame(usx, columns=data.columns)\n",
    "us_df['labels'] = usy\n",
    "us_df.describe().T"
   ]
  },
  {
   "cell_type": "markdown",
   "metadata": {},
   "source": [
    "###Exercise\n",
    "\n",
    "- Using our new UnderSampled Data, test the performance of Logistic Regression, Naive Bayes, and KNN on this data. "
   ]
  },
  {
   "cell_type": "code",
   "execution_count": 80,
   "metadata": {
    "collapsed": true
   },
   "outputs": [],
   "source": [
    "# Logistic Regression\n",
    "\n",
    "\n"
   ]
  },
  {
   "cell_type": "code",
   "execution_count": 81,
   "metadata": {
    "collapsed": true
   },
   "outputs": [],
   "source": [
    "#KNN \n",
    "\n",
    "\n",
    "\n"
   ]
  },
  {
   "cell_type": "code",
   "execution_count": 82,
   "metadata": {
    "collapsed": true
   },
   "outputs": [],
   "source": [
    "#Navie Bayes:\n",
    "\n",
    "\n",
    "\n"
   ]
  },
  {
   "cell_type": "markdown",
   "metadata": {},
   "source": [
    "Did this get better?  What happened?\n",
    "\n",
    "Well, yes and no. We traded off between precision, correctly classifying as over 40, and recall, classifying more of the positives as positives. In practice, a mixture of both Over & Under sampling is used. "
   ]
  },
  {
   "cell_type": "markdown",
   "metadata": {},
   "source": [
    "###Strategy 2: Oversample the underrepresented class\n",
    "\n",
    "To oversample, we will use all of our negative values and sample from our positive values a number that's more reasonable. Note the `replace = True` argument: we need to sample **with replacement** meaning after we sample a value, we replace the value we sampled in our original set, so it remains un changed. Before, sampling was done without replacement, guarnteeing unique values.\n",
    "\n",
    "Sampling with replacement is not the same as SMOTE, which creates synthetic data. For more information on SMOTE, check out the original paper here: https://www.jair.org/media/953/live-953-2037-jair.pdf"
   ]
  },
  {
   "cell_type": "code",
   "execution_count": null,
   "metadata": {
    "collapsed": true
   },
   "outputs": [],
   "source": [
    "# 'Random over-sampling'\n",
    "\n",
    "x = data.values\n",
    "y = labels.values\n",
    "\n",
    "\n",
    "X_train, X_test, Y_train, Y_test = train_test_split(x, y, test_size=0.2, random_state=1)  "
   ]
  },
  {
   "cell_type": "code",
   "execution_count": null,
   "metadata": {
    "collapsed": true
   },
   "outputs": [],
   "source": [
    "verbose = True\n",
    "ratio = 10.0\n",
    "\n",
    "OS = SMOTE(ratio=ratio, verbose=verbose)\n",
    "osx, osy = OS.fit_transform(X_train, Y_train)"
   ]
  },
  {
   "cell_type": "code",
   "execution_count": null,
   "metadata": {
    "collapsed": true
   },
   "outputs": [],
   "source": [
    "os_df = pd.DataFrame(osx, columns=data.columns)\n",
    "os_df['labels'] = osy\n",
    "os_df.describe().T"
   ]
  },
  {
   "cell_type": "markdown",
   "metadata": {},
   "source": [
    "###Exercise\n",
    "\n",
    "- Using our new OverSampled Data, test the performance of Logistic Regression, Naive Bayes, and KNN on this data.  "
   ]
  },
  {
   "cell_type": "code",
   "execution_count": null,
   "metadata": {
    "collapsed": true
   },
   "outputs": [],
   "source": [
    "#Logistic Regression:\n",
    "\n",
    "\n"
   ]
  },
  {
   "cell_type": "code",
   "execution_count": null,
   "metadata": {
    "collapsed": true
   },
   "outputs": [],
   "source": [
    "#KNN Model\n",
    "\n",
    "\n",
    "\n"
   ]
  },
  {
   "cell_type": "code",
   "execution_count": null,
   "metadata": {
    "collapsed": true
   },
   "outputs": [],
   "source": [
    "#Naive Bayes Model\n",
    "\n",
    "\n",
    "\n"
   ]
  },
  {
   "cell_type": "markdown",
   "metadata": {},
   "source": [
    "But the model got worse or better? (worse)\n",
    "Well, yes and no. We traded off between precision, correctly classifying as over 40, and recall, classifying more of the positives as positives. In practice, a mixture of both Over & Under sampling is used. "
   ]
  },
  {
   "cell_type": "markdown",
   "metadata": {},
   "source": [
    "###Exercise\n",
    "- Repeat our process for a high cooling load\n",
    "- Reinstantiate your data and then set the high cooling load at an appropriate value (I'll get you started)."
   ]
  },
  {
   "cell_type": "code",
   "execution_count": 3,
   "metadata": {
    "collapsed": false
   },
   "outputs": [
    {
     "data": {
      "text/plain": [
       "False    721\n",
       "True      47\n",
       "Name: high_cool, dtype: int64"
      ]
     },
     "execution_count": 3,
     "metadata": {},
     "output_type": "execute_result"
    }
   ],
   "source": [
    "en = pd.read_csv('../data/ENB2012_data.csv',header=0)\n",
    "en['high_cool'] = en.cooling_load >= 40\n",
    "en.high_cool.value_counts()"
   ]
  },
  {
   "cell_type": "code",
   "execution_count": null,
   "metadata": {
    "collapsed": true
   },
   "outputs": [],
   "source": [
    "#Fit a logistic regression without using over or undersampling:\n",
    "\n",
    "\n"
   ]
  },
  {
   "cell_type": "code",
   "execution_count": null,
   "metadata": {
    "collapsed": true
   },
   "outputs": [],
   "source": [
    "#Fit a Logistic Regression using Undersampling:\n",
    "\n",
    "\n",
    "\n"
   ]
  },
  {
   "cell_type": "code",
   "execution_count": null,
   "metadata": {
    "collapsed": true
   },
   "outputs": [],
   "source": [
    "#Fit a Logistic Regression using Oversampling:\n",
    "\n",
    "\n",
    "\n"
   ]
  }
 ],
 "metadata": {
  "kernelspec": {
   "display_name": "Python 2",
   "language": "python",
   "name": "python2"
  },
  "language_info": {
   "codemirror_mode": {
    "name": "ipython",
    "version": 2
   },
   "file_extension": ".py",
   "mimetype": "text/x-python",
   "name": "python",
   "nbconvert_exporter": "python",
   "pygments_lexer": "ipython2",
   "version": "2.7.6"
  }
 },
 "nbformat": 4,
 "nbformat_minor": 0
}
