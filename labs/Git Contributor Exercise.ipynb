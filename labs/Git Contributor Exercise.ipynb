{
 "cells": [
  {
   "cell_type": "markdown",
   "metadata": {},
   "source": [
    "#Class 3 - Processing Files with Python\n",
    "###DATSF 19\n",
    "####Justin Breucop - 12/7/2015\n",
    "\n",
    "For a lot of data files in class we'll use functionality from various libraries to process data very quickly. However, for custom files, raw text, and data that is configured in a non-standard way, it is important to be able to extract data in a customized fashion. We'll go through this exercise using only libraries that come with the default python distribution. The first step will be to open the file in sublime.\n",
    "\n",
    "Let's say that we are curious about the latest release of ScikitLearn, since we are (or soon will be) frequent users. Our goal is to take the raw commits, sort our authors alphabetically and also count the number of contributions they made. Let's first look at the file. You can do this via the command line but for simplicity's sake we can use the Jupyter cell magic."
   ]
  },
  {
   "cell_type": "code",
   "execution_count": null,
   "metadata": {
    "collapsed": false
   },
   "outputs": [],
   "source": [
    "# For Max/Linux users:\n",
    "# ! more ../data/raw_commits.txt\n",
    "\n",
    "# For windows users:\n",
    "# ! more ..\\data\\raw_commits.txt"
   ]
  },
  {
   "cell_type": "markdown",
   "metadata": {},
   "source": [
    "We see that each commit has an Author and a date. We need to be able to read the file line by line and add to a list of authors. Remember to use `with open('<filename>') as <variable>` where `<filename>` is the full path to the file and the `<variable>` is any identifier (such as `f`).\n",
    "\n",
    "##### Lines of file -> List of Strings"
   ]
  },
  {
   "cell_type": "code",
   "execution_count": null,
   "metadata": {
    "collapsed": true
   },
   "outputs": [],
   "source": [
    "# Open the file and try printing all lines that start with author\n",
    "\n",
    "# Make sure to append the author name to the list. You'll need to use string manipulation techniques."
   ]
  },
  {
   "cell_type": "markdown",
   "metadata": {},
   "source": [
    "Sort the authors to find the first and last authors, alphabetically. Make sure your data is clean! (No username should begin with an = sign, for example)\n",
    "\n",
    "#####List of Strings -> Sorted unique list"
   ]
  },
  {
   "cell_type": "code",
   "execution_count": null,
   "metadata": {
    "collapsed": false
   },
   "outputs": [],
   "source": [
    "# Think of what data types you can take advantage of"
   ]
  },
  {
   "cell_type": "markdown",
   "metadata": {},
   "source": [
    "To count out our data, we can loop over our list and construct a dictionary where the key is the commit author and the value increases whenever we match a key.\n",
    "#####List -> Dictionary"
   ]
  },
  {
   "cell_type": "code",
   "execution_count": null,
   "metadata": {
    "collapsed": true
   },
   "outputs": [],
   "source": []
  },
  {
   "cell_type": "markdown",
   "metadata": {},
   "source": [
    "Find the contributor with the highest number of commits. Useful dictionary method: `dict.get()`\n",
    "\n",
    "#####Dictionary -> Specific String"
   ]
  },
  {
   "cell_type": "code",
   "execution_count": null,
   "metadata": {
    "collapsed": false
   },
   "outputs": [],
   "source": []
  },
  {
   "cell_type": "markdown",
   "metadata": {},
   "source": [
    "Bonus: how do you handle a tie? Can you pull all authors with the lowest number of commits (without hardcoding the minimum)."
   ]
  },
  {
   "cell_type": "code",
   "execution_count": null,
   "metadata": {
    "collapsed": false
   },
   "outputs": [],
   "source": []
  }
 ],
 "metadata": {
  "kernelspec": {
   "display_name": "Python 2",
   "language": "python",
   "name": "python2"
  },
  "language_info": {
   "codemirror_mode": {
    "name": "ipython",
    "version": 2
   },
   "file_extension": ".py",
   "mimetype": "text/x-python",
   "name": "python",
   "nbconvert_exporter": "python",
   "pygments_lexer": "ipython2",
   "version": "2.7.10"
  }
 },
 "nbformat": 4,
 "nbformat_minor": 0
}
