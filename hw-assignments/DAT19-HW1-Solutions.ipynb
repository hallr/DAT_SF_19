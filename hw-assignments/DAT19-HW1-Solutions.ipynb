{
 "cells": [
  {
   "cell_type": "markdown",
   "metadata": {},
   "source": [
    "# DAT 19: Homework 1 Assignment"
   ]
  },
  {
   "cell_type": "markdown",
   "metadata": {},
   "source": [
    "## Instructions\n",
    "\n",
    "In this assignment, we will explore the passenger list of the Titanic, as provided in a well-known [Kaggle](https://www.kaggle.com) competition. For this assignment, we are concerned only with initial exploration. Please answer the specific questions listed below.\n",
    "\n",
    "The dataset is a list of passengers. The second column of the dataset is the label for each person indicating whether that person survived (1) or did not survive (0). The data is described in more detail below.\n",
    "\n",
    "There is no need to download the data from Kaggle. We have provided the titanic.csv dataset for you in the same  directory as this assignment.\n",
    "\n",
    "Please do all your analysis to answer the questions below in this Jupyter notebook. Show your work. Questions 10, 13, and 14 ask for your thoughts as a few sentences (regular prose, not code :-).\n",
    "\n",
    "**Please submit your completed notebook by 11:59PM on Thursday, December 17.**"
   ]
  },
  {
   "cell_type": "markdown",
   "metadata": {},
   "source": [
    "## About the Data\n",
    "\n",
    "```\n",
    "VARIABLE DESCRIPTIONS:\n",
    "survival        Survival\n",
    "                (0 = No; 1 = Yes)\n",
    "pclass          Passenger Class\n",
    "                (1 = 1st; 2 = 2nd; 3 = 3rd)\n",
    "name            Name\n",
    "sex             Sex\n",
    "age             Age\n",
    "sibsp           Number of Siblings/Spouses Aboard\n",
    "parch           Number of Parents/Children Aboard\n",
    "ticket          Ticket Number\n",
    "fare            Passenger Fare\n",
    "cabin           Cabin\n",
    "embarked        Port of Embarkation\n",
    "                (C = Cherbourg; Q = Queenstown; S = Southampton)\n",
    "\n",
    "SPECIAL NOTES:\n",
    "Pclass is a proxy for socio-economic status (SES)\n",
    " 1st ~ Upper; 2nd ~ Middle; 3rd ~ Lower\n",
    "\n",
    "Age is in Years; Fractional if Age less than One (1)\n",
    " If the Age is Estimated, it is in the form xx.5\n",
    "\n",
    "With respect to the family relation variables (i.e. sibsp and parch)\n",
    "some relations were ignored.  The following are the definitions used\n",
    "for sibsp and parch.\n",
    "\n",
    "Sibling:  Brother, Sister, Stepbrother, or Stepsister of Passenger Aboard Titanic\n",
    "Spouse:   Husband or Wife of Passenger Aboard Titanic (Mistresses and Fiances Ignored)\n",
    "Parent:   Mother or Father of Passenger Aboard Titanic\n",
    "Child:    Son, Daughter, Stepson, or Stepdaughter of Passenger Aboard Titanic\n",
    "\n",
    "Other family relatives excluded from this study include cousins,\n",
    "nephews/nieces, aunts/uncles, and in-laws.  Some children travelled\n",
    "only with a nanny, therefore parch=0 for them.  As well, some\n",
    "travelled with very close friends or neighbors in a village, however,\n",
    "the definitions do not support such relations.\n",
    "```"
   ]
  },
  {
   "cell_type": "markdown",
   "metadata": {},
   "source": [
    "### Load Data\n",
    "\n",
    "Start by loading the Titanic data into a numpy array. The code to do this is included below to get you started."
   ]
  },
  {
   "cell_type": "code",
   "execution_count": 1,
   "metadata": {
    "collapsed": false
   },
   "outputs": [
    {
     "name": "stdout",
     "output_type": "stream",
     "text": [
      "<type 'numpy.ndarray'>\n",
      "(891L, 12L)\n",
      "[['1' '0' '3' 'Braund, Mr. Owen Harris' 'male' '22' '1' '0' 'A/5 21171'\n",
      "  '7.25' '' 'S']\n",
      " ['2' '1' '1' 'Cumings, Mrs. John Bradley (Florence Briggs Thayer)'\n",
      "  'female' '38' '1' '0' 'PC 17599' '71.2833' 'C85' 'C']\n",
      " ['3' '1' '3' 'Heikkinen, Miss. Laina' 'female' '26' '0' '0'\n",
      "  'STON/O2. 3101282' '7.925' '' 'S']\n",
      " ['4' '1' '1' 'Futrelle, Mrs. Jacques Heath (Lily May Peel)' 'female' '35'\n",
      "  '1' '0' '113803' '53.1' 'C123' 'S']\n",
      " ['5' '0' '3' 'Allen, Mr. William Henry' 'male' '35' '0' '0' '373450'\n",
      "  '8.05' '' 'S']\n",
      " ['6' '0' '3' 'Moran, Mr. James' 'male' '' '0' '0' '330877' '8.4583' '' 'Q']\n",
      " ['7' '0' '1' 'McCarthy, Mr. Timothy J' 'male' '54' '0' '0' '17463'\n",
      "  '51.8625' 'E46' 'S']\n",
      " ['8' '0' '3' 'Palsson, Master. Gosta Leonard' 'male' '2' '3' '1' '349909'\n",
      "  '21.075' '' 'S']\n",
      " ['9' '1' '3' 'Johnson, Mrs. Oscar W (Elisabeth Vilhelmina Berg)' 'female'\n",
      "  '27' '0' '2' '347742' '11.1333' '' 'S']\n",
      " ['10' '1' '2' 'Nasser, Mrs. Nicholas (Adele Achem)' 'female' '14' '1' '0'\n",
      "  '237736' '30.0708' '' 'C']]\n",
      "\n",
      "...\n",
      "['891' '0' '3' 'Dooley, Mr. Patrick' 'male' '32' '0' '0' '370376' '7.75' ''\n",
      " 'Q']\n"
     ]
    }
   ],
   "source": [
    "# We'll use the csv module from the Python standard library to read each row of our input data file\n",
    "#   into a list that we then convert into a numpy array.\n",
    "\n",
    "import csv as csv\n",
    "import numpy as np\n",
    "\n",
    "file_object = csv.reader(open('titanic.csv', 'rb'))\n",
    "header = file_object.next() #First, let's strip off the header\n",
    "\n",
    "data = []\n",
    "for row in file_object:\n",
    "    data.append(row)\n",
    "\n",
    "data = np.array(data) #Turn our Python list into a numpy array\n",
    "\n",
    "# Let's see what our data looks like. Notice what type the data appears to be inside the numpy array.\n",
    "print type(data)\n",
    "print data.shape\n",
    "\n",
    "print data[:10,:]\n",
    "print '\\n' + '...'\n",
    "print data[-1,:]"
   ]
  },
  {
   "cell_type": "markdown",
   "metadata": {},
   "source": [
    "## Homework Questions"
   ]
  },
  {
   "cell_type": "markdown",
   "metadata": {},
   "source": [
    "**1) How many passengers are in our passenger list? For this assignment, we’ll assume our dataset represents the full passenger list for the Titanic.**"
   ]
  },
  {
   "cell_type": "code",
   "execution_count": 4,
   "metadata": {
    "collapsed": false
   },
   "outputs": [
    {
     "name": "stdout",
     "output_type": "stream",
     "text": [
      "There are 891 passengers in our list.\n"
     ]
    }
   ],
   "source": [
    "# Your code here for num_passengers. Uncomment the line below to format your answer.\n",
    "num_passengers = len(data)\n",
    "print 'There are ' + str(num_passengers) + ' passengers in our list.'"
   ]
  },
  {
   "cell_type": "markdown",
   "metadata": {},
   "source": [
    "**2) What is the overall survival rate (as a percentage of total passengers in our list)?**"
   ]
  },
  {
   "cell_type": "code",
   "execution_count": 7,
   "metadata": {
    "collapsed": false
   },
   "outputs": [
    {
     "name": "stdout",
     "output_type": "stream",
     "text": [
      "Of 891 passengers, 342 survived.\n",
      "The survival rate is 0.383838383838 or 38%\n"
     ]
    }
   ],
   "source": [
    "#HINT: You may want to import another module here\n",
    "pass_deaths = data[:,1]\n",
    "\n",
    "#Your code here to calculate num_survived and survival_rate. \n",
    "#Again, we've provided some code you can use to format your answer.\n",
    "survival = {'died':0,'lived':0}\n",
    "for val in pass_deaths:\n",
    "    if int(val) == 1:\n",
    "        survival['lived'] += 1\n",
    "    else:\n",
    "        survival['died'] += 1\n",
    "num_survived = survival['lived']\n",
    "survival_rate = num_survived*1.0/num_passengers\n",
    "\n",
    "print 'Of ' + str(num_passengers) + ' passengers, ' + str(num_survived) + ' survived.'\n",
    "print 'The survival rate is ' + str(survival_rate) + ' or '+ str(\"{0:.0f}%\".format(survival_rate * 100))"
   ]
  },
  {
   "cell_type": "markdown",
   "metadata": {},
   "source": [
    "**3) How many male passengers were onboard?**"
   ]
  },
  {
   "cell_type": "code",
   "execution_count": 8,
   "metadata": {
    "collapsed": false
   },
   "outputs": [
    {
     "name": "stdout",
     "output_type": "stream",
     "text": [
      "There were 577 male passengers onboard.\n"
     ]
    }
   ],
   "source": [
    "# Your code here to calculate num_males\n",
    "gen = data[:,4]\n",
    "\n",
    "num_males = 0\n",
    "for gender in gen:\n",
    "    if gender == 'male':\n",
    "        num_males += 1\n",
    "\n",
    "print 'There were ' + str(num_males) + ' male passengers onboard.'"
   ]
  },
  {
   "cell_type": "markdown",
   "metadata": {},
   "source": [
    "**4) How many female passengers were onboard?**"
   ]
  },
  {
   "cell_type": "code",
   "execution_count": 10,
   "metadata": {
    "collapsed": false
   },
   "outputs": [
    {
     "name": "stdout",
     "output_type": "stream",
     "text": [
      "There were 314 female passengers onboard.\n"
     ]
    }
   ],
   "source": [
    "# Your code here to calculate num_females\n",
    "num_females = 0\n",
    "for gender in gen:\n",
    "    if gender == 'female':\n",
    "        num_females += 1\n",
    "\n",
    "print 'There were ' + str(num_females) + ' female passengers onboard.'"
   ]
  },
  {
   "cell_type": "markdown",
   "metadata": {},
   "source": [
    "**5) What is the overall survival rate of male passengers?**"
   ]
  },
  {
   "cell_type": "code",
   "execution_count": 13,
   "metadata": {
    "collapsed": false
   },
   "outputs": [
    {
     "name": "stdout",
     "output_type": "stream",
     "text": [
      "The survival rate of male passengers was 18.89%\n"
     ]
    }
   ],
   "source": [
    "# Your code here to calculate male_survival_rate\n",
    "survival_gen =  data[:,[1,4]]\n",
    "\n",
    "males_alive = 0\n",
    "\n",
    "for outcome,gender in survival_gen:\n",
    "\n",
    "    if gender == 'male' and int(outcome) == 1:\n",
    "        males_alive+=1\n",
    "\n",
    "male_survival_rate=males_alive*1.0/num_males\n",
    "\n",
    "print 'The survival rate of male passengers was ' + str(\"{0:.2f}%\".format(male_survival_rate * 100))"
   ]
  },
  {
   "cell_type": "markdown",
   "metadata": {},
   "source": [
    "**6) What is the overall survival rate of female passengers?**"
   ]
  },
  {
   "cell_type": "code",
   "execution_count": 15,
   "metadata": {
    "collapsed": false
   },
   "outputs": [
    {
     "name": "stdout",
     "output_type": "stream",
     "text": [
      "The survival rate of female passengers was 74.20%\n"
     ]
    }
   ],
   "source": [
    "# Your code here to calculate female_survival_rate\n",
    "survival_gen =  data[:,[1,4]]\n",
    "\n",
    "females_alive = 0\n",
    "\n",
    "for outcome,gender in survival_gen:\n",
    "\n",
    "    if gender == 'female' and int(outcome) == 1:\n",
    "        females_alive+=1\n",
    "\n",
    "female_survival_rate=females_alive*1.0/num_females\n",
    "\n",
    "print 'The survival rate of female passengers was ' + str(\"{0:.2f}%\".format(female_survival_rate * 100))"
   ]
  },
  {
   "cell_type": "markdown",
   "metadata": {},
   "source": [
    "**7) What is the average age of all passengers onboard?**"
   ]
  },
  {
   "cell_type": "code",
   "execution_count": 24,
   "metadata": {
    "collapsed": false,
    "scrolled": true
   },
   "outputs": [
    {
     "name": "stdout",
     "output_type": "stream",
     "text": [
      "The average age of all passengers onboard was 29.70\n"
     ]
    }
   ],
   "source": [
    "# Your code here to calculate avg_age\n",
    "# NOTE: Omit nulls (or '' entries) to calculate the mean\n",
    "ages = data[:,5]\n",
    "clean_ages = []\n",
    "for value in ages:\n",
    "    if value == '':\n",
    "        pass\n",
    "    else:\n",
    "        clean_ages.append(float(value))\n",
    "avg_age = np.mean(clean_ages)\n",
    "print 'The average age of all passengers onboard was ' + str(\"{0:.2f}\".format(avg_age))"
   ]
  },
  {
   "cell_type": "markdown",
   "metadata": {},
   "source": [
    "**8) What is the average age of passengers who survived?**"
   ]
  },
  {
   "cell_type": "code",
   "execution_count": 28,
   "metadata": {
    "collapsed": false
   },
   "outputs": [
    {
     "name": "stdout",
     "output_type": "stream",
     "text": [
      "The average of age of passengers who survived was 28.34\n"
     ]
    }
   ],
   "source": [
    "# Your code here to calculate avg_age_survived\n",
    "combo = data[:,[1,5]]\n",
    "clean_ages = []\n",
    "\n",
    "for outcome,age in combo:\n",
    "    if int(outcome) == 1:\n",
    "        if age == '':\n",
    "            continue\n",
    "        else:\n",
    "            clean_ages.append(float(age))\n",
    "avg_age_survived = np.mean(clean_ages)\n",
    "print 'The average of age of passengers who survived was ' + str(\"{0:.2f}\".format(avg_age_survived))"
   ]
  },
  {
   "cell_type": "markdown",
   "metadata": {},
   "source": [
    "**9) What is the average age of passengers who did not survive?**"
   ]
  },
  {
   "cell_type": "code",
   "execution_count": 29,
   "metadata": {
    "collapsed": false
   },
   "outputs": [
    {
     "name": "stdout",
     "output_type": "stream",
     "text": [
      "The average of age of passengers who did not survive was 30.63\n"
     ]
    }
   ],
   "source": [
    "# Your code here to calculate avg_age_not_survive\n",
    "clean_ages = []\n",
    "\n",
    "for outcome,age in combo:\n",
    "    if int(outcome) == 0:\n",
    "        if age == '':\n",
    "            continue\n",
    "        else:\n",
    "            clean_ages.append(float(age))\n",
    "avg_age_not_survive = np.mean(clean_ages)\n",
    "\n",
    "print 'The average of age of passengers who did not survive was ' + str(\"{0:.2f}\".format(avg_age_not_survive))"
   ]
  },
  {
   "cell_type": "markdown",
   "metadata": {},
   "source": [
    "**10) At this (early) point in our analysis, what might you infer about any patterns you are seeing in who survived / did not survive?**"
   ]
  },
  {
   "cell_type": "markdown",
   "metadata": {
    "collapsed": true
   },
   "source": [
    "Here if you talk about the survival rate across genders, good job. Ages is a bit less clear of a difference."
   ]
  },
  {
   "cell_type": "markdown",
   "metadata": {},
   "source": [
    "**11) How many passengers are in each of the three classes of service (e.g. First, Second, Third?)**"
   ]
  },
  {
   "cell_type": "code",
   "execution_count": 30,
   "metadata": {
    "collapsed": false
   },
   "outputs": [
    {
     "name": "stdout",
     "output_type": "stream",
     "text": [
      "Class 1: 216\n",
      "Class 2: 184\n",
      "Class 3: 491\n"
     ]
    }
   ],
   "source": [
    "# Your code here\n",
    "# You do not need to format the output nicely like we did for the questions above.\n",
    "classes = data[:,2]\n",
    "totals = {'1':0,'2':0,'3':0}\n",
    "\n",
    "for val in classes:\n",
    "    totals[val] += 1\n",
    "\n",
    "print 'Class 1:', totals['1']\n",
    "print 'Class 2:', totals['2']\n",
    "print 'Class 3:', totals['3']"
   ]
  },
  {
   "cell_type": "markdown",
   "metadata": {},
   "source": [
    "**12) What is the survival rate for passengers in each of the three classes of service?**"
   ]
  },
  {
   "cell_type": "code",
   "execution_count": 31,
   "metadata": {
    "collapsed": false
   },
   "outputs": [
    {
     "name": "stdout",
     "output_type": "stream",
     "text": [
      "Class 1: 0.62962962963\n",
      "Class 2: 0.472826086957\n",
      "Class 3: 0.242362525458\n"
     ]
    }
   ],
   "source": [
    "# Your code here\n",
    "# HINT: Averaging of the 1's and 0's in the \"Survived\" column will give a survival rate.\n",
    "# We want the survival rate for each passenger class.\n",
    "# You do not need to format the output nicely.\n",
    "combo = data[:,[1,2]]\n",
    "\n",
    "survived_classes = {'1':0,'2':0,'3':0}\n",
    "\n",
    "for outcome,cl in combo:\n",
    "    if int(outcome)==1:\n",
    "        survived_classes[cl] += 1\n",
    "\n",
    "print 'Class 1:', survived_classes['1']*1.0/totals['1']\n",
    "print 'Class 2:', survived_classes['2']*1.0/totals['2']\n",
    "print 'Class 3:', survived_classes['3']*1.0/totals['3']"
   ]
  },
  {
   "cell_type": "markdown",
   "metadata": {},
   "source": [
    "**13) How does what we learned in 11) and 12) influence our early conclusions from 10) ?**"
   ]
  },
  {
   "cell_type": "markdown",
   "metadata": {
    "collapsed": true
   },
   "source": [
    "It augments our conclusion, demonstrating that Class also has an important influence"
   ]
  },
  {
   "cell_type": "markdown",
   "metadata": {},
   "source": [
    "**14) If we were to build a predictive model, which features in the data do you think we should include in the model and which can we leave out? Why?**"
   ]
  },
  {
   "cell_type": "markdown",
   "metadata": {
    "collapsed": true
   },
   "source": [
    "Fare and gender are important because they have significantly different survival rates as they change. Age might have some help but it's minor by comparison and could be left out. "
   ]
  }
 ],
 "metadata": {
  "kernelspec": {
   "display_name": "Python 2",
   "language": "python",
   "name": "python2"
  },
  "language_info": {
   "codemirror_mode": {
    "name": "ipython",
    "version": 2
   },
   "file_extension": ".py",
   "mimetype": "text/x-python",
   "name": "python",
   "nbconvert_exporter": "python",
   "pygments_lexer": "ipython2",
   "version": "2.7.10"
  }
 },
 "nbformat": 4,
 "nbformat_minor": 0
}
