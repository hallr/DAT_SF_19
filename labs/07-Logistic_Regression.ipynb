{
 "cells": [
  {
   "cell_type": "markdown",
   "metadata": {},
   "source": [
    "## DAT19 Lab 07\n",
    "## Logistic Regression Classification"
   ]
  },
  {
   "cell_type": "markdown",
   "metadata": {},
   "source": [
    "Import the usual packages"
   ]
  },
  {
   "cell_type": "code",
   "execution_count": null,
   "metadata": {
    "collapsed": false,
    "scrolled": true
   },
   "outputs": [],
   "source": [
    "import numpy as np\n",
    "import pandas as pd\n",
    "\n",
    "from bokeh.plotting import figure,show,output_notebook\n",
    "from bokeh.models import Range1d\n",
    "\n",
    "from sklearn import datasets\n",
    "from sklearn.cross_validation import cross_val_score\n",
    "from sklearn.linear_model import LogisticRegression\n",
    "from sklearn.neighbors import KNeighborsClassifier\n",
    "from sklearn.preprocessing import StandardScaler\n",
    "\n",
    "output_notebook()\n",
    "%matplotlib inline"
   ]
  },
  {
   "cell_type": "markdown",
   "metadata": {},
   "source": [
    "Here are a couple pandas settings to make viewing the data a little easier"
   ]
  },
  {
   "cell_type": "code",
   "execution_count": null,
   "metadata": {
    "collapsed": false
   },
   "outputs": [],
   "source": [
    "pd.set_option('display.max_rows',100)\n",
    "pd.set_option('display.max_columns',60)"
   ]
  },
  {
   "cell_type": "markdown",
   "metadata": {},
   "source": [
    "#### Load the Iris Data Set"
   ]
  },
  {
   "cell_type": "code",
   "execution_count": null,
   "metadata": {
    "collapsed": false
   },
   "outputs": [],
   "source": [
    "from sklearn import datasets\n",
    "\n",
    "sk_iris = datasets.load_iris()\n",
    "iris = pd.DataFrame(sk_iris.data,columns=sk_iris['feature_names'])\n",
    "iris['target'] = sk_iris.target\n",
    "Names = sk_iris.target_names"
   ]
  },
  {
   "cell_type": "markdown",
   "metadata": {},
   "source": [
    "#### Logistic Regression is a binary classifier so we'll just use two classes of the data set"
   ]
  },
  {
   "cell_type": "code",
   "execution_count": null,
   "metadata": {
    "collapsed": false
   },
   "outputs": [],
   "source": [
    "iris = iris[iris.target!=0]"
   ]
  },
  {
   "cell_type": "code",
   "execution_count": null,
   "metadata": {
    "collapsed": false,
    "scrolled": false
   },
   "outputs": [],
   "source": [
    "iris.head()"
   ]
  },
  {
   "cell_type": "markdown",
   "metadata": {},
   "source": [
    "This is the standard cross validation function we can use to get a score on our models"
   ]
  },
  {
   "cell_type": "code",
   "execution_count": null,
   "metadata": {
    "collapsed": true
   },
   "outputs": [],
   "source": [
    "from sklearn.cross_validation import cross_val_score"
   ]
  },
  {
   "cell_type": "markdown",
   "metadata": {},
   "source": [
    "### Create an instance of a Logistic Regression model and apply cross-validation\n",
    "#### (Note: C parameter is for regularization, also known as our complexity penalty)"
   ]
  },
  {
   "cell_type": "code",
   "execution_count": null,
   "metadata": {
    "collapsed": false
   },
   "outputs": [],
   "source": [
    "from sklearn.linear_model import LogisticRegression\n",
    "\n",
    "model_lr = LogisticRegression(C=1)"
   ]
  },
  {
   "cell_type": "code",
   "execution_count": null,
   "metadata": {
    "collapsed": false
   },
   "outputs": [],
   "source": [
    "features = iris.drop('target',axis=1)\n",
    "target = iris.target"
   ]
  },
  {
   "cell_type": "code",
   "execution_count": null,
   "metadata": {
    "collapsed": false
   },
   "outputs": [],
   "source": [
    "cross_val_score(model_lr,features,target,cv=3).mean()"
   ]
  },
  {
   "cell_type": "markdown",
   "metadata": {},
   "source": [
    "### Review the feature importance\n"
   ]
  },
  {
   "cell_type": "code",
   "execution_count": null,
   "metadata": {
    "collapsed": false
   },
   "outputs": [],
   "source": [
    "model_lr = LogisticRegression(C=1).fit(features, target)\n",
    "\n",
    "x = np.arange(len(features.columns))\n",
    "names = features.columns\n",
    "names"
   ]
  },
  {
   "cell_type": "markdown",
   "metadata": {},
   "source": [
    "OR = e^Beta and the betas are the model coefficients."
   ]
  },
  {
   "cell_type": "code",
   "execution_count": null,
   "metadata": {
    "collapsed": false
   },
   "outputs": [],
   "source": [
    "print model_lr.coef_\n",
    "print model_lr.coef_.ravel()"
   ]
  },
  {
   "cell_type": "code",
   "execution_count": null,
   "metadata": {
    "collapsed": false
   },
   "outputs": [],
   "source": [
    "p = figure(title=\"Model Coefficients\")\n",
    "for val in x:\n",
    "    p.quad(top=model_lr.coef_.ravel()[val], \n",
    "           bottom=0, left=val+0.2,right=val+0.8, \n",
    "           color=['red','orange','green','purple'][val],\n",
    "           legend=names[val]\n",
    "          )\n",
    "    \n",
    "p.y_range = Range1d(min(model_lr.coef_.ravel())-0.1, max(model_lr.coef_.ravel())+1.5)\n",
    "show(p)\n"
   ]
  },
  {
   "cell_type": "markdown",
   "metadata": {},
   "source": [
    "#### Exercise 1: Try Changing the Normalization and see how the Coeficients Change and Discuss with your Neighbor"
   ]
  },
  {
   "cell_type": "code",
   "execution_count": null,
   "metadata": {
    "collapsed": false
   },
   "outputs": [],
   "source": []
  },
  {
   "cell_type": "markdown",
   "metadata": {},
   "source": [
    "## Example 2: Build Logistic Regression Classifier for Spambase Data"
   ]
  },
  {
   "cell_type": "markdown",
   "metadata": {},
   "source": [
    "#### Load the spambase.csv as a pandas DataFrame (last column of data contains Target Data - is_spam)"
   ]
  },
  {
   "cell_type": "code",
   "execution_count": null,
   "metadata": {
    "collapsed": false,
    "scrolled": true
   },
   "outputs": [],
   "source": [
    "spam_data = pd.read_csv(\"../data/spambase.csv\")\n",
    "# spam_data.head()\n",
    "spam_data.describe()\n",
    "# spam_data.info()"
   ]
  },
  {
   "cell_type": "markdown",
   "metadata": {},
   "source": [
    "Separate features from the rest of the data to use in our algorithms"
   ]
  },
  {
   "cell_type": "code",
   "execution_count": null,
   "metadata": {
    "collapsed": false
   },
   "outputs": [],
   "source": [
    "features = spam_data.drop('is_spam',axis=1)\n",
    "target = spam_data.is_spam\n",
    "\n",
    "# features.head()\n",
    "target.head()"
   ]
  },
  {
   "cell_type": "markdown",
   "metadata": {},
   "source": [
    "Convert DataFrames into numpy arrays"
   ]
  },
  {
   "cell_type": "code",
   "execution_count": null,
   "metadata": {
    "collapsed": false
   },
   "outputs": [],
   "source": [
    "features.values"
   ]
  },
  {
   "cell_type": "markdown",
   "metadata": {},
   "source": [
    "#### Use crossvalidation to score model"
   ]
  },
  {
   "cell_type": "code",
   "execution_count": null,
   "metadata": {
    "collapsed": false
   },
   "outputs": [],
   "source": [
    "from sklearn.linear_model import LogisticRegression\n",
    "\n",
    "features = spam_data.drop('is_spam',axis=1)\n",
    "target = spam_data.is_spam\n",
    "\n",
    "model_lr = LogisticRegression(C=1)"
   ]
  },
  {
   "cell_type": "code",
   "execution_count": null,
   "metadata": {
    "collapsed": false
   },
   "outputs": [],
   "source": [
    "cross_val_score(model_lr,features,target,cv=3).mean()"
   ]
  },
  {
   "cell_type": "markdown",
   "metadata": {},
   "source": [
    "### Compare Performance of Logistic Regression to KNN"
   ]
  },
  {
   "cell_type": "code",
   "execution_count": null,
   "metadata": {
    "collapsed": false
   },
   "outputs": [],
   "source": [
    "from sklearn.neighbors import KNeighborsClassifier\n",
    "\n",
    "model_knn = KNeighborsClassifier(3)\n",
    "cross_val_score(model_knn,features,target,cv=3).mean()"
   ]
  },
  {
   "cell_type": "markdown",
   "metadata": {},
   "source": [
    "#### Exercise 2: Try testing and plotting CV Scores with different C values"
   ]
  },
  {
   "cell_type": "code",
   "execution_count": null,
   "metadata": {
    "collapsed": false
   },
   "outputs": [],
   "source": [
    "from sklearn.linear_model import LogisticRegression\n",
    "\n",
    "c_list = [1000, 100, 10, 1, 0.1, 0.01, 0.001, .0001]\n",
    "cv_scores = []\n"
   ]
  },
  {
   "cell_type": "markdown",
   "metadata": {},
   "source": [
    "###  Evaluate Feature Importance"
   ]
  },
  {
   "cell_type": "code",
   "execution_count": null,
   "metadata": {
    "collapsed": false,
    "scrolled": false
   },
   "outputs": [],
   "source": [
    "feature_names = spam_data.columns[:-1]\n",
    "feature_names = feature_names[-10:]\n",
    "model_lr = LogisticRegression(C=1).fit(features, target)\n",
    "\n",
    "\n",
    "\n",
    "p = figure(title=\"Model Coefficients\")\n",
    "\n",
    "coefficients=model_lr.coef_.ravel()[-10:]\n",
    "\n",
    "x = np.arange(len(feature_names))\n",
    "for val in x:\n",
    "    p.quad(top = coefficients[val], bottom=0, left=val+0.2,\n",
    "           right=val+0.8, color=['red','orange','green','purple','blue','cyan','magenta','red','orange','purple','blue'][val],legend=feature_names[val])\n",
    "p.y_range = Range1d(min(coefficients)-0.1, max(coefficients)+1.5)\n",
    "show(p)\n"
   ]
  },
  {
   "cell_type": "markdown",
   "metadata": {},
   "source": [
    "### What if I want the most important features?"
   ]
  },
  {
   "cell_type": "code",
   "execution_count": null,
   "metadata": {
    "collapsed": false,
    "scrolled": true
   },
   "outputs": [],
   "source": [
    "coeffs = pd.DataFrame(zip(spam_data.columns[:-1],model_lr.coef_.ravel()),columns=['features','coeff'])\n",
    "coeffs.head()"
   ]
  },
  {
   "cell_type": "code",
   "execution_count": null,
   "metadata": {
    "collapsed": false,
    "scrolled": true
   },
   "outputs": [],
   "source": [
    "coeffs['abs'] = np.absolute(coeffs.coeff.values)\n",
    "\n",
    "coeffs.sort('abs',ascending=False)"
   ]
  },
  {
   "cell_type": "markdown",
   "metadata": {},
   "source": [
    "### Data Normalization"
   ]
  },
  {
   "cell_type": "code",
   "execution_count": null,
   "metadata": {
    "collapsed": false
   },
   "outputs": [],
   "source": [
    "features.describe()"
   ]
  },
  {
   "cell_type": "markdown",
   "metadata": {},
   "source": [
    "#### Normalize all features in one line of code\n",
    "This is the form of normalization where you normalize the standard deviation."
   ]
  },
  {
   "cell_type": "code",
   "execution_count": null,
   "metadata": {
    "collapsed": false
   },
   "outputs": [],
   "source": [
    "features_norm = (features - features.mean())/features.std()"
   ]
  },
  {
   "cell_type": "code",
   "execution_count": null,
   "metadata": {
    "collapsed": false,
    "scrolled": false
   },
   "outputs": [],
   "source": [
    "features_norm.describe()"
   ]
  },
  {
   "cell_type": "markdown",
   "metadata": {},
   "source": [
    "We can also use the built in SKLearn Normalization"
   ]
  },
  {
   "cell_type": "code",
   "execution_count": null,
   "metadata": {
    "collapsed": false
   },
   "outputs": [],
   "source": []
  },
  {
   "cell_type": "code",
   "execution_count": null,
   "metadata": {
    "collapsed": false
   },
   "outputs": [],
   "source": [
    "scaler = StandardScaler()\n",
    "features_norm_2 = scaler.fit_transform(features)\n",
    "\n",
    "pd.DataFrame(features_norm_2, columns=features.columns).head()"
   ]
  },
  {
   "cell_type": "code",
   "execution_count": null,
   "metadata": {
    "collapsed": false
   },
   "outputs": [],
   "source": [
    "from sklearn.linear_model import LogisticRegression\n",
    "model_lr = LogisticRegression(C=1)\n",
    "\n",
    "cross_val_score(model_lr,features_norm, target,cv=3 ).mean()"
   ]
  },
  {
   "cell_type": "markdown",
   "metadata": {},
   "source": [
    "#### Chart last 10 features and compare with earlier coefficients"
   ]
  },
  {
   "cell_type": "code",
   "execution_count": null,
   "metadata": {
    "collapsed": false
   },
   "outputs": [],
   "source": [
    "feature_names = spam_data.columns[:-1]\n",
    "\n",
    "feature_names = feature_names[-11:]\n",
    "feat_norm_val = features_norm.values\n",
    "model_lr = LogisticRegression(C=1).fit(feat_norm_val, target)\n",
    "\n",
    "p = figure(title=\"Model Coefficients\")\n",
    "\n",
    "coefficients=model_lr.coef_.ravel()[-11:]\n",
    "\n",
    "x = np.arange(len(feature_names))\n",
    "for val in x:\n",
    "    p.quad(top = coefficients[val], bottom=0, left=val+0.2,\n",
    "           right=val+0.8, \n",
    "           color=['red','orange','green','purple','blue','cyan','magenta','red','orange','purple','blue','green'][val],\n",
    "           legend=feature_names[val])\n",
    "p.y_range = Range1d(min(coefficients)-0.1, max(coefficients)+2.5)\n",
    "show(p)\n"
   ]
  },
  {
   "cell_type": "markdown",
   "metadata": {
    "collapsed": true
   },
   "source": [
    "### Exercise 3:\n",
    "Using what we know in a real life example:\n",
    "\n",
    "Bank Marketing!\n",
    "\n",
    "Load the bank.csv file and using the column `y` as your target, determine feature importance of convincing someone to buy a term deposit. For more background: https://archive.ics.uci.edu/ml/datasets/Bank+Marketing\n",
    "\n",
    "Outcomes:\n",
    "1. Identify most predictive features and explain why they do (or do not?) make sense.\n",
    "2. Discuss with your neighbor which features you could use in crafting an outreach plan for marketing purposes.\n",
    "3. What would you tell the Chief Marketing Officer? Can you quantify the improvement?"
   ]
  },
  {
   "cell_type": "code",
   "execution_count": null,
   "metadata": {
    "collapsed": false,
    "scrolled": true
   },
   "outputs": [],
   "source": [
    "bank = pd.read_csv(\"../data/bank.csv\")\n",
    "# bank.head()\n",
    "bank.info()"
   ]
  },
  {
   "cell_type": "markdown",
   "metadata": {},
   "source": [
    "HINT: Convert the columns that are binary to 0 or 1 using .map()"
   ]
  },
  {
   "cell_type": "code",
   "execution_count": null,
   "metadata": {
    "collapsed": false
   },
   "outputs": [],
   "source": [
    "#Define a dictionary that will map a value to a string in a pandas column\n",
    "married_mapping = {'married':0,'single':1,'divorced':1}\n",
    "# use .map() on the column\n",
    "bank['marital']=bank['marital'].map(married_mapping)\n",
    "bank['marital']"
   ]
  }
 ],
 "metadata": {
  "kernelspec": {
   "display_name": "Python 2",
   "language": "python",
   "name": "python2"
  },
  "language_info": {
   "codemirror_mode": {
    "name": "ipython",
    "version": 2
   },
   "file_extension": ".py",
   "mimetype": "text/x-python",
   "name": "python",
   "nbconvert_exporter": "python",
   "pygments_lexer": "ipython2",
   "version": "2.7.10"
  }
 },
 "nbformat": 4,
 "nbformat_minor": 0
}
