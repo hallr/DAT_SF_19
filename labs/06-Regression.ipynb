{
 "cells": [
  {
   "cell_type": "markdown",
   "metadata": {},
   "source": [
    "# GA Data Science 16 (DAT16) - Lab6\n",
    "\n",
    "### Regressions\n",
    "\n",
    "by Justin Breucop, adapted from Francesco Mosconi & Craig Sakuma"
   ]
  },
  {
   "cell_type": "code",
   "execution_count": null,
   "metadata": {
    "collapsed": false
   },
   "outputs": [],
   "source": [
    "#usual imports\n",
    "import numpy as np\n",
    "import matplotlib.pyplot as plt\n",
    "import pandas as pd\n",
    "\n",
    "from bokeh.plotting import figure,show,output_notebook\n",
    "output_notebook()\n",
    "\n",
    "%matplotlib inline\n",
    "\n",
    "# Statsmodel APIs\n",
    "import statsmodels.api as sm"
   ]
  },
  {
   "cell_type": "markdown",
   "metadata": {},
   "source": [
    "## Linear Regression"
   ]
  },
  {
   "cell_type": "markdown",
   "metadata": {},
   "source": [
    "Load a subset of the housing data"
   ]
  },
  {
   "cell_type": "code",
   "execution_count": null,
   "metadata": {
    "collapsed": false
   },
   "outputs": [],
   "source": [
    "data = pd.read_csv('../data/housing-data.csv')"
   ]
  },
  {
   "cell_type": "code",
   "execution_count": null,
   "metadata": {
    "collapsed": false,
    "scrolled": true
   },
   "outputs": [],
   "source": [
    "data.head()"
   ]
  },
  {
   "cell_type": "code",
   "execution_count": null,
   "metadata": {
    "collapsed": false
   },
   "outputs": [],
   "source": [
    "data_n = pd.DataFrame()\n",
    "for col in data.columns:\n",
    "    data_n[col] = data[col].apply(lambda x: float(x)/(10**(len(str(data[col].max()))-1)) )\n",
    "data_n.head()"
   ]
  },
  {
   "cell_type": "markdown",
   "metadata": {},
   "source": [
    "The dataset contains 4 columns. Our objective is to build a model that is able to predict the price of a house, using the information contained in the other columns (sqft, bedrooms and age)"
   ]
  },
  {
   "cell_type": "code",
   "execution_count": null,
   "metadata": {
    "collapsed": false,
    "scrolled": false
   },
   "outputs": [],
   "source": [
    "from pandas.tools.plotting import scatter_matrix\n",
    "scat = scatter_matrix(data, figsize = (8,8))"
   ]
  },
  {
   "cell_type": "markdown",
   "metadata": {},
   "source": [
    "Run 1. x = sqft, data is raw (so graph units are nice right)"
   ]
  },
  {
   "cell_type": "markdown",
   "metadata": {},
   "source": [
    "Let''s start with a simple model that uses the house surface to estimate the price"
   ]
  },
  {
   "cell_type": "code",
   "execution_count": null,
   "metadata": {
    "collapsed": false
   },
   "outputs": [],
   "source": [
    "x = data['sqft'].values\n",
    "y = data['price'].values"
   ]
  },
  {
   "cell_type": "code",
   "execution_count": null,
   "metadata": {
    "collapsed": false
   },
   "outputs": [],
   "source": [
    "results = sm.OLS(y, x).fit()\n",
    "slope = results.params[0]\n",
    "r2 = results.rsquared\n",
    "print slope\n",
    "print r2"
   ]
  },
  {
   "cell_type": "markdown",
   "metadata": {},
   "source": [
    "A little math terminology refresher: slope is the steepness of the line and the r squared value is a \"goodness of fit\" measure. It tells how much of the variability of our y & x is explained by our model. 0 is bad, 95% is good and 100% is suspect (always be wary of perfect scores)."
   ]
  },
  {
   "cell_type": "code",
   "execution_count": null,
   "metadata": {
    "collapsed": false
   },
   "outputs": [],
   "source": [
    "# Here we'll build the chart for the graph\n",
    "\n",
    "p = figure(title='Loop')\n",
    "p.circle(x,y,color=\"blue\",size=8)\n",
    "\n",
    "x1 = range(min(x),max(x)+1)\n",
    "\n",
    "# For loop:\n",
    "y1 = []\n",
    "for val in x1:\n",
    "    y1.append(slope*val)\n",
    "\n",
    "p.line(x1,y1,color='red')\n",
    "\n",
    "show(p)"
   ]
  },
  {
   "cell_type": "code",
   "execution_count": null,
   "metadata": {
    "collapsed": false
   },
   "outputs": [],
   "source": [
    "results.summary()"
   ]
  },
  {
   "cell_type": "markdown",
   "metadata": {},
   "source": [
    "But we don't have a y intercept, which means the line passes through 0,0 as a requirement. This works for certain models but maybe not for others. \n",
    "\n",
    "`sm.add_constant` adds a column of ones to allow for finding an intercept to your data."
   ]
  },
  {
   "cell_type": "code",
   "execution_count": null,
   "metadata": {
    "collapsed": false
   },
   "outputs": [],
   "source": [
    "X = sm.add_constant(x, prepend=True)"
   ]
  },
  {
   "cell_type": "code",
   "execution_count": null,
   "metadata": {
    "collapsed": false
   },
   "outputs": [],
   "source": [
    "results = sm.OLS(y, X).fit()\n",
    "intercept, slope = results.params\n",
    "\n",
    "r2 = results.rsquared\n",
    "\n",
    "print intercept,slope\n",
    "print r2"
   ]
  },
  {
   "cell_type": "code",
   "execution_count": null,
   "metadata": {
    "collapsed": false
   },
   "outputs": [],
   "source": [
    "\n",
    "p = figure(title='Price vs Sqft')\n",
    "p.circle(x,y,color=\"blue\",size=8)\n",
    "\n",
    "x1 = range(min(x),max(x)+1)\n",
    "\n",
    "# For loop:\n",
    "y1 = []\n",
    "for val in x1:\n",
    "    y1.append(intercept + slope*val)\n",
    "# This generates y1 again, but with one line of code instead\n",
    "# List Comprehension:\n",
    "y1 = [intercept + slope*val for val in x1]\n",
    "\n",
    "p.line(x1,y1,color='red')\n",
    "\n",
    "show(p)"
   ]
  },
  {
   "cell_type": "code",
   "execution_count": null,
   "metadata": {
    "collapsed": false
   },
   "outputs": [],
   "source": [
    "results.summary()"
   ]
  },
  {
   "cell_type": "markdown",
   "metadata": {},
   "source": [
    "### EXERCISE #1\n",
    "#### Create the linear model for data_n to predict price based on age. \n",
    "#### What are the slope, intercept and r-squared?"
   ]
  },
  {
   "cell_type": "code",
   "execution_count": null,
   "metadata": {
    "collapsed": false
   },
   "outputs": [],
   "source": []
  },
  {
   "cell_type": "markdown",
   "metadata": {},
   "source": [
    "#### Plot the data along with the line for the regression model"
   ]
  },
  {
   "cell_type": "code",
   "execution_count": null,
   "metadata": {
    "collapsed": false
   },
   "outputs": [],
   "source": []
  },
  {
   "cell_type": "markdown",
   "metadata": {},
   "source": [
    "#### Bonus challenge: Change the color and shape of the data points."
   ]
  },
  {
   "cell_type": "code",
   "execution_count": null,
   "metadata": {
    "collapsed": false
   },
   "outputs": [],
   "source": []
  },
  {
   "cell_type": "markdown",
   "metadata": {},
   "source": [
    "Confidence Intervals"
   ]
  },
  {
   "cell_type": "markdown",
   "metadata": {},
   "source": [
    "Something to entertain you, definitely not necessary but fun to know a short cut."
   ]
  },
  {
   "cell_type": "code",
   "execution_count": null,
   "metadata": {
    "collapsed": false
   },
   "outputs": [],
   "source": [
    "from statsmodels.sandbox.regression.predstd import wls_prediction_std\n",
    "\n",
    "prstd, iv_l, iv_u = wls_prediction_std(results)"
   ]
  },
  {
   "cell_type": "code",
   "execution_count": null,
   "metadata": {
    "collapsed": false
   },
   "outputs": [],
   "source": [
    "\n",
    "p2 = figure(title=\"Confidence Intervals for Price to Sqft\")\n",
    "p2.circle(x, y,size=4)\n",
    "p2.line(x, results.fittedvalues, color='red',line_width=4)\n",
    "p2.line(x, iv_u, color='red',line_width=2)\n",
    "p2.line(x, iv_l, color='red',line_width=2)\n",
    "\n",
    "show(p2)"
   ]
  },
  {
   "cell_type": "markdown",
   "metadata": {},
   "source": [
    "## Function of Bedrooms?"
   ]
  },
  {
   "cell_type": "markdown",
   "metadata": {},
   "source": [
    "Run 3:  x = bdrms, data is raw (so graph units are nice)"
   ]
  },
  {
   "cell_type": "code",
   "execution_count": null,
   "metadata": {
    "collapsed": false
   },
   "outputs": [],
   "source": [
    "x = data['bdrms'].values\n",
    "y = data['price'].values\n",
    "\n",
    "X = sm.add_constant(x, prepend=True)\n",
    "results = sm.OLS(y, X).fit()\n",
    "intercept, slope = results.params\n",
    "\n",
    "r2 = results.rsquared\n",
    "\n",
    "p = figure(title='Price vs Bedrooms')\n",
    "p.circle(x,y,color=\"blue\",size=8)\n",
    "\n",
    "x1 = range(min(x),max(x)+1)\n",
    "\n",
    "# For loop:\n",
    "y1 = []\n",
    "for val in x1:\n",
    "    y1.append(intercept + slope*val)\n",
    "    \n",
    "# This generates y1 again, but with one line of code instead\n",
    "# List Comprehension:\n",
    "y1 = [intercept + slope*val for val in x1]\n",
    "\n",
    "p.line(x1,y1,color='red')\n",
    "\n",
    "show(p)"
   ]
  },
  {
   "cell_type": "code",
   "execution_count": null,
   "metadata": {
    "collapsed": false,
    "scrolled": false
   },
   "outputs": [],
   "source": [
    "results.summary()"
   ]
  },
  {
   "cell_type": "code",
   "execution_count": null,
   "metadata": {
    "collapsed": false
   },
   "outputs": [],
   "source": [
    "x = data_n['bdrms'].values\n",
    "y = data_n['price'].values\n",
    "\n",
    "X = sm.add_constant(x, prepend=True)\n",
    "results = sm.OLS(y, X).fit()\n",
    "intercept, slope = results.params\n",
    "r2 = results.rsquared\n",
    "\n",
    "p = figure(title='Price vs bdrms')\n",
    "p.circle(x,y,color=\"blue\",size=8)\n",
    "\n",
    "x1 = range(int(min(x)),int(max(x)+1))\n",
    "# For loop:\n",
    "y1 = []\n",
    "for val in x1:\n",
    "    y1.append(intercept + slope*val)\n",
    "# This generates y1 again, but with one line of code instead\n",
    "# List Comprehension:\n",
    "y1 = [intercept + slope*val for val in x1]\n",
    "\n",
    "p.line(x1,y1,color='red')\n",
    "show(p)"
   ]
  },
  {
   "cell_type": "code",
   "execution_count": null,
   "metadata": {
    "collapsed": false
   },
   "outputs": [],
   "source": [
    "print results.summary()"
   ]
  },
  {
   "cell_type": "code",
   "execution_count": null,
   "metadata": {
    "collapsed": false
   },
   "outputs": [],
   "source": [
    "print results.summary()"
   ]
  },
  {
   "cell_type": "markdown",
   "metadata": {},
   "source": [
    "## Function of multiple variables"
   ]
  },
  {
   "cell_type": "code",
   "execution_count": null,
   "metadata": {
    "collapsed": false
   },
   "outputs": [],
   "source": [
    "x = data_n[['sqft', 'bdrms','age']].values\n",
    "y = data_n['price'].values\n",
    "\n",
    "X = sm.add_constant(x, prepend=True)\n",
    "results = sm.OLS(y, X).fit()"
   ]
  },
  {
   "cell_type": "code",
   "execution_count": null,
   "metadata": {
    "collapsed": false,
    "scrolled": false
   },
   "outputs": [],
   "source": [
    "results.summary()"
   ]
  },
  {
   "cell_type": "markdown",
   "metadata": {},
   "source": [
    "## Just sqft & bedrooms"
   ]
  },
  {
   "cell_type": "code",
   "execution_count": null,
   "metadata": {
    "collapsed": false
   },
   "outputs": [],
   "source": [
    "x = data_n[['sqft', 'bdrms']].values\n",
    "y = data_n['price'].values\n",
    "X = sm.add_constant(x, prepend=True)\n",
    "results = sm.OLS(y, X).fit()\n",
    "results.summary()"
   ]
  },
  {
   "cell_type": "markdown",
   "metadata": {},
   "source": [
    "## The formula API"
   ]
  },
  {
   "cell_type": "code",
   "execution_count": null,
   "metadata": {
    "collapsed": false
   },
   "outputs": [],
   "source": [
    "import statsmodels.formula.api as smf"
   ]
  },
  {
   "cell_type": "code",
   "execution_count": null,
   "metadata": {
    "collapsed": false
   },
   "outputs": [],
   "source": [
    "results = smf.ols('price ~ sqft + bdrms', data=data).fit()"
   ]
  },
  {
   "cell_type": "code",
   "execution_count": null,
   "metadata": {
    "collapsed": false
   },
   "outputs": [],
   "source": [
    "results.summary()"
   ]
  },
  {
   "cell_type": "markdown",
   "metadata": {},
   "source": [
    "## Nonlinear Fitting"
   ]
  },
  {
   "cell_type": "markdown",
   "metadata": {},
   "source": [
    "Let's generate points with an arbitrary nonlinear function"
   ]
  },
  {
   "cell_type": "markdown",
   "metadata": {},
   "source": [
    "$y = \\frac{1}{2} x + \\frac{1}{2} \\sin{x} - \\frac{1}{50} (x-5)^2 + 5$"
   ]
  },
  {
   "cell_type": "markdown",
   "metadata": {},
   "source": [
    "Note: np.c\\_ is shorthand in numpy for combining columns"
   ]
  },
  {
   "cell_type": "code",
   "execution_count": null,
   "metadata": {
    "collapsed": false
   },
   "outputs": [],
   "source": [
    "# start with some fake data\n",
    "nsample = 50\n",
    "sig = 0.5\n",
    "# generate linear space\n",
    "x = np.linspace(0, 20, nsample)\n",
    "# invent function\n",
    "X = np.c_[x, np.sin(x), (x - 5)**2, np.ones(nsample)]\n",
    "# invent coefficients\n",
    "beta = [1.5, 2.5, -0.2, 15.]\n",
    "# generate |\n",
    "y_true = np.dot(X, beta)\n",
    "# add noise\n",
    "y = y_true + sig * np.random.normal(size=nsample)"
   ]
  },
  {
   "cell_type": "code",
   "execution_count": null,
   "metadata": {
    "collapsed": false
   },
   "outputs": [],
   "source": [
    "X = np.c_[x, np.sin(x), (x - 5)**2, np.ones(nsample)]\n",
    "X.shape\n",
    "x.shape\n",
    "y_true.shape"
   ]
  },
  {
   "cell_type": "code",
   "execution_count": null,
   "metadata": {
    "collapsed": false
   },
   "outputs": [],
   "source": [
    "np.random.normal(size=nsample)"
   ]
  },
  {
   "cell_type": "markdown",
   "metadata": {},
   "source": [
    "quick look at the data"
   ]
  },
  {
   "cell_type": "code",
   "execution_count": null,
   "metadata": {
    "collapsed": false
   },
   "outputs": [],
   "source": [
    "p = figure()\n",
    "p.line(x, y_true,line_color='blue')\n",
    "p.circle(x, y, color='green')\n",
    "show(p)"
   ]
  },
  {
   "cell_type": "code",
   "execution_count": null,
   "metadata": {
    "collapsed": false
   },
   "outputs": [],
   "source": [
    "res = sm.OLS(y, X).fit()\n",
    "res.summary()"
   ]
  },
  {
   "cell_type": "markdown",
   "metadata": {},
   "source": [
    "I can access the results attributes"
   ]
  },
  {
   "cell_type": "code",
   "execution_count": null,
   "metadata": {
    "collapsed": false
   },
   "outputs": [],
   "source": [
    "print res.params"
   ]
  },
  {
   "cell_type": "code",
   "execution_count": null,
   "metadata": {
    "collapsed": false
   },
   "outputs": [],
   "source": [
    "print \n",
    "res.bse"
   ]
  },
  {
   "cell_type": "code",
   "execution_count": null,
   "metadata": {
    "collapsed": false
   },
   "outputs": [],
   "source": [
    "print res.predict()"
   ]
  },
  {
   "cell_type": "markdown",
   "metadata": {},
   "source": [
    "Let's look at the fit!"
   ]
  },
  {
   "cell_type": "code",
   "execution_count": null,
   "metadata": {
    "collapsed": false
   },
   "outputs": [],
   "source": [
    "p = figure(title='Blue = True; Red = OLS')\n",
    "p.circle(x, y, color='blue')\n",
    "p.line(x, y_true, color='blue',line_width = 3)\n",
    "\n",
    "prstd, iv_l, iv_u = wls_prediction_std(res)\n",
    "\n",
    "p.line(x, res.fittedvalues, line_color= 'red', line_dash='dashed',line_width = 3)\n",
    "p.line(x, iv_u, line_color= 'red', line_dash='dashed')\n",
    "p.line(x, iv_l, line_color= 'red', line_dash='dashed')\n",
    "show(p)"
   ]
  },
  {
   "cell_type": "markdown",
   "metadata": {},
   "source": [
    "## Overfitting"
   ]
  },
  {
   "cell_type": "code",
   "execution_count": null,
   "metadata": {
    "collapsed": false
   },
   "outputs": [],
   "source": [
    "x = np.array([-0.99768, -0.69574, -0.40373, -0.10236, 0.22024, 0.47742, 0.82229,1.20044])\n",
    "y = np.array([2.0885, 1.1646, 0.3287, 0.46013, 0.44808, 0.10013, -0.32952, -0.32811])\n",
    "\n",
    "p = figure()\n",
    "p.circle(x, y, size=8,color='blue')\n",
    "show(p)"
   ]
  },
  {
   "cell_type": "markdown",
   "metadata": {},
   "source": [
    "np.vander yields a vandermonde matrix (fancy way of doing columns of x, x^2, x^3 etc. up to the second argument)"
   ]
  },
  {
   "cell_type": "code",
   "execution_count": null,
   "metadata": {
    "collapsed": false
   },
   "outputs": [],
   "source": [
    "# X = np.c_[x, np.ones(len(x))]\n",
    "X = np.vander(x, 4)\n",
    "# Same as np.c_[x]"
   ]
  },
  {
   "cell_type": "code",
   "execution_count": null,
   "metadata": {
    "collapsed": false
   },
   "outputs": [],
   "source": [
    "X"
   ]
  },
  {
   "cell_type": "code",
   "execution_count": null,
   "metadata": {
    "collapsed": false
   },
   "outputs": [],
   "source": [
    "res = sm.OLS(y, X).fit()\n",
    "res.summary()"
   ]
  },
  {
   "cell_type": "markdown",
   "metadata": {},
   "source": [
    "### Linear fit"
   ]
  },
  {
   "cell_type": "code",
   "execution_count": null,
   "metadata": {
    "collapsed": false
   },
   "outputs": [],
   "source": [
    "p = figure(title='Blue = True; Red = OLS')\n",
    "p.circle(x, y, size=8,color='blue')\n",
    "\n",
    "xx = np.linspace(-1.25,1.25,100)\n",
    "p.line(xx, res.predict(np.vander(xx,2)), color='red')\n",
    "show(p)"
   ]
  },
  {
   "cell_type": "markdown",
   "metadata": {},
   "source": [
    "### Quadratic"
   ]
  },
  {
   "cell_type": "code",
   "execution_count": null,
   "metadata": {
    "collapsed": false
   },
   "outputs": [],
   "source": [
    "X = np.c_[x**2, x, np.ones(len(x))]\n",
    "res = sm.OLS(y, X).fit()\n",
    "\n",
    "p = figure(title='Blue = True; Red = OLS')\n",
    "p.circle(x, y, size=8,color='blue')\n",
    "\n",
    "xx = np.linspace(-1.25,1.25,100)\n",
    "p.line(xx, res.predict(np.vander(xx,3)), color='red')\n",
    "show(p)"
   ]
  },
  {
   "cell_type": "markdown",
   "metadata": {},
   "source": [
    "### Quintic"
   ]
  },
  {
   "cell_type": "code",
   "execution_count": null,
   "metadata": {
    "collapsed": false
   },
   "outputs": [],
   "source": [
    "X = np.c_[x**5, x**4, x**3, x**2, x, np.ones(len(x))]\n",
    "res = sm.OLS(y, X).fit()\n",
    "\n",
    "p = figure(title='Blue = True; Red = OLS')\n",
    "p.circle(x, y, size=8,color='blue')\n",
    "\n",
    "xx = np.linspace(-1.25,1.25,100)\n",
    "p.line(xx, res.predict(np.vander(xx,6)), color='red')\n",
    "show(p)"
   ]
  },
  {
   "cell_type": "markdown",
   "metadata": {},
   "source": [
    "## Regularization"
   ]
  },
  {
   "cell_type": "code",
   "execution_count": null,
   "metadata": {
    "collapsed": false
   },
   "outputs": [],
   "source": [
    "from sklearn.linear_model import Ridge, Lasso"
   ]
  },
  {
   "cell_type": "code",
   "execution_count": null,
   "metadata": {
    "collapsed": false
   },
   "outputs": [],
   "source": [
    "ridge = Ridge(alpha = .2)\n",
    "ridge.fit(np.vander(x, 6), y)\n",
    "\n",
    "lasso = Lasso(alpha = 1)\n",
    "lasso.fit(np.vander(x, 6), y)\n",
    "\n",
    "p = figure(title='Blue = True; Red = OLS')\n",
    "p.circle(x, y, size=8,color='blue')\n",
    "\n",
    "xx = np.linspace(-1.25,1.25,100)\n",
    "p.line(xx, res.predict(np.vander(xx,6)), color='red')\n",
    "p.line(xx, ridge.predict(np.vander(xx,6)), color='green')\n",
    "p.line(xx, lasso.predict(np.vander(xx,6)), color='cyan')\n",
    "show(p)"
   ]
  }
 ],
 "metadata": {
  "kernelspec": {
   "display_name": "Python 2",
   "language": "python",
   "name": "python2"
  },
  "language_info": {
   "codemirror_mode": {
    "name": "ipython",
    "version": 2
   },
   "file_extension": ".py",
   "mimetype": "text/x-python",
   "name": "python",
   "nbconvert_exporter": "python",
   "pygments_lexer": "ipython2",
   "version": "2.7.10"
  }
 },
 "nbformat": 4,
 "nbformat_minor": 0
}
