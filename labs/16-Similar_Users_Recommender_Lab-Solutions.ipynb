{
 "cells": [
  {
   "cell_type": "markdown",
   "metadata": {},
   "source": [
    "# Similar Users Lab\n",
    "\n",
    "BUT FIRST a quick word about strings, lists, and sets:\n",
    "\n",
    "## Working with sets\n",
    "\n",
    "In mathematics, a set is a collection of distinct objects.  In Python, \"Sets\" are lists with no duplicate entries. Set objects also support mathematical operations like union, intersection, difference, and symmetric difference.\n",
    "\n",
    "_Fun fact for your next party:  Techincally, Python sets are implemented using dictionaries (under the hood)._\n",
    "\n",
    "Here are two sets of colors:\n"
   ]
  },
  {
   "cell_type": "code",
   "execution_count": 1,
   "metadata": {
    "collapsed": false
   },
   "outputs": [],
   "source": [
    "a = set([\"Red\", \"Green\", \"Blue\"])\n",
    "b = set([\"Black\", \"White\", \"Green\"])"
   ]
  },
  {
   "cell_type": "markdown",
   "metadata": {},
   "source": [
    "To find out which items are in both sets (**both sets only**), use the \"intersection\" method:"
   ]
  },
  {
   "cell_type": "code",
   "execution_count": 2,
   "metadata": {
    "collapsed": false
   },
   "outputs": [
    {
     "data": {
      "text/plain": [
       "{'Green'}"
      ]
     },
     "execution_count": 2,
     "metadata": {},
     "output_type": "execute_result"
    }
   ],
   "source": [
    "a.intersection(b)"
   ]
  },
  {
   "cell_type": "markdown",
   "metadata": {},
   "source": [
    "To find the items in a, but not b."
   ]
  },
  {
   "cell_type": "code",
   "execution_count": 3,
   "metadata": {
    "collapsed": false
   },
   "outputs": [
    {
     "data": {
      "text/plain": [
       "{'Blue', 'Red'}"
      ]
     },
     "execution_count": 3,
     "metadata": {},
     "output_type": "execute_result"
    }
   ],
   "source": [
    "a.difference(b)"
   ]
  },
  {
   "cell_type": "markdown",
   "metadata": {},
   "source": [
    "To find the items in b, but not a."
   ]
  },
  {
   "cell_type": "code",
   "execution_count": 6,
   "metadata": {
    "collapsed": false
   },
   "outputs": [
    {
     "data": {
      "text/plain": [
       "{'Black', 'White'}"
      ]
     },
     "execution_count": 6,
     "metadata": {},
     "output_type": "execute_result"
    }
   ],
   "source": [
    "b.difference(a)"
   ]
  },
  {
   "cell_type": "markdown",
   "metadata": {},
   "source": [
    "To find a list of all unique sets (aka: union):"
   ]
  },
  {
   "cell_type": "code",
   "execution_count": 7,
   "metadata": {
    "collapsed": false
   },
   "outputs": [
    {
     "data": {
      "text/plain": [
       "{'Black', 'Blue', 'Green', 'Red', 'White'}"
      ]
     },
     "execution_count": 7,
     "metadata": {},
     "output_type": "execute_result"
    }
   ],
   "source": [
    "a.union(b)"
   ]
  },
  {
   "cell_type": "markdown",
   "metadata": {},
   "source": [
    "How many are different?"
   ]
  },
  {
   "cell_type": "code",
   "execution_count": 8,
   "metadata": {
    "collapsed": false
   },
   "outputs": [
    {
     "name": "stdout",
     "output_type": "stream",
     "text": [
      "Number of different items in b:  2\n"
     ]
    }
   ],
   "source": [
    "print \"Number of different items in b:  %d\" % len(b.difference(a))"
   ]
  },
  {
   "cell_type": "markdown",
   "metadata": {},
   "source": [
    "## From Sets to Lists\n",
    "\n",
    "Now that we're experts with working with Python sets.  Let's get savvy working with lists and unstructured data.\n",
    "\n",
    "Using the split() method on a string, we can \"split\" it by a delimiter, to be used as a list.  By default, the .split() method can be applied to any string object, and will automatically split on spaces.  \n",
    "\n",
    "*You can pass a parameter to split to change which character it will split on, such as \",\", if you're trying to turn a comma seprated list of items into a list.*\n",
    "\n",
    "The following will turn a space delimited *string* into a **list**."
   ]
  },
  {
   "cell_type": "code",
   "execution_count": 9,
   "metadata": {
    "collapsed": false
   },
   "outputs": [
    {
     "data": {
      "text/plain": [
       "['my',\n",
       " 'name',\n",
       " 'is',\n",
       " 'dave',\n",
       " 'my',\n",
       " 'name',\n",
       " 'is',\n",
       " 'dave',\n",
       " 'my',\n",
       " 'name',\n",
       " 'is',\n",
       " 'dave']"
      ]
     },
     "execution_count": 9,
     "metadata": {},
     "output_type": "execute_result"
    }
   ],
   "source": [
    "\"my name is dave my name is dave my name is dave\".split()"
   ]
  },
  {
   "cell_type": "markdown",
   "metadata": {},
   "source": [
    "What's up with this though?  Well all know \"my name is dave\", but if we had many values, it would be hard to know which of them are unique.  That's when we use sets."
   ]
  },
  {
   "cell_type": "code",
   "execution_count": 10,
   "metadata": {
    "collapsed": false
   },
   "outputs": [
    {
     "data": {
      "text/plain": [
       "{'dave', 'is', 'my', 'name'}"
      ]
     },
     "execution_count": 10,
     "metadata": {},
     "output_type": "execute_result"
    }
   ],
   "source": [
    "set(\"my name is dave my name is dave my name is dave\".split())"
   ]
  },
  {
   "cell_type": "markdown",
   "metadata": {},
   "source": [
    "Ok so we should know enough to conquer our jaccard distance problem, and step into our real problem:\n",
    "\n",
    "## Who has similar tastes in music?\n",
    "\n",
    "What we will attempt, is building a small process that takes feedback from a survey, mapping a distance function to find similar users based on Jaccard.\n",
    "\n",
    "Along the way we will be:\n",
    "* Working with requests\n",
    "* Understanding Python fundamentals with sets and lists\n",
    "* Cleaning up bad data\n",
    "* Implementing Jaccard distance function\n",
    "* Finding similar users\n",
    "\n",
    "First, we will be taking a survey!  Let's all visit the survey posted in the channel before continuing.\n",
    "\n",
    "*[Check out #General]*"
   ]
  },
  {
   "cell_type": "markdown",
   "metadata": {},
   "source": [
    "Hopefully everything goes smooothly.  It's possible that I may need to modify the permissions on the sheet or provide a CSV snapshot if we hit a snag.\n",
    "\n",
    "We will be loading our results via HTTP, then loading them into Pandas via StringIO which allows us to interoperate on strings as if they were file resources, then load them as a Dataframe.  This is setup for us now."
   ]
  },
  {
   "cell_type": "code",
   "execution_count": 60,
   "metadata": {
    "collapsed": false
   },
   "outputs": [],
   "source": [
    "import pandas as pd\n",
    "import requests\n",
    "\n",
    "from StringIO import StringIO  \n",
    "\n",
    "%matplotlib inline\n",
    "\n",
    "spreadsheet = \"https://docs.google.com/spreadsheets/d/1cpUb7XbN-qOq4xbGdYfhY9FtrMqRd0izz4PmTPMejt0/export?format=csv&id=1cpUb7XbN-qOq4xbGdYfhY9FtrMqRd0izz4PmTPMejt0&gid=216538035\"\n",
    "http = requests.get(spreadsheet)\n",
    "csv_data = StringIO(http.content)\n",
    "df = pd.read_csv(csv_data, index_col=0)"
   ]
  },
  {
   "cell_type": "code",
   "execution_count": 61,
   "metadata": {
    "collapsed": false
   },
   "outputs": [
    {
     "data": {
      "text/html": [
       "<div style=\"max-height:1000px;max-width:1500px;overflow:auto;\">\n",
       "<table border=\"1\" class=\"dataframe\">\n",
       "  <thead>\n",
       "    <tr style=\"text-align: right;\">\n",
       "      <th></th>\n",
       "      <th>Name</th>\n",
       "      <th>Favorite Genres / Genres you like</th>\n",
       "      <th>What time of day do you like to listen to music?</th>\n",
       "    </tr>\n",
       "    <tr>\n",
       "      <th>Timestamp</th>\n",
       "      <th></th>\n",
       "      <th></th>\n",
       "      <th></th>\n",
       "    </tr>\n",
       "  </thead>\n",
       "  <tbody>\n",
       "    <tr>\n",
       "      <th>2/8/2016 2:09:12</th>\n",
       "      <td>        Dave</td>\n",
       "      <td> Blues, Classical, Electronic Music, Hip Hop / ...</td>\n",
       "      <td>                                         24/7</td>\n",
       "    </tr>\n",
       "    <tr>\n",
       "      <th>2/8/2016 20:56:27</th>\n",
       "      <td>  Brian Zhou</td>\n",
       "      <td> Alternative Music, Dance, Electronic Music, Hi...</td>\n",
       "      <td>                                        Night</td>\n",
       "    </tr>\n",
       "    <tr>\n",
       "      <th>2/8/2016 20:56:44</th>\n",
       "      <td>       Colby</td>\n",
       "      <td>        Blues, Electronic Music, Indie Pop, Reggae</td>\n",
       "      <td>            Morning, Night, Special occasions</td>\n",
       "    </tr>\n",
       "    <tr>\n",
       "      <th>2/8/2016 20:56:46</th>\n",
       "      <td>   Porpoises</td>\n",
       "      <td> Alternative Music, Dance, Easy Listening, Elec...</td>\n",
       "      <td>                                         24/7</td>\n",
       "    </tr>\n",
       "    <tr>\n",
       "      <th>2/8/2016 20:56:50</th>\n",
       "      <td>         Tam</td>\n",
       "      <td> Classical, Dance, Easy Listening, Jazz, Pop, R...</td>\n",
       "      <td>                                         24/7</td>\n",
       "    </tr>\n",
       "    <tr>\n",
       "      <th>2/8/2016 20:57:12</th>\n",
       "      <td>      Scully</td>\n",
       "      <td> Alternative Music, Blues, Classical, European ...</td>\n",
       "      <td> Morning, Afternoon, Night, Special occasions</td>\n",
       "    </tr>\n",
       "    <tr>\n",
       "      <th>2/8/2016 20:57:16</th>\n",
       "      <td> Mike Levine</td>\n",
       "      <td> Classical, Hip Hop / Rap, Jazz, Pop, R&amp;B / Sou...</td>\n",
       "      <td>                                         24/7</td>\n",
       "    </tr>\n",
       "    <tr>\n",
       "      <th>2/8/2016 20:57:17</th>\n",
       "      <td>        Yomi</td>\n",
       "      <td>                             Jazz, Pop, R&amp;B / Soul</td>\n",
       "      <td>                             Afternoon, Night</td>\n",
       "    </tr>\n",
       "    <tr>\n",
       "      <th>2/8/2016 20:57:20</th>\n",
       "      <td>      Esther</td>\n",
       "      <td> Alternative Music, Indie Pop, Singer / Songwri...</td>\n",
       "      <td>                    Afternoon, Night, workday</td>\n",
       "    </tr>\n",
       "    <tr>\n",
       "      <th>2/8/2016 20:57:26</th>\n",
       "      <td>        Eric</td>\n",
       "      <td> Alternative Music, Dance, Hip Hop / Rap, Asian...</td>\n",
       "      <td>                                    Afternoon</td>\n",
       "    </tr>\n",
       "  </tbody>\n",
       "</table>\n",
       "</div>"
      ],
      "text/plain": [
       "                          Name  \\\n",
       "Timestamp                        \n",
       "2/8/2016 2:09:12          Dave   \n",
       "2/8/2016 20:56:27   Brian Zhou   \n",
       "2/8/2016 20:56:44        Colby   \n",
       "2/8/2016 20:56:46    Porpoises   \n",
       "2/8/2016 20:56:50          Tam   \n",
       "2/8/2016 20:57:12       Scully   \n",
       "2/8/2016 20:57:16  Mike Levine   \n",
       "2/8/2016 20:57:17         Yomi   \n",
       "2/8/2016 20:57:20       Esther   \n",
       "2/8/2016 20:57:26         Eric   \n",
       "\n",
       "                                   Favorite Genres / Genres you like  \\\n",
       "Timestamp                                                              \n",
       "2/8/2016 2:09:12   Blues, Classical, Electronic Music, Hip Hop / ...   \n",
       "2/8/2016 20:56:27  Alternative Music, Dance, Electronic Music, Hi...   \n",
       "2/8/2016 20:56:44         Blues, Electronic Music, Indie Pop, Reggae   \n",
       "2/8/2016 20:56:46  Alternative Music, Dance, Easy Listening, Elec...   \n",
       "2/8/2016 20:56:50  Classical, Dance, Easy Listening, Jazz, Pop, R...   \n",
       "2/8/2016 20:57:12  Alternative Music, Blues, Classical, European ...   \n",
       "2/8/2016 20:57:16  Classical, Hip Hop / Rap, Jazz, Pop, R&B / Sou...   \n",
       "2/8/2016 20:57:17                              Jazz, Pop, R&B / Soul   \n",
       "2/8/2016 20:57:20  Alternative Music, Indie Pop, Singer / Songwri...   \n",
       "2/8/2016 20:57:26  Alternative Music, Dance, Hip Hop / Rap, Asian...   \n",
       "\n",
       "                  What time of day do you like to listen to music?  \n",
       "Timestamp                                                           \n",
       "2/8/2016 2:09:12                                              24/7  \n",
       "2/8/2016 20:56:27                                            Night  \n",
       "2/8/2016 20:56:44                Morning, Night, Special occasions  \n",
       "2/8/2016 20:56:46                                             24/7  \n",
       "2/8/2016 20:56:50                                             24/7  \n",
       "2/8/2016 20:57:12     Morning, Afternoon, Night, Special occasions  \n",
       "2/8/2016 20:57:16                                             24/7  \n",
       "2/8/2016 20:57:17                                 Afternoon, Night  \n",
       "2/8/2016 20:57:20                        Afternoon, Night, workday  \n",
       "2/8/2016 20:57:26                                        Afternoon  "
      ]
     },
     "execution_count": 61,
     "metadata": {},
     "output_type": "execute_result"
    }
   ],
   "source": [
    "df.head(10)"
   ]
  },
  {
   "cell_type": "markdown",
   "metadata": {},
   "source": [
    "**1. Rename the genre feature**\n",
    "\n",
    "We get bad data from spreadsheets all the time.  This case, it's coming from a survey.  For ease of reference, rename the feature **\"Favorite Genres / Genres you like\"** to **\"genres\"**.\n"
   ]
  },
  {
   "cell_type": "code",
   "execution_count": 102,
   "metadata": {
    "collapsed": false
   },
   "outputs": [],
   "source": [
    "# Renaming the time of day feature for later as well\n",
    "\n",
    "columns = { \n",
    "    \"Favorite Genres / Genres you like\": \"genres\", \n",
    "    \"What time of day do you like to listen to music?\": \"times\"\n",
    "}\n",
    "\n",
    "df.rename(columns=columns, inplace=True)"
   ]
  },
  {
   "cell_type": "markdown",
   "metadata": {},
   "source": [
    "**2. Select only your response from the new \"genre\" feature**\n",
    "\n",
    "Try printing out only the first value, where df[\"Name\"] == \"[Your name]\"."
   ]
  },
  {
   "cell_type": "code",
   "execution_count": 63,
   "metadata": {
    "collapsed": false
   },
   "outputs": [
    {
     "data": {
      "text/html": [
       "<div style=\"max-height:1000px;max-width:1500px;overflow:auto;\">\n",
       "<table border=\"1\" class=\"dataframe\">\n",
       "  <thead>\n",
       "    <tr style=\"text-align: right;\">\n",
       "      <th></th>\n",
       "      <th>Name</th>\n",
       "      <th>genres</th>\n",
       "      <th>What time of day do you like to listen to music?</th>\n",
       "    </tr>\n",
       "    <tr>\n",
       "      <th>Timestamp</th>\n",
       "      <th></th>\n",
       "      <th></th>\n",
       "      <th></th>\n",
       "    </tr>\n",
       "  </thead>\n",
       "  <tbody>\n",
       "    <tr>\n",
       "      <th>2/8/2016 2:09:12</th>\n",
       "      <td> Dave</td>\n",
       "      <td> Blues, Classical, Electronic Music, Hip Hop / ...</td>\n",
       "      <td> 24/7</td>\n",
       "    </tr>\n",
       "  </tbody>\n",
       "</table>\n",
       "</div>"
      ],
      "text/plain": [
       "                  Name                                             genres  \\\n",
       "Timestamp                                                                   \n",
       "2/8/2016 2:09:12  Dave  Blues, Classical, Electronic Music, Hip Hop / ...   \n",
       "\n",
       "                 What time of day do you like to listen to music?  \n",
       "Timestamp                                                          \n",
       "2/8/2016 2:09:12                                             24/7  "
      ]
     },
     "execution_count": 63,
     "metadata": {},
     "output_type": "execute_result"
    }
   ],
   "source": [
    "df[df['Name'] == \"Dave\"]"
   ]
  },
  {
   "cell_type": "markdown",
   "metadata": {},
   "source": [
    "**3. Take your survey response for \"genre\", and split it into a list, equal to the number of responses you chose**\n",
    "\n",
    "For example if you chose \"Blues, Reggae, Electronic Music\", convert it to a list that looks like [\"Blues\", \"Raggae\", \"Electronic Music\"]."
   ]
  },
  {
   "cell_type": "code",
   "execution_count": 64,
   "metadata": {
    "collapsed": false
   },
   "outputs": [
    {
     "data": {
      "text/plain": [
       "['Blues, Classical, Electronic Music, Hip Hop / Rap, Jazz, Reggae, World Music / Beats, Everything']"
      ]
     },
     "execution_count": 64,
     "metadata": {},
     "output_type": "execute_result"
    }
   ],
   "source": [
    "# You can use .values or .iloc\n",
    "# df[df['Name'] == \"Dave\"]['genres'].iloc[0]\n",
    "df[df['Name'] == \"Dave\"]['genres'].values[0].split(\" ,\")"
   ]
  },
  {
   "cell_type": "markdown",
   "metadata": {},
   "source": [
    "**4. Create a function that takes 2 lists, then calculate Jaccard distance**\n",
    "\n",
    "0-60 mph I know but you can do this!  Double check our slides, and refer to the set operations for how to calculate this.  \n",
    "\n",
    "Here is a boilerplate to get you going."
   ]
  },
  {
   "cell_type": "code",
   "execution_count": 65,
   "metadata": {
    "collapsed": false
   },
   "outputs": [
    {
     "data": {
      "text/plain": [
       "0.4"
      ]
     },
     "execution_count": 65,
     "metadata": {},
     "output_type": "execute_result"
    }
   ],
   "source": [
    "def jaccard(list1, list2):\n",
    "    \n",
    "    a = set(list1)\n",
    "    b = set(list2)\n",
    "    \n",
    "    numerator = len(a.intersection(b)) * 1.0 # * 1.0 to cast as a float\n",
    "    denominator = len(a.union(b)) * 1.0\n",
    "\n",
    "    return numerator / denominator\n",
    "\n",
    "list1 = ['blue', 'green', 'yellow']\n",
    "list2 = ['black', 'orange', 'yellow', 'green']\n",
    "\n",
    "jaccard(list1, list2)"
   ]
  },
  {
   "cell_type": "markdown",
   "metadata": {},
   "source": [
    "**5.  Now for our final trick, calculate the distance between your genre preferences vs everyone else.**\n",
    "\n",
    "Loop through everyone in the dataframe, create a list out of their \"genre\" string, echo out their name, then finally the distance between you and their sets."
   ]
  },
  {
   "cell_type": "code",
   "execution_count": 99,
   "metadata": {
    "collapsed": false
   },
   "outputs": [],
   "source": [
    "def apply_jaccard(row):\n",
    "\n",
    "    if type(row['genres']) is str:        \n",
    "        user_genres = row['genres'].split(\", \")\n",
    "    else:\n",
    "        user_genres = []\n",
    "        \n",
    "    row['jaccard_distance'] = jaccard(my_genres, user_genres)\n",
    "    \n",
    "    return row\n",
    "    \n",
    "my_genres =  df[df['Name'] == \"Dave\"]['genres'].values[0].split(\", \")\n",
    "my_recs   =  df.apply(apply_jaccard, axis=1)\n"
   ]
  },
  {
   "cell_type": "code",
   "execution_count": 100,
   "metadata": {
    "collapsed": false
   },
   "outputs": [
    {
     "name": "stdout",
     "output_type": "stream",
     "text": [
      "Similar users to 'Dave'\n"
     ]
    },
    {
     "data": {
      "text/html": [
       "<div style=\"max-height:1000px;max-width:1500px;overflow:auto;\">\n",
       "<table border=\"1\" class=\"dataframe\">\n",
       "  <thead>\n",
       "    <tr style=\"text-align: right;\">\n",
       "      <th></th>\n",
       "      <th>Name</th>\n",
       "      <th>jaccard_distance</th>\n",
       "    </tr>\n",
       "    <tr>\n",
       "      <th>Timestamp</th>\n",
       "      <th></th>\n",
       "      <th></th>\n",
       "    </tr>\n",
       "  </thead>\n",
       "  <tbody>\n",
       "    <tr>\n",
       "      <th>2/8/2016 20:57:26</th>\n",
       "      <td>           Lexi</td>\n",
       "      <td> 1.000000</td>\n",
       "    </tr>\n",
       "    <tr>\n",
       "      <th>2/8/2016 20:57:26</th>\n",
       "      <td>           Eric</td>\n",
       "      <td> 0.777778</td>\n",
       "    </tr>\n",
       "    <tr>\n",
       "      <th>2/8/2016 20:58:30</th>\n",
       "      <td>         Denton</td>\n",
       "      <td> 0.500000</td>\n",
       "    </tr>\n",
       "    <tr>\n",
       "      <th>2/8/2016 20:58:30</th>\n",
       "      <td>      Han Solo </td>\n",
       "      <td> 0.400000</td>\n",
       "    </tr>\n",
       "    <tr>\n",
       "      <th>2/8/2016 20:56:46</th>\n",
       "      <td>      Porpoises</td>\n",
       "      <td> 0.384615</td>\n",
       "    </tr>\n",
       "    <tr>\n",
       "      <th>2/8/2016 20:58:09</th>\n",
       "      <td>       nicaless</td>\n",
       "      <td> 0.357143</td>\n",
       "    </tr>\n",
       "    <tr>\n",
       "      <th>2/8/2016 20:57:41</th>\n",
       "      <td> dexter/falafel</td>\n",
       "      <td> 0.333333</td>\n",
       "    </tr>\n",
       "    <tr>\n",
       "      <th>2/8/2016 20:57:16</th>\n",
       "      <td>    Mike Levine</td>\n",
       "      <td> 0.333333</td>\n",
       "    </tr>\n",
       "    <tr>\n",
       "      <th>2/8/2016 20:56:27</th>\n",
       "      <td>     Brian Zhou</td>\n",
       "      <td> 0.333333</td>\n",
       "    </tr>\n",
       "    <tr>\n",
       "      <th>2/8/2016 20:58:45</th>\n",
       "      <td>         Justin</td>\n",
       "      <td> 0.300000</td>\n",
       "    </tr>\n",
       "    <tr>\n",
       "      <th>2/8/2016 20:56:50</th>\n",
       "      <td>            Tam</td>\n",
       "      <td> 0.250000</td>\n",
       "    </tr>\n",
       "    <tr>\n",
       "      <th>2/8/2016 20:57:17</th>\n",
       "      <td>           Yomi</td>\n",
       "      <td> 0.222222</td>\n",
       "    </tr>\n",
       "    <tr>\n",
       "      <th>2/8/2016 20:57:28</th>\n",
       "      <td>           Ilma</td>\n",
       "      <td> 0.200000</td>\n",
       "    </tr>\n",
       "    <tr>\n",
       "      <th>2/8/2016 2:09:12</th>\n",
       "      <td>           Dave</td>\n",
       "      <td> 0.142857</td>\n",
       "    </tr>\n",
       "    <tr>\n",
       "      <th>2/8/2016 20:58:58</th>\n",
       "      <td>           Marc</td>\n",
       "      <td> 0.125000</td>\n",
       "    </tr>\n",
       "    <tr>\n",
       "      <th>2/8/2016 20:56:44</th>\n",
       "      <td>          Colby</td>\n",
       "      <td> 0.090909</td>\n",
       "    </tr>\n",
       "    <tr>\n",
       "      <th>2/8/2016 20:59:22</th>\n",
       "      <td>        Cartier</td>\n",
       "      <td> 0.090909</td>\n",
       "    </tr>\n",
       "    <tr>\n",
       "      <th>2/8/2016 20:57:40</th>\n",
       "      <td>   Mike Steiner</td>\n",
       "      <td> 0.071429</td>\n",
       "    </tr>\n",
       "    <tr>\n",
       "      <th>2/8/2016 20:57:12</th>\n",
       "      <td>         Scully</td>\n",
       "      <td> 0.071429</td>\n",
       "    </tr>\n",
       "    <tr>\n",
       "      <th>2/8/2016 20:57:20</th>\n",
       "      <td>         Esther</td>\n",
       "      <td> 0.000000</td>\n",
       "    </tr>\n",
       "    <tr>\n",
       "      <th>2/8/2016 20:58:35</th>\n",
       "      <td>           Marc</td>\n",
       "      <td> 0.000000</td>\n",
       "    </tr>\n",
       "    <tr>\n",
       "      <th>2/8/2016 20:59:20</th>\n",
       "      <td>           MATT</td>\n",
       "      <td> 0.000000</td>\n",
       "    </tr>\n",
       "  </tbody>\n",
       "</table>\n",
       "</div>"
      ],
      "text/plain": [
       "                             Name  jaccard_distance\n",
       "Timestamp                                          \n",
       "2/8/2016 20:57:26            Lexi          1.000000\n",
       "2/8/2016 20:57:26            Eric          0.777778\n",
       "2/8/2016 20:58:30          Denton          0.500000\n",
       "2/8/2016 20:58:30       Han Solo           0.400000\n",
       "2/8/2016 20:56:46       Porpoises          0.384615\n",
       "2/8/2016 20:58:09        nicaless          0.357143\n",
       "2/8/2016 20:57:41  dexter/falafel          0.333333\n",
       "2/8/2016 20:57:16     Mike Levine          0.333333\n",
       "2/8/2016 20:56:27      Brian Zhou          0.333333\n",
       "2/8/2016 20:58:45          Justin          0.300000\n",
       "2/8/2016 20:56:50             Tam          0.250000\n",
       "2/8/2016 20:57:17            Yomi          0.222222\n",
       "2/8/2016 20:57:28            Ilma          0.200000\n",
       "2/8/2016 2:09:12             Dave          0.142857\n",
       "2/8/2016 20:58:58            Marc          0.125000\n",
       "2/8/2016 20:56:44           Colby          0.090909\n",
       "2/8/2016 20:59:22         Cartier          0.090909\n",
       "2/8/2016 20:57:40    Mike Steiner          0.071429\n",
       "2/8/2016 20:57:12          Scully          0.071429\n",
       "2/8/2016 20:57:20          Esther          0.000000\n",
       "2/8/2016 20:58:35            Marc          0.000000\n",
       "2/8/2016 20:59:20            MATT          0.000000"
      ]
     },
     "execution_count": 100,
     "metadata": {},
     "output_type": "execute_result"
    }
   ],
   "source": [
    "print \"Similar users to 'Dave'\"\n",
    "my_recs[['Name', 'jaccard_distance']].sort('jaccard_distance', ascending=False)\n"
   ]
  },
  {
   "cell_type": "markdown",
   "metadata": {},
   "source": [
    "**Optional 6. Try calculating the distance on the time of day feature.**\n",
    "\n",
    "Try to make a new dataframe, for just you vs everyone, using jaccard, and time of day.  Is there any interesting patterns you see?"
   ]
  },
  {
   "cell_type": "code",
   "execution_count": 107,
   "metadata": {
    "collapsed": false
   },
   "outputs": [
    {
     "data": {
      "text/html": [
       "<div style=\"max-height:1000px;max-width:1500px;overflow:auto;\">\n",
       "<table border=\"1\" class=\"dataframe\">\n",
       "  <thead>\n",
       "    <tr style=\"text-align: right;\">\n",
       "      <th></th>\n",
       "      <th>Name</th>\n",
       "      <th>jaccard_distance</th>\n",
       "    </tr>\n",
       "    <tr>\n",
       "      <th>Timestamp</th>\n",
       "      <th></th>\n",
       "      <th></th>\n",
       "    </tr>\n",
       "  </thead>\n",
       "  <tbody>\n",
       "    <tr>\n",
       "      <th>2/8/2016 2:09:12</th>\n",
       "      <td>           Dave</td>\n",
       "      <td> 1.000000</td>\n",
       "    </tr>\n",
       "    <tr>\n",
       "      <th>2/8/2016 20:57:41</th>\n",
       "      <td> dexter/falafel</td>\n",
       "      <td> 1.000000</td>\n",
       "    </tr>\n",
       "    <tr>\n",
       "      <th>2/8/2016 20:56:46</th>\n",
       "      <td>      Porpoises</td>\n",
       "      <td> 1.000000</td>\n",
       "    </tr>\n",
       "    <tr>\n",
       "      <th>2/8/2016 20:56:50</th>\n",
       "      <td>            Tam</td>\n",
       "      <td> 1.000000</td>\n",
       "    </tr>\n",
       "    <tr>\n",
       "      <th>2/8/2016 20:57:16</th>\n",
       "      <td>    Mike Levine</td>\n",
       "      <td> 1.000000</td>\n",
       "    </tr>\n",
       "    <tr>\n",
       "      <th>2/8/2016 20:57:40</th>\n",
       "      <td>   Mike Steiner</td>\n",
       "      <td> 1.000000</td>\n",
       "    </tr>\n",
       "    <tr>\n",
       "      <th>2/8/2016 20:58:09</th>\n",
       "      <td>       nicaless</td>\n",
       "      <td> 0.166667</td>\n",
       "    </tr>\n",
       "    <tr>\n",
       "      <th>2/8/2016 20:59:20</th>\n",
       "      <td>           MATT</td>\n",
       "      <td> 0.142857</td>\n",
       "    </tr>\n",
       "    <tr>\n",
       "      <th>2/8/2016 20:58:58</th>\n",
       "      <td>           Marc</td>\n",
       "      <td> 0.142857</td>\n",
       "    </tr>\n",
       "    <tr>\n",
       "      <th>2/8/2016 20:58:45</th>\n",
       "      <td>         Justin</td>\n",
       "      <td> 0.000000</td>\n",
       "    </tr>\n",
       "    <tr>\n",
       "      <th>2/8/2016 20:58:35</th>\n",
       "      <td>           Marc</td>\n",
       "      <td> 0.000000</td>\n",
       "    </tr>\n",
       "    <tr>\n",
       "      <th>2/8/2016 20:58:30</th>\n",
       "      <td>      Han Solo </td>\n",
       "      <td> 0.000000</td>\n",
       "    </tr>\n",
       "    <tr>\n",
       "      <th>2/8/2016 20:58:30</th>\n",
       "      <td>         Denton</td>\n",
       "      <td> 0.000000</td>\n",
       "    </tr>\n",
       "    <tr>\n",
       "      <th>2/8/2016 20:57:28</th>\n",
       "      <td>           Ilma</td>\n",
       "      <td> 0.000000</td>\n",
       "    </tr>\n",
       "    <tr>\n",
       "      <th>2/8/2016 20:56:27</th>\n",
       "      <td>     Brian Zhou</td>\n",
       "      <td> 0.000000</td>\n",
       "    </tr>\n",
       "    <tr>\n",
       "      <th>2/8/2016 20:57:26</th>\n",
       "      <td>           Lexi</td>\n",
       "      <td> 0.000000</td>\n",
       "    </tr>\n",
       "    <tr>\n",
       "      <th>2/8/2016 20:57:26</th>\n",
       "      <td>           Eric</td>\n",
       "      <td> 0.000000</td>\n",
       "    </tr>\n",
       "    <tr>\n",
       "      <th>2/8/2016 20:57:20</th>\n",
       "      <td>         Esther</td>\n",
       "      <td> 0.000000</td>\n",
       "    </tr>\n",
       "    <tr>\n",
       "      <th>2/8/2016 20:57:17</th>\n",
       "      <td>           Yomi</td>\n",
       "      <td> 0.000000</td>\n",
       "    </tr>\n",
       "    <tr>\n",
       "      <th>2/8/2016 20:57:12</th>\n",
       "      <td>         Scully</td>\n",
       "      <td> 0.000000</td>\n",
       "    </tr>\n",
       "    <tr>\n",
       "      <th>2/8/2016 20:56:44</th>\n",
       "      <td>          Colby</td>\n",
       "      <td> 0.000000</td>\n",
       "    </tr>\n",
       "    <tr>\n",
       "      <th>2/8/2016 20:59:22</th>\n",
       "      <td>        Cartier</td>\n",
       "      <td> 0.000000</td>\n",
       "    </tr>\n",
       "  </tbody>\n",
       "</table>\n",
       "</div>"
      ],
      "text/plain": [
       "                             Name  jaccard_distance\n",
       "Timestamp                                          \n",
       "2/8/2016 2:09:12             Dave          1.000000\n",
       "2/8/2016 20:57:41  dexter/falafel          1.000000\n",
       "2/8/2016 20:56:46       Porpoises          1.000000\n",
       "2/8/2016 20:56:50             Tam          1.000000\n",
       "2/8/2016 20:57:16     Mike Levine          1.000000\n",
       "2/8/2016 20:57:40    Mike Steiner          1.000000\n",
       "2/8/2016 20:58:09        nicaless          0.166667\n",
       "2/8/2016 20:59:20            MATT          0.142857\n",
       "2/8/2016 20:58:58            Marc          0.142857\n",
       "2/8/2016 20:58:45          Justin          0.000000\n",
       "2/8/2016 20:58:35            Marc          0.000000\n",
       "2/8/2016 20:58:30       Han Solo           0.000000\n",
       "2/8/2016 20:58:30          Denton          0.000000\n",
       "2/8/2016 20:57:28            Ilma          0.000000\n",
       "2/8/2016 20:56:27      Brian Zhou          0.000000\n",
       "2/8/2016 20:57:26            Lexi          0.000000\n",
       "2/8/2016 20:57:26            Eric          0.000000\n",
       "2/8/2016 20:57:20          Esther          0.000000\n",
       "2/8/2016 20:57:17            Yomi          0.000000\n",
       "2/8/2016 20:57:12          Scully          0.000000\n",
       "2/8/2016 20:56:44           Colby          0.000000\n",
       "2/8/2016 20:59:22         Cartier          0.000000"
      ]
     },
     "execution_count": 107,
     "metadata": {},
     "output_type": "execute_result"
    }
   ],
   "source": [
    "def apply_jaccard(row):\n",
    "\n",
    "    if type(row['times']) is str:        \n",
    "        user_times = row['times'].split(\", \")\n",
    "    else:\n",
    "        user_times = []\n",
    "        \n",
    "    row['jaccard_distance'] = jaccard(my_times, user_times)\n",
    "    \n",
    "    return row\n",
    "\n",
    "my_times =  df[df['Name'] == \"Dave\"]['times'].values[0].split(\", \")\n",
    "my_recs  =  df.apply(apply_jaccard, axis=1)\n",
    "\n",
    "my_recs[['Name', 'jaccard_distance']].sort('jaccard_distance', ascending=False)\n"
   ]
  },
  {
   "cell_type": "markdown",
   "metadata": {},
   "source": [
    "**Optional 7. What can you say about the selection of options for genre or time and what they mean?**"
   ]
  },
  {
   "cell_type": "markdown",
   "metadata": {
    "collapsed": true
   },
   "source": [
    "One thing that is pretty obvious is that there are fewer options for times of day.  Times of day is much more broad and may not be a great predictor of personalizable characteristics within the dataset.\n",
    "\n",
    "Also, options that broadly generalize preferences that already exist in the set that you're collecting is diminishing the preference value.  For instance options such as \"24/7\", \"all\", \"everything\", could describe other options in the same set and don't point to a preference to anything specific.  If you're going to ask explicitly for feedback, then these items will certainly not be very useful."
   ]
  },
  {
   "cell_type": "code",
   "execution_count": null,
   "metadata": {
    "collapsed": true
   },
   "outputs": [],
   "source": []
  }
 ],
 "metadata": {
  "kernelspec": {
   "display_name": "Python 2",
   "language": "python",
   "name": "python2"
  },
  "language_info": {
   "codemirror_mode": {
    "name": "ipython",
    "version": 2
   },
   "file_extension": ".py",
   "mimetype": "text/x-python",
   "name": "python",
   "nbconvert_exporter": "python",
   "pygments_lexer": "ipython2",
   "version": "2.7.9"
  }
 },
 "nbformat": 4,
 "nbformat_minor": 0
}
