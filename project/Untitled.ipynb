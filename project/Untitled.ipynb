{
 "cells": [
  {
   "cell_type": "code",
   "execution_count": 1,
   "metadata": {
    "collapsed": false
   },
   "outputs": [],
   "source": [
    "import urllib2, sys\n",
    "from bs4 import BeautifulSoup\n",
    "import pandas as pd\n",
    "urltemplate2 = \"http://nbasavant.com/apps/combine.php?txtLastName=&txtFirstName=&ddlPosition=&ddlSeason={year}&txtWeightGT=&txtWeightLT=&txtHeightGT=&txtHeightLT=&txtBodyFatGT=&txtBodyFatLT=&txtVerticalGT=&txtVerticalLT=&txtWingspanGT=&txtWingspanLT=#results\"\n",
    "combine_df = pd.DataFrame()"
   ]
  },
  {
   "cell_type": "code",
   "execution_count": 5,
   "metadata": {
    "collapsed": false
   },
   "outputs": [],
   "source": [
    "for year in range(2000, 2011):\n",
    "    url = urltemplate2.format(year=year)  # get the url\n",
    "    \n",
    "    hdr = {'User-Agent': 'Mozilla/5.0'}\n",
    "    req = urllib2.Request(url,headers=hdr)\n",
    "    page = urllib2.urlopen(req)\n",
    "    soup = BeautifulSoup(page)\n",
    "    \n",
    "    data_rows = soup.findAll('tr')[1:]  # skip the first header row\n",
    "    player_data = [[td.getText() for td in data_rows[i].findAll('th')]\n",
    "               for i in range(len(data_rows))]\n",
    "    \n",
    "    column_headers = [th.getText() for th in \n",
    "                  soup.findAll('tr')[0].findAll('th')]\n",
    "    \n",
    "    # Turn yearly data into a DataFrame\n",
    "    year_df = pd.DataFrame(player_data, columns=column_headers)\n",
    "    \n",
    "    # Append to the big dataframe\n",
    "    combine_df = combine_df.append(year_df, ignore_index=True)\n"
   ]
  },
  {
   "cell_type": "code",
   "execution_count": 6,
   "metadata": {
    "collapsed": false
   },
   "outputs": [
    {
     "data": {
      "text/html": [
       "<div>\n",
       "<table border=\"1\" class=\"dataframe\">\n",
       "  <thead>\n",
       "    <tr style=\"text-align: right;\">\n",
       "      <th></th>\n",
       "      <th>Name</th>\n",
       "      <th>Pos.</th>\n",
       "      <th>Weight</th>\n",
       "      <th>Height</th>\n",
       "      <th>Body Fat</th>\n",
       "      <th>Vertical</th>\n",
       "      <th>Wingspan</th>\n",
       "      <th>Standing Reach</th>\n",
       "      <th>T.Q. Spring</th>\n",
       "      <th>L.A.T.</th>\n",
       "      <th>Season</th>\n",
       "    </tr>\n",
       "  </thead>\n",
       "  <tbody>\n",
       "    <tr>\n",
       "      <th>0</th>\n",
       "      <td>Allen, Malik</td>\n",
       "      <td>PF-C</td>\n",
       "      <td>271.00</td>\n",
       "      <td>0.00</td>\n",
       "      <td>0.00</td>\n",
       "      <td>29.00</td>\n",
       "      <td>86.50</td>\n",
       "      <td>109.00</td>\n",
       "      <td>3.38</td>\n",
       "      <td>11.83</td>\n",
       "      <td>2000</td>\n",
       "    </tr>\n",
       "    <tr>\n",
       "      <th>1</th>\n",
       "      <td>Arceneaux, Harold</td>\n",
       "      <td>SG-SF</td>\n",
       "      <td>219.00</td>\n",
       "      <td>0.00</td>\n",
       "      <td>0.00</td>\n",
       "      <td>29.00</td>\n",
       "      <td>80.50</td>\n",
       "      <td>103.00</td>\n",
       "      <td>0.00</td>\n",
       "      <td>13.80</td>\n",
       "      <td>2000</td>\n",
       "    </tr>\n",
       "    <tr>\n",
       "      <th>2</th>\n",
       "      <td>Barnes, Lamont</td>\n",
       "      <td>PF-C</td>\n",
       "      <td>235.50</td>\n",
       "      <td>0.00</td>\n",
       "      <td>0.00</td>\n",
       "      <td>29.50</td>\n",
       "      <td>87.50</td>\n",
       "      <td>108.00</td>\n",
       "      <td>3.40</td>\n",
       "      <td>12.30</td>\n",
       "      <td>2000</td>\n",
       "    </tr>\n",
       "    <tr>\n",
       "      <th>3</th>\n",
       "      <td>Bland, Mario</td>\n",
       "      <td>PF</td>\n",
       "      <td>287.00</td>\n",
       "      <td>0.00</td>\n",
       "      <td>0.00</td>\n",
       "      <td>31.00</td>\n",
       "      <td>84.00</td>\n",
       "      <td>103.00</td>\n",
       "      <td>3.47</td>\n",
       "      <td>13.04</td>\n",
       "      <td>2000</td>\n",
       "    </tr>\n",
       "    <tr>\n",
       "      <th>4</th>\n",
       "      <td>Brezec, Primoz</td>\n",
       "      <td>C</td>\n",
       "      <td>243.00</td>\n",
       "      <td>0.00</td>\n",
       "      <td>0.00</td>\n",
       "      <td>29.50</td>\n",
       "      <td>86.00</td>\n",
       "      <td>110.00</td>\n",
       "      <td>3.55</td>\n",
       "      <td>11.53</td>\n",
       "      <td>2000</td>\n",
       "    </tr>\n",
       "  </tbody>\n",
       "</table>\n",
       "</div>"
      ],
      "text/plain": [
       "                Name   Pos.  Weight Height Body Fat Vertical Wingspan  \\\n",
       "0       Allen, Malik   PF-C  271.00   0.00     0.00    29.00    86.50   \n",
       "1  Arceneaux, Harold  SG-SF  219.00   0.00     0.00    29.00    80.50   \n",
       "2     Barnes, Lamont   PF-C  235.50   0.00     0.00    29.50    87.50   \n",
       "3       Bland, Mario     PF  287.00   0.00     0.00    31.00    84.00   \n",
       "4     Brezec, Primoz      C  243.00   0.00     0.00    29.50    86.00   \n",
       "\n",
       "  Standing Reach T.Q. Spring L.A.T. Season  \n",
       "0         109.00        3.38  11.83   2000  \n",
       "1         103.00        0.00  13.80   2000  \n",
       "2         108.00        3.40  12.30   2000  \n",
       "3         103.00        3.47  13.04   2000  \n",
       "4         110.00        3.55  11.53   2000  "
      ]
     },
     "execution_count": 6,
     "metadata": {},
     "output_type": "execute_result"
    }
   ],
   "source": [
    "combine_df.head()\n"
   ]
  },
  {
   "cell_type": "code",
   "execution_count": 22,
   "metadata": {
    "collapsed": false
   },
   "outputs": [],
   "source": [
    "First=combine_df.Name.apply(lambda x: x.split(',')[1])\n",
    "Last=combine_df.Name.apply(lambda x: x.split(',')[0])\n"
   ]
  },
  {
   "cell_type": "code",
   "execution_count": null,
   "metadata": {
    "collapsed": false
   },
   "outputs": [],
   "source": [
    "column_headers"
   ]
  },
  {
   "cell_type": "code",
   "execution_count": null,
   "metadata": {
    "collapsed": false
   },
   "outputs": [],
   "source": [
    "data_rows = soup.findAll('tr')[1:]  # skip the first header row\n",
    "type(data_rows)  # now we have a list of table rows\n"
   ]
  },
  {
   "cell_type": "code",
   "execution_count": null,
   "metadata": {
    "collapsed": false
   },
   "outputs": [],
   "source": [
    "player_data = [[td.getText() for td in data_rows[i].findAll('th')]\n",
    "               for i in range(len(data_rows))]\n",
    "player_data"
   ]
  },
  {
   "cell_type": "code",
   "execution_count": null,
   "metadata": {
    "collapsed": false
   },
   "outputs": [],
   "source": [
    "df = pd.DataFrame(player_data, columns=column_headers)\n",
    "df.head()  # head() lets us see the 1st 5 rows of our DataFrame by default\n"
   ]
  },
  {
   "cell_type": "code",
   "execution_count": null,
   "metadata": {
    "collapsed": false
   },
   "outputs": [],
   "source": []
  },
  {
   "cell_type": "code",
   "execution_count": null,
   "metadata": {
    "collapsed": false
   },
   "outputs": [],
   "source": [
    "# Finding the None rows\n",
    "df[df['Pk'].isnull()]"
   ]
  },
  {
   "cell_type": "code",
   "execution_count": null,
   "metadata": {
    "collapsed": true
   },
   "outputs": [],
   "source": []
  }
 ],
 "metadata": {
  "kernelspec": {
   "display_name": "Python 2",
   "language": "python",
   "name": "python2"
  },
  "language_info": {
   "codemirror_mode": {
    "name": "ipython",
    "version": 2
   },
   "file_extension": ".py",
   "mimetype": "text/x-python",
   "name": "python",
   "nbconvert_exporter": "python",
   "pygments_lexer": "ipython2",
   "version": "2.7.11"
  }
 },
 "nbformat": 4,
 "nbformat_minor": 0
}
